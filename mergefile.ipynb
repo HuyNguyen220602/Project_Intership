{
 "cells": [
  {
   "attachments": {},
   "cell_type": "markdown",
   "metadata": {},
   "source": [
    "Concentration file "
   ]
  },
  {
   "cell_type": "code",
   "execution_count": 3,
   "metadata": {},
   "outputs": [],
   "source": [
    "import pandas as pd\n",
    "\n",
    "# Đọc dữ liệu từ hai file CSV\n",
    "df1 = pd.read_csv(r'F:\\Project NLP\\Benh_vien_news-20230724T101517Z-001\\Benh_vien_news\\bv_binhdan_khudieutri_ktc_1015.csv', encoding='utf-8')\n",
    "df2 = pd.read_csv(r'F:\\Project NLP\\Benh_vien_news-20230724T101517Z-001\\Benh_vien_news\\bv_dakhoa-tamanh_841.csv', encoding='utf-8')\n",
    "df3 = pd.read_csv(r'F:\\Project NLP\\Benh_vien_news-20230724T101517Z-001\\Benh_vien_news\\bv_mat-viet-nga_777.csv', encoding='utf-8')\n",
    "df4 = pd.read_csv(r'F:\\Project NLP\\Benh_vien_news-20230724T101517Z-001\\Benh_vien_news\\bv_nhandan-giadinh_826.csv', encoding='utf-8')\n",
    "df5 = pd.read_csv(r'F:\\Project NLP\\Benh_vien_news-20230724T101517Z-001\\Benh_vien_news\\bv_nhietdoi_940.csv', encoding='utf-8')\n",
    "df6 = pd.read_csv(r'F:\\Project NLP\\Benh_vien_news-20230724T101517Z-001\\Benh_vien_news\\bv_rang-ham-mat_875.csv', encoding='utf-8')\n",
    "df7 = pd.read_csv(r'F:\\Project NLP\\Benh_vien_news-20230724T101517Z-001\\Benh_vien_news\\bv_rang-ham-mat-tw_1120.csv', encoding='utf-8')\n",
    "df8 = pd.read_csv(r'F:\\Project NLP\\Benh_vien_news-20230724T101517Z-001\\Benh_vien_news\\bv_Vigor-Health_831.csv', encoding='utf-8')"
   ]
  },
  {
   "cell_type": "code",
   "execution_count": 19,
   "metadata": {},
   "outputs": [],
   "source": [
    "df_1 = pd.read_csv(r\"F:\\Project NLP\\Huy's_data.csv\", encoding='utf-8')\n",
    "df_2 = pd.read_csv(r'F:\\Project NLP\\Data.csv', encoding='utf-8')"
   ]
  },
  {
   "cell_type": "code",
   "execution_count": 20,
   "metadata": {},
   "outputs": [],
   "source": [
    "# Make sure column names match\n",
    "df_1.columns = df_2.columns "
   ]
  },
  {
   "cell_type": "code",
   "execution_count": 21,
   "metadata": {},
   "outputs": [],
   "source": [
    "# Concatenate the dataframes\n",
    "concatenated_df = pd.concat([df_1, df_2])"
   ]
  },
  {
   "cell_type": "code",
   "execution_count": 22,
   "metadata": {},
   "outputs": [],
   "source": [
    "# Save the result to a new CSV file\n",
    "concatenated_df.to_csv('Huy_Total_data.csv', index=False, encoding='utf-8-sig')"
   ]
  },
  {
   "cell_type": "code",
   "execution_count": 18,
   "metadata": {},
   "outputs": [],
   "source": [
    "import pandas as pd\n",
    "\n",
    "# Read the CSV file containing your dataset\n",
    "df = pd.read_csv('F:\\Project NLP\\Huy_Big_data.csv')\n",
    "\n",
    "# Define a function to assign sentiment labels based on the \"Rate\" column\n",
    "def assign_sentiment(rate):\n",
    "    if rate in [\"1 star\", \"2 stars\"]:\n",
    "        return \"Negative\"\n",
    "    elif rate == \"3 stars\":\n",
    "        return \"Neutral\"\n",
    "    elif rate in [\"4 stars\" , \"5 stars\"]:\n",
    "        return \"Positive\"\n",
    "    else:\n",
    "        return \"Unknown\"\n",
    "\n",
    "# Apply the function to create the \"sentiment\" column\n",
    "df['sentiment'] = df['Rating'].apply(assign_sentiment)\n",
    " \n",
    "# Save the updated DataFrame to a new CSV file\n",
    "df.to_csv('Data.csv', index=False, encoding='utf-8-sig')"
   ]
  },
  {
   "cell_type": "code",
   "execution_count": 10,
   "metadata": {},
   "outputs": [],
   "source": [
    "import pandas as pd\n",
    "\n",
    "# Read the CSV file containing your dataset\n",
    "df = pd.read_csv('Data.csv')\n",
    "\n",
    "# Remove \"...\" from sentences in the \"comment\" column\n",
    "df['Comment'] = df['Comment'].str.replace('(\\.\\.\\.|…)', '', regex=True)\n",
    "\n",
    "# Save the updated DataFrame to a new CSV file\n",
    "df.to_csv('your_updated_dataset.csv', index=False, encoding='utf-8-sig')"
   ]
  },
  {
   "cell_type": "code",
   "execution_count": 13,
   "metadata": {},
   "outputs": [],
   "source": [
    "import pandas as pd\n",
    "\n",
    "# Read the CSV file containing your dataset\n",
    "df = pd.read_csv('F:\\Project NLP\\your_updated_dataset.csv')\n",
    "\n",
    "# Remove \"...\" and \"..\" from sentences in the \"comment\" column\n",
    "df['Comment'] = df['Comment'].str.replace('(\\.\\.\\.|…|\\.\\.)', '', regex=True)\n",
    "\n",
    "# Save the updated DataFrame to a new CSV file\n",
    "df.to_csv('your_updated_dataset_2.csv', index=False, encoding='utf-8-sig')"
   ]
  },
  {
   "attachments": {},
   "cell_type": "markdown",
   "metadata": {},
   "source": [
    "Visualize "
   ]
  },
  {
   "cell_type": "code",
   "execution_count": 23,
   "metadata": {},
   "outputs": [],
   "source": [
    "import pandas as pd \n",
    "data = pd.read_csv(\"F:\\Project NLP\\Huy_Total_data.csv\", encoding='utf-8')"
   ]
  },
  {
   "cell_type": "code",
   "execution_count": 24,
   "metadata": {},
   "outputs": [
    {
     "data": {
      "text/html": [
       "<div>\n",
       "<style scoped>\n",
       "    .dataframe tbody tr th:only-of-type {\n",
       "        vertical-align: middle;\n",
       "    }\n",
       "\n",
       "    .dataframe tbody tr th {\n",
       "        vertical-align: top;\n",
       "    }\n",
       "\n",
       "    .dataframe thead th {\n",
       "        text-align: right;\n",
       "    }\n",
       "</style>\n",
       "<table border=\"1\" class=\"dataframe\">\n",
       "  <thead>\n",
       "    <tr style=\"text-align: right;\">\n",
       "      <th></th>\n",
       "      <th>Time</th>\n",
       "      <th>Review Text</th>\n",
       "      <th>Rating</th>\n",
       "      <th>sentiment</th>\n",
       "    </tr>\n",
       "  </thead>\n",
       "  <tbody>\n",
       "    <tr>\n",
       "      <th>count</th>\n",
       "      <td>10295</td>\n",
       "      <td>10295</td>\n",
       "      <td>10295</td>\n",
       "      <td>10295</td>\n",
       "    </tr>\n",
       "    <tr>\n",
       "      <th>unique</th>\n",
       "      <td>44</td>\n",
       "      <td>9543</td>\n",
       "      <td>5</td>\n",
       "      <td>3</td>\n",
       "    </tr>\n",
       "    <tr>\n",
       "      <th>top</th>\n",
       "      <td>a year ago</td>\n",
       "      <td>Dịch vụ tốt</td>\n",
       "      <td>5 stars</td>\n",
       "      <td>Positive</td>\n",
       "    </tr>\n",
       "    <tr>\n",
       "      <th>freq</th>\n",
       "      <td>1323</td>\n",
       "      <td>45</td>\n",
       "      <td>4012</td>\n",
       "      <td>5663</td>\n",
       "    </tr>\n",
       "  </tbody>\n",
       "</table>\n",
       "</div>"
      ],
      "text/plain": [
       "              Time  Review Text   Rating sentiment\n",
       "count        10295        10295    10295     10295\n",
       "unique          44         9543        5         3\n",
       "top     a year ago  Dịch vụ tốt  5 stars  Positive\n",
       "freq          1323           45     4012      5663"
      ]
     },
     "execution_count": 24,
     "metadata": {},
     "output_type": "execute_result"
    }
   ],
   "source": [
    "data.describe()"
   ]
  },
  {
   "cell_type": "code",
   "execution_count": 25,
   "metadata": {},
   "outputs": [
    {
     "name": "stdout",
     "output_type": "stream",
     "text": [
      "<class 'pandas.core.frame.DataFrame'>\n",
      "RangeIndex: 10295 entries, 0 to 10294\n",
      "Data columns (total 4 columns):\n",
      " #   Column       Non-Null Count  Dtype \n",
      "---  ------       --------------  ----- \n",
      " 0   Time         10295 non-null  object\n",
      " 1   Review Text  10295 non-null  object\n",
      " 2   Rating       10295 non-null  object\n",
      " 3   sentiment    10295 non-null  object\n",
      "dtypes: object(4)\n",
      "memory usage: 321.8+ KB\n"
     ]
    }
   ],
   "source": [
    "data.info()"
   ]
  },
  {
   "cell_type": "code",
   "execution_count": 26,
   "metadata": {},
   "outputs": [
    {
     "name": "stdout",
     "output_type": "stream",
     "text": [
      "Rating 1 star: 3146 occurrences\n",
      "Rating 2 stars: 555 occurrences\n",
      "Rating 3 stars: 931 occurrences\n",
      "Rating 4 stars: 1651 occurrences\n",
      "Rating 5 stars: 4012 occurrences\n"
     ]
    }
   ],
   "source": [
    "# Count the occurrences of each number in the \"review_rating\" column\n",
    "rating_counts = data['Rating'].value_counts().sort_index()\n",
    "\n",
    "# Display the counts\n",
    "for rating, count in rating_counts.items():\n",
    "    print(f\"Rating {rating}: {count} occurrences\")"
   ]
  },
  {
   "cell_type": "code",
   "execution_count": 27,
   "metadata": {},
   "outputs": [
    {
     "name": "stdout",
     "output_type": "stream",
     "text": [
      "Rating Negative: 3701 occurrences\n",
      "Rating Neutral: 931 occurrences\n",
      "Rating Positive: 5663 occurrences\n"
     ]
    }
   ],
   "source": [
    "# Count the occurrences of each number in the \"review_rating\" column\n",
    "rating_counts = data['sentiment'].value_counts().sort_index()\n",
    "\n",
    "# Display the counts\n",
    "for rating, count in rating_counts.items():\n",
    "    print(f\"Rating {rating}: {count} occurrences\")"
   ]
  },
  {
   "cell_type": "code",
   "execution_count": 28,
   "metadata": {},
   "outputs": [
    {
     "data": {
      "text/html": [
       "<div>\n",
       "<style scoped>\n",
       "    .dataframe tbody tr th:only-of-type {\n",
       "        vertical-align: middle;\n",
       "    }\n",
       "\n",
       "    .dataframe tbody tr th {\n",
       "        vertical-align: top;\n",
       "    }\n",
       "\n",
       "    .dataframe thead th {\n",
       "        text-align: right;\n",
       "    }\n",
       "</style>\n",
       "<table border=\"1\" class=\"dataframe\">\n",
       "  <thead>\n",
       "    <tr style=\"text-align: right;\">\n",
       "      <th></th>\n",
       "      <th>Time</th>\n",
       "      <th>Review Text</th>\n",
       "      <th>Rating</th>\n",
       "      <th>sentiment</th>\n",
       "    </tr>\n",
       "  </thead>\n",
       "  <tbody>\n",
       "    <tr>\n",
       "      <th>count</th>\n",
       "      <td>10295</td>\n",
       "      <td>10295</td>\n",
       "      <td>10295</td>\n",
       "      <td>10295</td>\n",
       "    </tr>\n",
       "    <tr>\n",
       "      <th>unique</th>\n",
       "      <td>44</td>\n",
       "      <td>9543</td>\n",
       "      <td>5</td>\n",
       "      <td>3</td>\n",
       "    </tr>\n",
       "    <tr>\n",
       "      <th>top</th>\n",
       "      <td>a year ago</td>\n",
       "      <td>Dịch vụ tốt</td>\n",
       "      <td>5 stars</td>\n",
       "      <td>Positive</td>\n",
       "    </tr>\n",
       "    <tr>\n",
       "      <th>freq</th>\n",
       "      <td>1323</td>\n",
       "      <td>45</td>\n",
       "      <td>4012</td>\n",
       "      <td>5663</td>\n",
       "    </tr>\n",
       "  </tbody>\n",
       "</table>\n",
       "</div>"
      ],
      "text/plain": [
       "              Time  Review Text   Rating sentiment\n",
       "count        10295        10295    10295     10295\n",
       "unique          44         9543        5         3\n",
       "top     a year ago  Dịch vụ tốt  5 stars  Positive\n",
       "freq          1323           45     4012      5663"
      ]
     },
     "execution_count": 28,
     "metadata": {},
     "output_type": "execute_result"
    }
   ],
   "source": [
    "#Checking Summary of categorical columns\n",
    "data.describe(include=\"object\")"
   ]
  },
  {
   "cell_type": "code",
   "execution_count": 29,
   "metadata": {},
   "outputs": [
    {
     "data": {
      "image/png": "[encoded data removed]",
      "text/plain": [
       "<Figure size 640x480 with 1 Axes>"
      ]
     },
     "metadata": {},
     "output_type": "display_data"
    }
   ],
   "source": [
    "import matplotlib.pyplot as plt\n",
    "\n",
    "# Define colors for each rating\n",
    "colors = ['red', 'orange', 'yellow', 'green', 'blue']\n",
    "\n",
    "# Create a bar chart with colors\n",
    "plt.bar(rating_counts.index, rating_counts.values, color=colors)\n",
    "\n",
    "# Set labels and title\n",
    "plt.xlabel('Rating')\n",
    "plt.ylabel('Count')\n",
    "plt.title('Count of Ratings')\n",
    "\n",
    "# Display the chart\n",
    "plt.show()"
   ]
  }
 ],
 "metadata": {
  "kernelspec": {
   "display_name": "Python 3",
   "language": "python",
   "name": "python3"
  },
  "language_info": {
   "codemirror_mode": {
    "name": "ipython",
    "version": 3
   },
   "file_extension": ".py",
   "mimetype": "text/x-python",
   "name": "python",
   "nbconvert_exporter": "python",
   "pygments_lexer": "ipython3",
   "version": "3.10.10"
  },
  "orig_nbformat": 4
 },
 "nbformat": 4,
 "nbformat_minor": 2
}
