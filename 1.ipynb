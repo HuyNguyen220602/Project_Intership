{
 "cells": [
  {
   "cell_type": "code",
   "execution_count": 1,
   "id": "53ed3bb6",
   "metadata": {},
   "outputs": [
    {
     "name": "stderr",
     "output_type": "stream",
     "text": [
      "C:\\Users\\NguyenDucHuy\\AppData\\Local\\Temp\\ipykernel_8148\\2446717878.py:12: DeprecationWarning: Selenium Tools for Microsoft Edge is deprecated. Please upgrade to Selenium 4 which has built-in support for Microsoft Edge (Chromium): https://docs.microsoft.com/en-us/microsoft-edge/webdriver-chromium/#upgrading-from-selenium-3\n",
      "  driver = Edge(executable_path=driver_path, options=options)\n"
     ]
    }
   ],
   "source": [
    "from selenium import webdriver\n",
    "from msedge.selenium_tools import options as EdgeOptions\n",
    "from msedge.selenium_tools import Edge, EdgeOptions\n",
    "import time \n",
    "\n",
    "options = EdgeOptions()\n",
    "options.add_argument(\"--lang=vi\")\n",
    "\n",
    "driver_path = 'C:\\Program Files (x86)\\Microsoft\\Edge\\Application\\msedgedriver.exe'\n",
    "\n",
    "# Create a Microsoft Edge WebDriver instance with options\n",
    "driver = Edge(executable_path=driver_path, options=options)\n",
    "\n",
    "driver.get(\"https://www.google.com/maps/place/B%E1%BB%87nh+vi%E1%BB%87n+%C4%90%E1%BA%A1i+h%E1%BB%8Dc+Y+D%C6%B0%E1%BB%A3c+TP.HCM/@10.7552452,106.6618958,17z/data=!3m1!4b1!4m8!3m7!1s0x31752efa87dc6d6d:0x4feb0a1e755b6d62!8m2!3d10.7552399!4d106.6644707!9m1!1b1!16s%2Fg%2F11g6mdmpzh?entry=ttu\")\n"
   ]
  },
  {
   "cell_type": "code",
   "execution_count": 2,
   "id": "161e1801",
   "metadata": {},
   "outputs": [
    {
     "name": "stdout",
     "output_type": "stream",
     "text": [
      "University Medical Center - Google Maps\n"
     ]
    }
   ],
   "source": [
    "print(driver.title)"
   ]
  },
  {
   "cell_type": "code",
   "execution_count": 3,
   "id": "51405c5d",
   "metadata": {},
   "outputs": [
    {
     "name": "stdout",
     "output_type": "stream",
     "text": [
      "1,774\n"
     ]
    }
   ],
   "source": [
    "total_number_of_reviews = driver.find_element_by_xpath('//*[@id=\"QA0Szd\"]/div/div/div[1]/div[2]/div/div[1]/div/div/div[3]/div[2]/div/div[2]/div[2]').text.split(\" \")[0]\n",
    "print(total_number_of_reviews)\n",
    "total_number_of_reviews = int(total_number_of_reviews.replace(',','')) if ',' in total_number_of_reviews else int(total_number_of_reviews)"
   ]
  },
  {
   "cell_type": "code",
   "execution_count": 4,
   "id": "ac1681c8",
   "metadata": {},
   "outputs": [],
   "source": [
    "import time\n",
    "\n",
    "SCROLL_PAUSE_TIME = 10\n",
    "\n",
    "scrollable_div = driver.find_element_by_xpath('//*[@id=\"QA0Szd\"]/div/div/div[1]/div[2]/div/div[1]/div/div/div[3]')\n",
    "\n",
    "# Get scroll height\n",
    "last_height = driver.execute_script(\"return arguments[0].scrollHeight\", scrollable_div)\n",
    "\n",
    "while True:\n",
    "    # Scroll down to bottom\n",
    "    driver.execute_script(\"arguments[0].scrollTop = arguments[0].scrollHeight\", scrollable_div)\n",
    "\n",
    "    # Wait to load page\n",
    "    time.sleep(SCROLL_PAUSE_TIME)\n",
    "\n",
    "    # Calculate new scroll height and compare with last scroll height\n",
    "    new_height = driver.execute_script(\"return arguments[0].scrollHeight\", scrollable_div)\n",
    "    if new_height == last_height:\n",
    "        break\n",
    "    last_height = new_height"
   ]
  },
  {
   "cell_type": "code",
   "execution_count": null,
   "id": "a1c464ae",
   "metadata": {},
   "outputs": [],
   "source": [
    "from selenium.webdriver.common.by import By\n",
    "from selenium.webdriver.common.action_chains import ActionChains\n",
    "from selenium.webdriver.support.ui import WebDriverWait\n",
    "from selenium.webdriver.support import expected_conditions as EC\n",
    "import time\n",
    "\n",
    "while True:\n",
    "    try:\n",
    "        see_more_buttons = driver.find_elements_by_css_selector('[aria-label=\"See more\"]')\n",
    "        if not see_more_buttons:\n",
    "            break\n",
    "        for button in see_more_buttons:\n",
    "            actions = ActionChains(driver)\n",
    "            actions.move_to_element(button).perform()\n",
    "            WebDriverWait(driver, 5).until(EC.element_to_be_clickable((By.CSS_SELECTOR, '[aria-label=\"See more\"]'))).click()\n",
    "            time.sleep(2)\n",
    "    except Exception as e:\n",
    "        print(e)\n",
    "        break"
   ]
  },
  {
   "cell_type": "code",
   "execution_count": null,
   "id": "aef11b11",
   "metadata": {},
   "outputs": [],
   "source": [
    "from bs4 import BeautifulSoup\n",
    "\n",
    "def get_review_summary(result_set):\n",
    "    rev_dict = {\n",
    "        'Review Time': [],\n",
    "        'Review Text' : [],\n",
    "        'Review Rate': [],}\n",
    "    for result in result_set:\n",
    "\n",
    "        review_rate = result.find('span', class_='kvMYJc')[\"aria-label\"]\n",
    "        review_time = result.find('span', class_=\"rsqaWe\").text.strip()\n",
    "        review_text = result.find('span',class_='wiI7pd')\n",
    "    \n",
    "        if review_text is None:\n",
    "            rev_dict['Review Text'].append('')\n",
    "        else:\n",
    "            rev_dict['Review Text'].append(review_text.text.strip())\n",
    "        \n",
    "        rev_dict[\"Review Time\"].append(review_time)\n",
    "        \n",
    "        rev_dict['Review Rate'].append(review_rate)\n",
    "    return rev_dict"
   ]
  },
  {
   "cell_type": "code",
   "execution_count": null,
   "id": "455c43d8",
   "metadata": {},
   "outputs": [],
   "source": [
    "import pandas as pd\n",
    "response = BeautifulSoup(driver.page_source, 'html.parser')\n",
    "reviews = response.find_all('div', class_='jftiEf')\n",
    "rev_dict = get_review_summary(reviews)"
   ]
  },
  {
   "cell_type": "code",
   "execution_count": null,
   "id": "3deb7a9b",
   "metadata": {},
   "outputs": [],
   "source": [
    "print(len(rev_dict[\"Review Text\"]))"
   ]
  },
  {
   "cell_type": "code",
   "execution_count": null,
   "id": "15276062",
   "metadata": {},
   "outputs": [],
   "source": [
    "df = pd.DataFrame.from_dict(rev_dict)\n",
    "df.columns = [\"Time\", \"Review Text\", \"Rating\"]"
   ]
  },
  {
   "cell_type": "code",
   "execution_count": null,
   "id": "da5ee396",
   "metadata": {},
   "outputs": [],
   "source": [
    "df.to_csv(\"DHYD-review.csv\",encoding='utf-8-sig')"
   ]
  },
  {
   "cell_type": "code",
   "execution_count": null,
   "id": "7a50715f",
   "metadata": {},
   "outputs": [],
   "source": [
    "pd.read_csv(\"DHYD-review.csv\", index_col=\"Unnamed: 0\")"
   ]
  }
 ],
 "metadata": {
  "kernelspec": {
   "display_name": "Python 3 (ipykernel)",
   "language": "python",
   "name": "python3"
  },
  "language_info": {
   "codemirror_mode": {
    "name": "ipython",
    "version": 3
   },
   "file_extension": ".py",
   "mimetype": "text/x-python",
   "name": "python",
   "nbconvert_exporter": "python",
   "pygments_lexer": "ipython3",
   "version": "3.10.10"
  }
 },
 "nbformat": 4,
 "nbformat_minor": 5
}
