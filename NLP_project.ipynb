{
  "cells": [
    {
      "cell_type": "code",
      "execution_count": 1,
      "metadata": {
        "colab": {
          "base_uri": "https://localhost:8080/"
        },
        "id": "44Q46kTNEvMU",
        "outputId": "977d86e3-9876-471e-ef36-b02037236b41"
      },
      "outputs": [
        {
          "name": "stdout",
          "output_type": "stream",
          "text": [
            "Drive already mounted at /content/gdrive; to attempt to forcibly remount, call drive.mount(\"/content/gdrive\", force_remount=True).\n"
          ]
        }
      ],
      "source": [
        "from google.colab import drive\n",
        "drive.mount('/content/gdrive')"
      ]
    },
    {
      "cell_type": "code",
      "execution_count": 2,
      "metadata": {
        "id": "FgvtkuGers_R"
      },
      "outputs": [],
      "source": [
        "import re\n",
        "import string\n",
        "import requests\n",
        "import numpy as np\n",
        "import pandas as pd\n",
        "import tensorflow as tf\n",
        "import matplotlib.pyplot as plt\n",
        "from sklearn.metrics import accuracy_score, f1_score, confusion_matrix"
      ]
    },
    {
      "cell_type": "code",
      "execution_count": 3,
      "metadata": {
        "id": "1_9eJFuwrs6P"
      },
      "outputs": [],
      "source": [
        "train_path = \"/content/gdrive/MyDrive/Colab Notebooks/Data/Huy's_data.csv\"\n",
        "test_path = \"/content/gdrive/MyDrive/Colab Notebooks/Data/Huy's_data.csv\""
      ]
    },
    {
      "cell_type": "code",
      "execution_count": 4,
      "metadata": {
        "id": "qbQtxPLMrs1u"
      },
      "outputs": [],
      "source": [
        "df_train = pd.read_csv(train_path, encoding='utf-8')\n",
        "df_test = pd.read_csv(test_path, encoding='utf-8')"
      ]
    },
    {
      "cell_type": "code",
      "execution_count": 5,
      "metadata": {
        "colab": {
          "base_uri": "https://localhost:8080/",
          "height": 241
        },
        "id": "Cgv1UuQprsyL",
        "outputId": "d96e49a0-c900-4984-95ae-e37a819ef6e7"
      },
      "outputs": [
        {
          "name": "stderr",
          "output_type": "stream",
          "text": [
            "<ipython-input-5-401799ab302e>:7: FutureWarning: The frame.append method is deprecated and will be removed from pandas in a future version. Use pandas.concat instead.\n",
            "  df = df_train.append(df_test, ignore_index=False).drop([\"Time\", \"Rating\"], axis=1)\n"
          ]
        },
        {
          "data": {
            "text/html": [
              "\n",
              "\n",
              "  <div id=\"df-c8bae1a9-d2aa-4f24-a209-51f5e0be9a3f\">\n",
              "    <div class=\"colab-df-container\">\n",
              "      <div>\n",
              "<style scoped>\n",
              "    .dataframe tbody tr th:only-of-type {\n",
              "        vertical-align: middle;\n",
              "    }\n",
              "\n",
              "    .dataframe tbody tr th {\n",
              "        vertical-align: top;\n",
              "    }\n",
              "\n",
              "    .dataframe thead th {\n",
              "        text-align: right;\n",
              "    }\n",
              "</style>\n",
              "<table border=\"1\" class=\"dataframe\">\n",
              "  <thead>\n",
              "    <tr style=\"text-align: right;\">\n",
              "      <th></th>\n",
              "      <th>Review Text</th>\n",
              "      <th>sentiment</th>\n",
              "    </tr>\n",
              "  </thead>\n",
              "  <tbody>\n",
              "    <tr>\n",
              "      <th>0</th>\n",
              "      <td>Came here once to do endoscopy. Terrible servi...</td>\n",
              "      <td>Negative</td>\n",
              "    </tr>\n",
              "    <tr>\n",
              "      <th>1</th>\n",
              "      <td>Bệnh viện khá hiện đại. Vị trí thuận lợi đến v...</td>\n",
              "      <td>Neutral</td>\n",
              "    </tr>\n",
              "    <tr>\n",
              "      <th>2</th>\n",
              "      <td>Bệnh viện Đại học Y Dược là bệnh viện đa khoa,...</td>\n",
              "      <td>Positive</td>\n",
              "    </tr>\n",
              "    <tr>\n",
              "      <th>3</th>\n",
              "      <td>Lần đầu tiên đưa ba đi khám tổng quát tại Bệnh...</td>\n",
              "      <td>Positive</td>\n",
              "    </tr>\n",
              "    <tr>\n",
              "      <th>4</th>\n",
              "      <td>26/05/2023. 1 ngày trải nghiệm tại bv Đại Học ...</td>\n",
              "      <td>Positive</td>\n",
              "    </tr>\n",
              "  </tbody>\n",
              "</table>\n",
              "</div>\n",
              "      <button class=\"colab-df-convert\" onclick=\"convertToInteractive('df-c8bae1a9-d2aa-4f24-a209-51f5e0be9a3f')\"\n",
              "              title=\"Convert this dataframe to an interactive table.\"\n",
              "              style=\"display:none;\">\n",
              "\n",
              "  <svg xmlns=\"http://www.w3.org/2000/svg\" height=\"24px\"viewBox=\"0 0 24 24\"\n",
              "       width=\"24px\">\n",
              "    <path d=\"M0 0h24v24H0V0z\" fill=\"none\"/>\n",
              "    <path d=\"M18.56 5.44l.94 2.06.94-2.06 2.06-.94-2.06-.94-.94-2.06-.94 2.06-2.06.94zm-11 1L8.5 8.5l.94-2.06 2.06-.94-2.06-.94L8.5 2.5l-.94 2.06-2.06.94zm10 10l.94 2.06.94-2.06 2.06-.94-2.06-.94-.94-2.06-.94 2.06-2.06.94z\"/><path d=\"M17.41 7.96l-1.37-1.37c-.4-.4-.92-.59-1.43-.59-.52 0-1.04.2-1.43.59L10.3 9.45l-7.72 7.72c-.78.78-.78 2.05 0 2.83L4 21.41c.39.39.9.59 1.41.59.51 0 1.02-.2 1.41-.59l7.78-7.78 2.81-2.81c.8-.78.8-2.07 0-2.86zM5.41 20L4 18.59l7.72-7.72 1.47 1.35L5.41 20z\"/>\n",
              "  </svg>\n",
              "      </button>\n",
              "\n",
              "\n",
              "\n",
              "    <div id=\"df-144f1594-5b67-4b53-85c8-5e530c01bdd6\">\n",
              "      <button class=\"colab-df-quickchart\" onclick=\"quickchart('df-144f1594-5b67-4b53-85c8-5e530c01bdd6')\"\n",
              "              title=\"Suggest charts.\"\n",
              "              style=\"display:none;\">\n",
              "\n",
              "<svg xmlns=\"http://www.w3.org/2000/svg\" height=\"24px\"viewBox=\"0 0 24 24\"\n",
              "     width=\"24px\">\n",
              "    <g>\n",
              "        <path d=\"M19 3H5c-1.1 0-2 .9-2 2v14c0 1.1.9 2 2 2h14c1.1 0 2-.9 2-2V5c0-1.1-.9-2-2-2zM9 17H7v-7h2v7zm4 0h-2V7h2v10zm4 0h-2v-4h2v4z\"/>\n",
              "    </g>\n",
              "</svg>\n",
              "      </button>\n",
              "    </div>\n",
              "\n",
              "<style>\n",
              "  .colab-df-quickchart {\n",
              "    background-color: #E8F0FE;\n",
              "    border: none;\n",
              "    border-radius: 50%;\n",
              "    cursor: pointer;\n",
              "    display: none;\n",
              "    fill: #1967D2;\n",
              "    height: 32px;\n",
              "    padding: 0 0 0 0;\n",
              "    width: 32px;\n",
              "  }\n",
              "\n",
              "  .colab-df-quickchart:hover {\n",
              "    background-color: #E2EBFA;\n",
              "    box-shadow: 0px 1px 2px rgba(60, 64, 67, 0.3), 0px 1px 3px 1px rgba(60, 64, 67, 0.15);\n",
              "    fill: #174EA6;\n",
              "  }\n",
              "\n",
              "  [theme=dark] .colab-df-quickchart {\n",
              "    background-color: #3B4455;\n",
              "    fill: #D2E3FC;\n",
              "  }\n",
              "\n",
              "  [theme=dark] .colab-df-quickchart:hover {\n",
              "    background-color: #434B5C;\n",
              "    box-shadow: 0px 1px 3px 1px rgba(0, 0, 0, 0.15);\n",
              "    filter: drop-shadow(0px 1px 2px rgba(0, 0, 0, 0.3));\n",
              "    fill: #FFFFFF;\n",
              "  }\n",
              "</style>\n",
              "\n",
              "    <script>\n",
              "      async function quickchart(key) {\n",
              "        const containerElement = document.querySelector('#' + key);\n",
              "        const charts = await google.colab.kernel.invokeFunction(\n",
              "            'suggestCharts', [key], {});\n",
              "      }\n",
              "    </script>\n",
              "\n",
              "      <script>\n",
              "\n",
              "function displayQuickchartButton(domScope) {\n",
              "  let quickchartButtonEl =\n",
              "    domScope.querySelector('#df-144f1594-5b67-4b53-85c8-5e530c01bdd6 button.colab-df-quickchart');\n",
              "  quickchartButtonEl.style.display =\n",
              "    google.colab.kernel.accessAllowed ? 'block' : 'none';\n",
              "}\n",
              "\n",
              "        displayQuickchartButton(document);\n",
              "      </script>\n",
              "      <style>\n",
              "    .colab-df-container {\n",
              "      display:flex;\n",
              "      flex-wrap:wrap;\n",
              "      gap: 12px;\n",
              "    }\n",
              "\n",
              "    .colab-df-convert {\n",
              "      background-color: #E8F0FE;\n",
              "      border: none;\n",
              "      border-radius: 50%;\n",
              "      cursor: pointer;\n",
              "      display: none;\n",
              "      fill: #1967D2;\n",
              "      height: 32px;\n",
              "      padding: 0 0 0 0;\n",
              "      width: 32px;\n",
              "    }\n",
              "\n",
              "    .colab-df-convert:hover {\n",
              "      background-color: #E2EBFA;\n",
              "      box-shadow: 0px 1px 2px rgba(60, 64, 67, 0.3), 0px 1px 3px 1px rgba(60, 64, 67, 0.15);\n",
              "      fill: #174EA6;\n",
              "    }\n",
              "\n",
              "    [theme=dark] .colab-df-convert {\n",
              "      background-color: #3B4455;\n",
              "      fill: #D2E3FC;\n",
              "    }\n",
              "\n",
              "    [theme=dark] .colab-df-convert:hover {\n",
              "      background-color: #434B5C;\n",
              "      box-shadow: 0px 1px 3px 1px rgba(0, 0, 0, 0.15);\n",
              "      filter: drop-shadow(0px 1px 2px rgba(0, 0, 0, 0.3));\n",
              "      fill: #FFFFFF;\n",
              "    }\n",
              "  </style>\n",
              "\n",
              "      <script>\n",
              "        const buttonEl =\n",
              "          document.querySelector('#df-c8bae1a9-d2aa-4f24-a209-51f5e0be9a3f button.colab-df-convert');\n",
              "        buttonEl.style.display =\n",
              "          google.colab.kernel.accessAllowed ? 'block' : 'none';\n",
              "\n",
              "        async function convertToInteractive(key) {\n",
              "          const element = document.querySelector('#df-c8bae1a9-d2aa-4f24-a209-51f5e0be9a3f');\n",
              "          const dataTable =\n",
              "            await google.colab.kernel.invokeFunction('convertToInteractive',\n",
              "                                                     [key], {});\n",
              "          if (!dataTable) return;\n",
              "\n",
              "          const docLinkHtml = 'Like what you see? Visit the ' +\n",
              "            '<a target=\"_blank\" href=https://colab.research.google.com/notebooks/data_table.ipynb>data table notebook</a>'\n",
              "            + ' to learn more about interactive tables.';\n",
              "          element.innerHTML = '';\n",
              "          dataTable['output_type'] = 'display_data';\n",
              "          await google.colab.output.renderOutput(dataTable, element);\n",
              "          const docLink = document.createElement('div');\n",
              "          docLink.innerHTML = docLinkHtml;\n",
              "          element.appendChild(docLink);\n",
              "        }\n",
              "      </script>\n",
              "    </div>\n",
              "  </div>\n"
            ],
            "text/plain": [
              "                                         Review Text sentiment\n",
              "0  Came here once to do endoscopy. Terrible servi...  Negative\n",
              "1  Bệnh viện khá hiện đại. Vị trí thuận lợi đến v...   Neutral\n",
              "2  Bệnh viện Đại học Y Dược là bệnh viện đa khoa,...  Positive\n",
              "3  Lần đầu tiên đưa ba đi khám tổng quát tại Bệnh...  Positive\n",
              "4  26/05/2023. 1 ngày trải nghiệm tại bv Đại Học ...  Positive"
            ]
          },
          "execution_count": 5,
          "metadata": {},
          "output_type": "execute_result"
        }
      ],
      "source": [
        "# X_train = df_train.OriginalTweet\n",
        "# X_test = df_test.OriginalTweet\n",
        "\n",
        "# y_train = df_train.Sentiment\n",
        "# y_test = df_test.Sentiment\n",
        "\n",
        "df = df_train.append(df_test, ignore_index=False).drop([\"Time\", \"Rating\"], axis=1)\n",
        "df.head()"
      ]
    },
    {
      "cell_type": "code",
      "execution_count": 6,
      "metadata": {
        "colab": {
          "base_uri": "https://localhost:8080/"
        },
        "id": "cB_0BI53UpRn",
        "outputId": "a9026f0d-629a-42eb-dd20-9b1f198ea738"
      },
      "outputs": [
        {
          "data": {
            "text/plain": [
              "Positive    6044\n",
              "Negative    5240\n",
              "Neutral     1234\n",
              "Name: sentiment, dtype: int64"
            ]
          },
          "execution_count": 6,
          "metadata": {},
          "output_type": "execute_result"
        }
      ],
      "source": [
        "df['sentiment'].value_counts()"
      ]
    },
    {
      "cell_type": "code",
      "execution_count": 7,
      "metadata": {
        "colab": {
          "base_uri": "https://localhost:8080/",
          "height": 206
        },
        "id": "2CSNVcCYVk44",
        "outputId": "794b2925-c073-4987-8a1c-62b52892e3ca"
      },
      "outputs": [
        {
          "data": {
            "text/html": [
              "\n",
              "\n",
              "  <div id=\"df-6ab294f6-603f-404e-89d0-3c90981a2c1c\">\n",
              "    <div class=\"colab-df-container\">\n",
              "      <div>\n",
              "<style scoped>\n",
              "    .dataframe tbody tr th:only-of-type {\n",
              "        vertical-align: middle;\n",
              "    }\n",
              "\n",
              "    .dataframe tbody tr th {\n",
              "        vertical-align: top;\n",
              "    }\n",
              "\n",
              "    .dataframe thead th {\n",
              "        text-align: right;\n",
              "    }\n",
              "</style>\n",
              "<table border=\"1\" class=\"dataframe\">\n",
              "  <thead>\n",
              "    <tr style=\"text-align: right;\">\n",
              "      <th></th>\n",
              "      <th>Review Text</th>\n",
              "      <th>sentiment</th>\n",
              "    </tr>\n",
              "  </thead>\n",
              "  <tbody>\n",
              "    <tr>\n",
              "      <th>6254</th>\n",
              "      <td>Phai Chiu thoi vi qua  nhieu nguoi bi benh nay...</td>\n",
              "      <td>Positive</td>\n",
              "    </tr>\n",
              "    <tr>\n",
              "      <th>6255</th>\n",
              "      <td>La chuyen da mo toi rat tin tuong nhung vi co ...</td>\n",
              "      <td>Positive</td>\n",
              "    </tr>\n",
              "    <tr>\n",
              "      <th>6256</th>\n",
              "      <td>Dog ng chan choi.ko co ai huog dan ca</td>\n",
              "      <td>Neutral</td>\n",
              "    </tr>\n",
              "    <tr>\n",
              "      <th>6257</th>\n",
              "      <td>Tôi bất khả dĩ mới chọn bệnh viện này để khám....</td>\n",
              "      <td>Negative</td>\n",
              "    </tr>\n",
              "    <tr>\n",
              "      <th>6258</th>\n",
              "      <td>Tuyet voi, boc phieu kb ma gianh giat nhau nhu...</td>\n",
              "      <td>Negative</td>\n",
              "    </tr>\n",
              "  </tbody>\n",
              "</table>\n",
              "</div>\n",
              "      <button class=\"colab-df-convert\" onclick=\"convertToInteractive('df-6ab294f6-603f-404e-89d0-3c90981a2c1c')\"\n",
              "              title=\"Convert this dataframe to an interactive table.\"\n",
              "              style=\"display:none;\">\n",
              "\n",
              "  <svg xmlns=\"http://www.w3.org/2000/svg\" height=\"24px\"viewBox=\"0 0 24 24\"\n",
              "       width=\"24px\">\n",
              "    <path d=\"M0 0h24v24H0V0z\" fill=\"none\"/>\n",
              "    <path d=\"M18.56 5.44l.94 2.06.94-2.06 2.06-.94-2.06-.94-.94-2.06-.94 2.06-2.06.94zm-11 1L8.5 8.5l.94-2.06 2.06-.94-2.06-.94L8.5 2.5l-.94 2.06-2.06.94zm10 10l.94 2.06.94-2.06 2.06-.94-2.06-.94-.94-2.06-.94 2.06-2.06.94z\"/><path d=\"M17.41 7.96l-1.37-1.37c-.4-.4-.92-.59-1.43-.59-.52 0-1.04.2-1.43.59L10.3 9.45l-7.72 7.72c-.78.78-.78 2.05 0 2.83L4 21.41c.39.39.9.59 1.41.59.51 0 1.02-.2 1.41-.59l7.78-7.78 2.81-2.81c.8-.78.8-2.07 0-2.86zM5.41 20L4 18.59l7.72-7.72 1.47 1.35L5.41 20z\"/>\n",
              "  </svg>\n",
              "      </button>\n",
              "\n",
              "\n",
              "\n",
              "    <div id=\"df-35907dcc-ad65-4e1c-8cb6-b395e5c8597b\">\n",
              "      <button class=\"colab-df-quickchart\" onclick=\"quickchart('df-35907dcc-ad65-4e1c-8cb6-b395e5c8597b')\"\n",
              "              title=\"Suggest charts.\"\n",
              "              style=\"display:none;\">\n",
              "\n",
              "<svg xmlns=\"http://www.w3.org/2000/svg\" height=\"24px\"viewBox=\"0 0 24 24\"\n",
              "     width=\"24px\">\n",
              "    <g>\n",
              "        <path d=\"M19 3H5c-1.1 0-2 .9-2 2v14c0 1.1.9 2 2 2h14c1.1 0 2-.9 2-2V5c0-1.1-.9-2-2-2zM9 17H7v-7h2v7zm4 0h-2V7h2v10zm4 0h-2v-4h2v4z\"/>\n",
              "    </g>\n",
              "</svg>\n",
              "      </button>\n",
              "    </div>\n",
              "\n",
              "<style>\n",
              "  .colab-df-quickchart {\n",
              "    background-color: #E8F0FE;\n",
              "    border: none;\n",
              "    border-radius: 50%;\n",
              "    cursor: pointer;\n",
              "    display: none;\n",
              "    fill: #1967D2;\n",
              "    height: 32px;\n",
              "    padding: 0 0 0 0;\n",
              "    width: 32px;\n",
              "  }\n",
              "\n",
              "  .colab-df-quickchart:hover {\n",
              "    background-color: #E2EBFA;\n",
              "    box-shadow: 0px 1px 2px rgba(60, 64, 67, 0.3), 0px 1px 3px 1px rgba(60, 64, 67, 0.15);\n",
              "    fill: #174EA6;\n",
              "  }\n",
              "\n",
              "  [theme=dark] .colab-df-quickchart {\n",
              "    background-color: #3B4455;\n",
              "    fill: #D2E3FC;\n",
              "  }\n",
              "\n",
              "  [theme=dark] .colab-df-quickchart:hover {\n",
              "    background-color: #434B5C;\n",
              "    box-shadow: 0px 1px 3px 1px rgba(0, 0, 0, 0.15);\n",
              "    filter: drop-shadow(0px 1px 2px rgba(0, 0, 0, 0.3));\n",
              "    fill: #FFFFFF;\n",
              "  }\n",
              "</style>\n",
              "\n",
              "    <script>\n",
              "      async function quickchart(key) {\n",
              "        const containerElement = document.querySelector('#' + key);\n",
              "        const charts = await google.colab.kernel.invokeFunction(\n",
              "            'suggestCharts', [key], {});\n",
              "      }\n",
              "    </script>\n",
              "\n",
              "      <script>\n",
              "\n",
              "function displayQuickchartButton(domScope) {\n",
              "  let quickchartButtonEl =\n",
              "    domScope.querySelector('#df-35907dcc-ad65-4e1c-8cb6-b395e5c8597b button.colab-df-quickchart');\n",
              "  quickchartButtonEl.style.display =\n",
              "    google.colab.kernel.accessAllowed ? 'block' : 'none';\n",
              "}\n",
              "\n",
              "        displayQuickchartButton(document);\n",
              "      </script>\n",
              "      <style>\n",
              "    .colab-df-container {\n",
              "      display:flex;\n",
              "      flex-wrap:wrap;\n",
              "      gap: 12px;\n",
              "    }\n",
              "\n",
              "    .colab-df-convert {\n",
              "      background-color: #E8F0FE;\n",
              "      border: none;\n",
              "      border-radius: 50%;\n",
              "      cursor: pointer;\n",
              "      display: none;\n",
              "      fill: #1967D2;\n",
              "      height: 32px;\n",
              "      padding: 0 0 0 0;\n",
              "      width: 32px;\n",
              "    }\n",
              "\n",
              "    .colab-df-convert:hover {\n",
              "      background-color: #E2EBFA;\n",
              "      box-shadow: 0px 1px 2px rgba(60, 64, 67, 0.3), 0px 1px 3px 1px rgba(60, 64, 67, 0.15);\n",
              "      fill: #174EA6;\n",
              "    }\n",
              "\n",
              "    [theme=dark] .colab-df-convert {\n",
              "      background-color: #3B4455;\n",
              "      fill: #D2E3FC;\n",
              "    }\n",
              "\n",
              "    [theme=dark] .colab-df-convert:hover {\n",
              "      background-color: #434B5C;\n",
              "      box-shadow: 0px 1px 3px 1px rgba(0, 0, 0, 0.15);\n",
              "      filter: drop-shadow(0px 1px 2px rgba(0, 0, 0, 0.3));\n",
              "      fill: #FFFFFF;\n",
              "    }\n",
              "  </style>\n",
              "\n",
              "      <script>\n",
              "        const buttonEl =\n",
              "          document.querySelector('#df-6ab294f6-603f-404e-89d0-3c90981a2c1c button.colab-df-convert');\n",
              "        buttonEl.style.display =\n",
              "          google.colab.kernel.accessAllowed ? 'block' : 'none';\n",
              "\n",
              "        async function convertToInteractive(key) {\n",
              "          const element = document.querySelector('#df-6ab294f6-603f-404e-89d0-3c90981a2c1c');\n",
              "          const dataTable =\n",
              "            await google.colab.kernel.invokeFunction('convertToInteractive',\n",
              "                                                     [key], {});\n",
              "          if (!dataTable) return;\n",
              "\n",
              "          const docLinkHtml = 'Like what you see? Visit the ' +\n",
              "            '<a target=\"_blank\" href=https://colab.research.google.com/notebooks/data_table.ipynb>data table notebook</a>'\n",
              "            + ' to learn more about interactive tables.';\n",
              "          element.innerHTML = '';\n",
              "          dataTable['output_type'] = 'display_data';\n",
              "          await google.colab.output.renderOutput(dataTable, element);\n",
              "          const docLink = document.createElement('div');\n",
              "          docLink.innerHTML = docLinkHtml;\n",
              "          element.appendChild(docLink);\n",
              "        }\n",
              "      </script>\n",
              "    </div>\n",
              "  </div>\n"
            ],
            "text/plain": [
              "                                            Review Text sentiment\n",
              "6254  Phai Chiu thoi vi qua  nhieu nguoi bi benh nay...  Positive\n",
              "6255  La chuyen da mo toi rat tin tuong nhung vi co ...  Positive\n",
              "6256              Dog ng chan choi.ko co ai huog dan ca   Neutral\n",
              "6257  Tôi bất khả dĩ mới chọn bệnh viện này để khám....  Negative\n",
              "6258  Tuyet voi, boc phieu kb ma gianh giat nhau nhu...  Negative"
            ]
          },
          "execution_count": 7,
          "metadata": {},
          "output_type": "execute_result"
        }
      ],
      "source": [
        "df.tail()"
      ]
    },
    {
      "cell_type": "code",
      "execution_count": 8,
      "metadata": {
        "colab": {
          "base_uri": "https://localhost:8080/",
          "height": 424
        },
        "id": "jfZsCOWEWeuk",
        "outputId": "2cadf763-4dab-4304-cc40-733722cd1aff"
      },
      "outputs": [
        {
          "data": {
            "text/html": [
              "\n",
              "\n",
              "  <div id=\"df-54cdef4b-584d-4082-a11e-b4a828025eba\">\n",
              "    <div class=\"colab-df-container\">\n",
              "      <div>\n",
              "<style scoped>\n",
              "    .dataframe tbody tr th:only-of-type {\n",
              "        vertical-align: middle;\n",
              "    }\n",
              "\n",
              "    .dataframe tbody tr th {\n",
              "        vertical-align: top;\n",
              "    }\n",
              "\n",
              "    .dataframe thead th {\n",
              "        text-align: right;\n",
              "    }\n",
              "</style>\n",
              "<table border=\"1\" class=\"dataframe\">\n",
              "  <thead>\n",
              "    <tr style=\"text-align: right;\">\n",
              "      <th></th>\n",
              "      <th>Review Text</th>\n",
              "      <th>sentiment</th>\n",
              "    </tr>\n",
              "  </thead>\n",
              "  <tbody>\n",
              "    <tr>\n",
              "      <th>0</th>\n",
              "      <td>Bệnh viện Đại học Y Dược là bệnh viện đa khoa,...</td>\n",
              "      <td>Positive</td>\n",
              "    </tr>\n",
              "    <tr>\n",
              "      <th>1</th>\n",
              "      <td>Lần đầu tiên đưa ba đi khám tổng quát tại Bệnh...</td>\n",
              "      <td>Positive</td>\n",
              "    </tr>\n",
              "    <tr>\n",
              "      <th>2</th>\n",
              "      <td>26/05/2023. 1 ngày trải nghiệm tại bv Đại Học ...</td>\n",
              "      <td>Positive</td>\n",
              "    </tr>\n",
              "    <tr>\n",
              "      <th>3</th>\n",
              "      <td>Bv sạch sẽ, dịch vụ tốt. Lưu ý đây là bv dịch ...</td>\n",
              "      <td>Positive</td>\n",
              "    </tr>\n",
              "    <tr>\n",
              "      <th>4</th>\n",
              "      <td>Bệnh viện này đông thật sự mọi người ạ. Đi khá...</td>\n",
              "      <td>Positive</td>\n",
              "    </tr>\n",
              "    <tr>\n",
              "      <th>...</th>\n",
              "      <td>...</td>\n",
              "      <td>...</td>\n",
              "    </tr>\n",
              "    <tr>\n",
              "      <th>12513</th>\n",
              "      <td>Bệnh viện này luôn luôn nằm trong tình trạng q...</td>\n",
              "      <td>Neutral</td>\n",
              "    </tr>\n",
              "    <tr>\n",
              "      <th>12514</th>\n",
              "      <td>Bệnh viện quá chật chội và đông đúc. Khám bệnh...</td>\n",
              "      <td>Neutral</td>\n",
              "    </tr>\n",
              "    <tr>\n",
              "      <th>12515</th>\n",
              "      <td>Tim hiểu sau</td>\n",
              "      <td>Neutral</td>\n",
              "    </tr>\n",
              "    <tr>\n",
              "      <th>12516</th>\n",
              "      <td>Chau em bi noi 2 muc o 2 ben co, tinh trang va...</td>\n",
              "      <td>Neutral</td>\n",
              "    </tr>\n",
              "    <tr>\n",
              "      <th>12517</th>\n",
              "      <td>Dog ng chan choi.ko co ai huog dan ca</td>\n",
              "      <td>Neutral</td>\n",
              "    </tr>\n",
              "  </tbody>\n",
              "</table>\n",
              "<p>12518 rows × 2 columns</p>\n",
              "</div>\n",
              "      <button class=\"colab-df-convert\" onclick=\"convertToInteractive('df-54cdef4b-584d-4082-a11e-b4a828025eba')\"\n",
              "              title=\"Convert this dataframe to an interactive table.\"\n",
              "              style=\"display:none;\">\n",
              "\n",
              "  <svg xmlns=\"http://www.w3.org/2000/svg\" height=\"24px\"viewBox=\"0 0 24 24\"\n",
              "       width=\"24px\">\n",
              "    <path d=\"M0 0h24v24H0V0z\" fill=\"none\"/>\n",
              "    <path d=\"M18.56 5.44l.94 2.06.94-2.06 2.06-.94-2.06-.94-.94-2.06-.94 2.06-2.06.94zm-11 1L8.5 8.5l.94-2.06 2.06-.94-2.06-.94L8.5 2.5l-.94 2.06-2.06.94zm10 10l.94 2.06.94-2.06 2.06-.94-2.06-.94-.94-2.06-.94 2.06-2.06.94z\"/><path d=\"M17.41 7.96l-1.37-1.37c-.4-.4-.92-.59-1.43-.59-.52 0-1.04.2-1.43.59L10.3 9.45l-7.72 7.72c-.78.78-.78 2.05 0 2.83L4 21.41c.39.39.9.59 1.41.59.51 0 1.02-.2 1.41-.59l7.78-7.78 2.81-2.81c.8-.78.8-2.07 0-2.86zM5.41 20L4 18.59l7.72-7.72 1.47 1.35L5.41 20z\"/>\n",
              "  </svg>\n",
              "      </button>\n",
              "\n",
              "\n",
              "\n",
              "    <div id=\"df-af09e648-80c4-45aa-be1c-17e6aa6dd6b6\">\n",
              "      <button class=\"colab-df-quickchart\" onclick=\"quickchart('df-af09e648-80c4-45aa-be1c-17e6aa6dd6b6')\"\n",
              "              title=\"Suggest charts.\"\n",
              "              style=\"display:none;\">\n",
              "\n",
              "<svg xmlns=\"http://www.w3.org/2000/svg\" height=\"24px\"viewBox=\"0 0 24 24\"\n",
              "     width=\"24px\">\n",
              "    <g>\n",
              "        <path d=\"M19 3H5c-1.1 0-2 .9-2 2v14c0 1.1.9 2 2 2h14c1.1 0 2-.9 2-2V5c0-1.1-.9-2-2-2zM9 17H7v-7h2v7zm4 0h-2V7h2v10zm4 0h-2v-4h2v4z\"/>\n",
              "    </g>\n",
              "</svg>\n",
              "      </button>\n",
              "    </div>\n",
              "\n",
              "<style>\n",
              "  .colab-df-quickchart {\n",
              "    background-color: #E8F0FE;\n",
              "    border: none;\n",
              "    border-radius: 50%;\n",
              "    cursor: pointer;\n",
              "    display: none;\n",
              "    fill: #1967D2;\n",
              "    height: 32px;\n",
              "    padding: 0 0 0 0;\n",
              "    width: 32px;\n",
              "  }\n",
              "\n",
              "  .colab-df-quickchart:hover {\n",
              "    background-color: #E2EBFA;\n",
              "    box-shadow: 0px 1px 2px rgba(60, 64, 67, 0.3), 0px 1px 3px 1px rgba(60, 64, 67, 0.15);\n",
              "    fill: #174EA6;\n",
              "  }\n",
              "\n",
              "  [theme=dark] .colab-df-quickchart {\n",
              "    background-color: #3B4455;\n",
              "    fill: #D2E3FC;\n",
              "  }\n",
              "\n",
              "  [theme=dark] .colab-df-quickchart:hover {\n",
              "    background-color: #434B5C;\n",
              "    box-shadow: 0px 1px 3px 1px rgba(0, 0, 0, 0.15);\n",
              "    filter: drop-shadow(0px 1px 2px rgba(0, 0, 0, 0.3));\n",
              "    fill: #FFFFFF;\n",
              "  }\n",
              "</style>\n",
              "\n",
              "    <script>\n",
              "      async function quickchart(key) {\n",
              "        const containerElement = document.querySelector('#' + key);\n",
              "        const charts = await google.colab.kernel.invokeFunction(\n",
              "            'suggestCharts', [key], {});\n",
              "      }\n",
              "    </script>\n",
              "\n",
              "      <script>\n",
              "\n",
              "function displayQuickchartButton(domScope) {\n",
              "  let quickchartButtonEl =\n",
              "    domScope.querySelector('#df-af09e648-80c4-45aa-be1c-17e6aa6dd6b6 button.colab-df-quickchart');\n",
              "  quickchartButtonEl.style.display =\n",
              "    google.colab.kernel.accessAllowed ? 'block' : 'none';\n",
              "}\n",
              "\n",
              "        displayQuickchartButton(document);\n",
              "      </script>\n",
              "      <style>\n",
              "    .colab-df-container {\n",
              "      display:flex;\n",
              "      flex-wrap:wrap;\n",
              "      gap: 12px;\n",
              "    }\n",
              "\n",
              "    .colab-df-convert {\n",
              "      background-color: #E8F0FE;\n",
              "      border: none;\n",
              "      border-radius: 50%;\n",
              "      cursor: pointer;\n",
              "      display: none;\n",
              "      fill: #1967D2;\n",
              "      height: 32px;\n",
              "      padding: 0 0 0 0;\n",
              "      width: 32px;\n",
              "    }\n",
              "\n",
              "    .colab-df-convert:hover {\n",
              "      background-color: #E2EBFA;\n",
              "      box-shadow: 0px 1px 2px rgba(60, 64, 67, 0.3), 0px 1px 3px 1px rgba(60, 64, 67, 0.15);\n",
              "      fill: #174EA6;\n",
              "    }\n",
              "\n",
              "    [theme=dark] .colab-df-convert {\n",
              "      background-color: #3B4455;\n",
              "      fill: #D2E3FC;\n",
              "    }\n",
              "\n",
              "    [theme=dark] .colab-df-convert:hover {\n",
              "      background-color: #434B5C;\n",
              "      box-shadow: 0px 1px 3px 1px rgba(0, 0, 0, 0.15);\n",
              "      filter: drop-shadow(0px 1px 2px rgba(0, 0, 0, 0.3));\n",
              "      fill: #FFFFFF;\n",
              "    }\n",
              "  </style>\n",
              "\n",
              "      <script>\n",
              "        const buttonEl =\n",
              "          document.querySelector('#df-54cdef4b-584d-4082-a11e-b4a828025eba button.colab-df-convert');\n",
              "        buttonEl.style.display =\n",
              "          google.colab.kernel.accessAllowed ? 'block' : 'none';\n",
              "\n",
              "        async function convertToInteractive(key) {\n",
              "          const element = document.querySelector('#df-54cdef4b-584d-4082-a11e-b4a828025eba');\n",
              "          const dataTable =\n",
              "            await google.colab.kernel.invokeFunction('convertToInteractive',\n",
              "                                                     [key], {});\n",
              "          if (!dataTable) return;\n",
              "\n",
              "          const docLinkHtml = 'Like what you see? Visit the ' +\n",
              "            '<a target=\"_blank\" href=https://colab.research.google.com/notebooks/data_table.ipynb>data table notebook</a>'\n",
              "            + ' to learn more about interactive tables.';\n",
              "          element.innerHTML = '';\n",
              "          dataTable['output_type'] = 'display_data';\n",
              "          await google.colab.output.renderOutput(dataTable, element);\n",
              "          const docLink = document.createElement('div');\n",
              "          docLink.innerHTML = docLinkHtml;\n",
              "          element.appendChild(docLink);\n",
              "        }\n",
              "      </script>\n",
              "    </div>\n",
              "  </div>\n"
            ],
            "text/plain": [
              "                                             Review Text sentiment\n",
              "0      Bệnh viện Đại học Y Dược là bệnh viện đa khoa,...  Positive\n",
              "1      Lần đầu tiên đưa ba đi khám tổng quát tại Bệnh...  Positive\n",
              "2      26/05/2023. 1 ngày trải nghiệm tại bv Đại Học ...  Positive\n",
              "3      Bv sạch sẽ, dịch vụ tốt. Lưu ý đây là bv dịch ...  Positive\n",
              "4      Bệnh viện này đông thật sự mọi người ạ. Đi khá...  Positive\n",
              "...                                                  ...       ...\n",
              "12513  Bệnh viện này luôn luôn nằm trong tình trạng q...   Neutral\n",
              "12514  Bệnh viện quá chật chội và đông đúc. Khám bệnh...   Neutral\n",
              "12515                                      Tim hiểu sau   Neutral\n",
              "12516  Chau em bi noi 2 muc o 2 ben co, tinh trang va...   Neutral\n",
              "12517              Dog ng chan choi.ko co ai huog dan ca   Neutral\n",
              "\n",
              "[12518 rows x 2 columns]"
            ]
          },
          "execution_count": 8,
          "metadata": {},
          "output_type": "execute_result"
        }
      ],
      "source": [
        "pos_data = df[df['sentiment']=='Positive']\n",
        "neg_data = df[df['sentiment']=='Negative']\n",
        "neu_data = df[df['sentiment']=='Neutral']\n",
        "\n",
        "data = pd.concat([pos_data,neg_data,neu_data],axis=0,ignore_index=True)\n",
        "\n",
        "data"
      ]
    },
    {
      "cell_type": "code",
      "execution_count": 9,
      "metadata": {
        "colab": {
          "base_uri": "https://localhost:8080/",
          "height": 424
        },
        "id": "fnPpyqjcYazQ",
        "outputId": "32b6acc9-990d-4445-bea3-f94ff26f3e04"
      },
      "outputs": [
        {
          "data": {
            "text/html": [
              "\n",
              "\n",
              "  <div id=\"df-26944447-6fb1-407f-ab6f-544d641e80ff\">\n",
              "    <div class=\"colab-df-container\">\n",
              "      <div>\n",
              "<style scoped>\n",
              "    .dataframe tbody tr th:only-of-type {\n",
              "        vertical-align: middle;\n",
              "    }\n",
              "\n",
              "    .dataframe tbody tr th {\n",
              "        vertical-align: top;\n",
              "    }\n",
              "\n",
              "    .dataframe thead th {\n",
              "        text-align: right;\n",
              "    }\n",
              "</style>\n",
              "<table border=\"1\" class=\"dataframe\">\n",
              "  <thead>\n",
              "    <tr style=\"text-align: right;\">\n",
              "      <th></th>\n",
              "      <th>Review Text</th>\n",
              "      <th>sentiment</th>\n",
              "    </tr>\n",
              "  </thead>\n",
              "  <tbody>\n",
              "    <tr>\n",
              "      <th>0</th>\n",
              "      <td>Bác sĩ và nhân viên nhiệt tình, khu nhận bệnh ...</td>\n",
              "      <td>Positive</td>\n",
              "    </tr>\n",
              "    <tr>\n",
              "      <th>1</th>\n",
              "      <td>Sai địa chỉ</td>\n",
              "      <td>Negative</td>\n",
              "    </tr>\n",
              "    <tr>\n",
              "      <th>2</th>\n",
              "      <td>Mk thấy dv khám ổn nhưng chẩn bệnh ko 9 xác nh...</td>\n",
              "      <td>Neutral</td>\n",
              "    </tr>\n",
              "    <tr>\n",
              "      <th>3</th>\n",
              "      <td>BV dơ bẩn thấy ớn, lụp xụp. Thức ăn thì dở, nơ...</td>\n",
              "      <td>Negative</td>\n",
              "    </tr>\n",
              "    <tr>\n",
              "      <th>4</th>\n",
              "      <td>Bệnh viện làm thủ tục chậm, đợi rất lâu dù tro...</td>\n",
              "      <td>Negative</td>\n",
              "    </tr>\n",
              "    <tr>\n",
              "      <th>...</th>\n",
              "      <td>...</td>\n",
              "      <td>...</td>\n",
              "    </tr>\n",
              "    <tr>\n",
              "      <th>12513</th>\n",
              "      <td>bá sĩ siêu âm phòng 1 khu D làm việc thiếu chu...</td>\n",
              "      <td>Negative</td>\n",
              "    </tr>\n",
              "    <tr>\n",
              "      <th>12514</th>\n",
              "      <td>Hôm nay lần đầu tiên mình cho con khám ở bệnh ...</td>\n",
              "      <td>Negative</td>\n",
              "    </tr>\n",
              "    <tr>\n",
              "      <th>12515</th>\n",
              "      <td>Quá mất thời gian. Khám dinh dưỡng ko số thứ t...</td>\n",
              "      <td>Negative</td>\n",
              "    </tr>\n",
              "    <tr>\n",
              "      <th>12516</th>\n",
              "      <td>Mất khoảng 2 tiếng để khám thai định kỳ (ko xé...</td>\n",
              "      <td>Neutral</td>\n",
              "    </tr>\n",
              "    <tr>\n",
              "      <th>12517</th>\n",
              "      <td>Nhân viên luôn nhiệt tình, vui vẻ, Bác Sĩ khám...</td>\n",
              "      <td>Positive</td>\n",
              "    </tr>\n",
              "  </tbody>\n",
              "</table>\n",
              "<p>12518 rows × 2 columns</p>\n",
              "</div>\n",
              "      <button class=\"colab-df-convert\" onclick=\"convertToInteractive('df-26944447-6fb1-407f-ab6f-544d641e80ff')\"\n",
              "              title=\"Convert this dataframe to an interactive table.\"\n",
              "              style=\"display:none;\">\n",
              "\n",
              "  <svg xmlns=\"http://www.w3.org/2000/svg\" height=\"24px\"viewBox=\"0 0 24 24\"\n",
              "       width=\"24px\">\n",
              "    <path d=\"M0 0h24v24H0V0z\" fill=\"none\"/>\n",
              "    <path d=\"M18.56 5.44l.94 2.06.94-2.06 2.06-.94-2.06-.94-.94-2.06-.94 2.06-2.06.94zm-11 1L8.5 8.5l.94-2.06 2.06-.94-2.06-.94L8.5 2.5l-.94 2.06-2.06.94zm10 10l.94 2.06.94-2.06 2.06-.94-2.06-.94-.94-2.06-.94 2.06-2.06.94z\"/><path d=\"M17.41 7.96l-1.37-1.37c-.4-.4-.92-.59-1.43-.59-.52 0-1.04.2-1.43.59L10.3 9.45l-7.72 7.72c-.78.78-.78 2.05 0 2.83L4 21.41c.39.39.9.59 1.41.59.51 0 1.02-.2 1.41-.59l7.78-7.78 2.81-2.81c.8-.78.8-2.07 0-2.86zM5.41 20L4 18.59l7.72-7.72 1.47 1.35L5.41 20z\"/>\n",
              "  </svg>\n",
              "      </button>\n",
              "\n",
              "\n",
              "\n",
              "    <div id=\"df-e3991253-5eb7-40f9-9f3c-1c08b65bea20\">\n",
              "      <button class=\"colab-df-quickchart\" onclick=\"quickchart('df-e3991253-5eb7-40f9-9f3c-1c08b65bea20')\"\n",
              "              title=\"Suggest charts.\"\n",
              "              style=\"display:none;\">\n",
              "\n",
              "<svg xmlns=\"http://www.w3.org/2000/svg\" height=\"24px\"viewBox=\"0 0 24 24\"\n",
              "     width=\"24px\">\n",
              "    <g>\n",
              "        <path d=\"M19 3H5c-1.1 0-2 .9-2 2v14c0 1.1.9 2 2 2h14c1.1 0 2-.9 2-2V5c0-1.1-.9-2-2-2zM9 17H7v-7h2v7zm4 0h-2V7h2v10zm4 0h-2v-4h2v4z\"/>\n",
              "    </g>\n",
              "</svg>\n",
              "      </button>\n",
              "    </div>\n",
              "\n",
              "<style>\n",
              "  .colab-df-quickchart {\n",
              "    background-color: #E8F0FE;\n",
              "    border: none;\n",
              "    border-radius: 50%;\n",
              "    cursor: pointer;\n",
              "    display: none;\n",
              "    fill: #1967D2;\n",
              "    height: 32px;\n",
              "    padding: 0 0 0 0;\n",
              "    width: 32px;\n",
              "  }\n",
              "\n",
              "  .colab-df-quickchart:hover {\n",
              "    background-color: #E2EBFA;\n",
              "    box-shadow: 0px 1px 2px rgba(60, 64, 67, 0.3), 0px 1px 3px 1px rgba(60, 64, 67, 0.15);\n",
              "    fill: #174EA6;\n",
              "  }\n",
              "\n",
              "  [theme=dark] .colab-df-quickchart {\n",
              "    background-color: #3B4455;\n",
              "    fill: #D2E3FC;\n",
              "  }\n",
              "\n",
              "  [theme=dark] .colab-df-quickchart:hover {\n",
              "    background-color: #434B5C;\n",
              "    box-shadow: 0px 1px 3px 1px rgba(0, 0, 0, 0.15);\n",
              "    filter: drop-shadow(0px 1px 2px rgba(0, 0, 0, 0.3));\n",
              "    fill: #FFFFFF;\n",
              "  }\n",
              "</style>\n",
              "\n",
              "    <script>\n",
              "      async function quickchart(key) {\n",
              "        const containerElement = document.querySelector('#' + key);\n",
              "        const charts = await google.colab.kernel.invokeFunction(\n",
              "            'suggestCharts', [key], {});\n",
              "      }\n",
              "    </script>\n",
              "\n",
              "      <script>\n",
              "\n",
              "function displayQuickchartButton(domScope) {\n",
              "  let quickchartButtonEl =\n",
              "    domScope.querySelector('#df-e3991253-5eb7-40f9-9f3c-1c08b65bea20 button.colab-df-quickchart');\n",
              "  quickchartButtonEl.style.display =\n",
              "    google.colab.kernel.accessAllowed ? 'block' : 'none';\n",
              "}\n",
              "\n",
              "        displayQuickchartButton(document);\n",
              "      </script>\n",
              "      <style>\n",
              "    .colab-df-container {\n",
              "      display:flex;\n",
              "      flex-wrap:wrap;\n",
              "      gap: 12px;\n",
              "    }\n",
              "\n",
              "    .colab-df-convert {\n",
              "      background-color: #E8F0FE;\n",
              "      border: none;\n",
              "      border-radius: 50%;\n",
              "      cursor: pointer;\n",
              "      display: none;\n",
              "      fill: #1967D2;\n",
              "      height: 32px;\n",
              "      padding: 0 0 0 0;\n",
              "      width: 32px;\n",
              "    }\n",
              "\n",
              "    .colab-df-convert:hover {\n",
              "      background-color: #E2EBFA;\n",
              "      box-shadow: 0px 1px 2px rgba(60, 64, 67, 0.3), 0px 1px 3px 1px rgba(60, 64, 67, 0.15);\n",
              "      fill: #174EA6;\n",
              "    }\n",
              "\n",
              "    [theme=dark] .colab-df-convert {\n",
              "      background-color: #3B4455;\n",
              "      fill: #D2E3FC;\n",
              "    }\n",
              "\n",
              "    [theme=dark] .colab-df-convert:hover {\n",
              "      background-color: #434B5C;\n",
              "      box-shadow: 0px 1px 3px 1px rgba(0, 0, 0, 0.15);\n",
              "      filter: drop-shadow(0px 1px 2px rgba(0, 0, 0, 0.3));\n",
              "      fill: #FFFFFF;\n",
              "    }\n",
              "  </style>\n",
              "\n",
              "      <script>\n",
              "        const buttonEl =\n",
              "          document.querySelector('#df-26944447-6fb1-407f-ab6f-544d641e80ff button.colab-df-convert');\n",
              "        buttonEl.style.display =\n",
              "          google.colab.kernel.accessAllowed ? 'block' : 'none';\n",
              "\n",
              "        async function convertToInteractive(key) {\n",
              "          const element = document.querySelector('#df-26944447-6fb1-407f-ab6f-544d641e80ff');\n",
              "          const dataTable =\n",
              "            await google.colab.kernel.invokeFunction('convertToInteractive',\n",
              "                                                     [key], {});\n",
              "          if (!dataTable) return;\n",
              "\n",
              "          const docLinkHtml = 'Like what you see? Visit the ' +\n",
              "            '<a target=\"_blank\" href=https://colab.research.google.com/notebooks/data_table.ipynb>data table notebook</a>'\n",
              "            + ' to learn more about interactive tables.';\n",
              "          element.innerHTML = '';\n",
              "          dataTable['output_type'] = 'display_data';\n",
              "          await google.colab.output.renderOutput(dataTable, element);\n",
              "          const docLink = document.createElement('div');\n",
              "          docLink.innerHTML = docLinkHtml;\n",
              "          element.appendChild(docLink);\n",
              "        }\n",
              "      </script>\n",
              "    </div>\n",
              "  </div>\n"
            ],
            "text/plain": [
              "                                             Review Text sentiment\n",
              "0      Bác sĩ và nhân viên nhiệt tình, khu nhận bệnh ...  Positive\n",
              "1                                            Sai địa chỉ  Negative\n",
              "2      Mk thấy dv khám ổn nhưng chẩn bệnh ko 9 xác nh...   Neutral\n",
              "3      BV dơ bẩn thấy ớn, lụp xụp. Thức ăn thì dở, nơ...  Negative\n",
              "4      Bệnh viện làm thủ tục chậm, đợi rất lâu dù tro...  Negative\n",
              "...                                                  ...       ...\n",
              "12513  bá sĩ siêu âm phòng 1 khu D làm việc thiếu chu...  Negative\n",
              "12514  Hôm nay lần đầu tiên mình cho con khám ở bệnh ...  Negative\n",
              "12515  Quá mất thời gian. Khám dinh dưỡng ko số thứ t...  Negative\n",
              "12516  Mất khoảng 2 tiếng để khám thai định kỳ (ko xé...   Neutral\n",
              "12517  Nhân viên luôn nhiệt tình, vui vẻ, Bác Sĩ khám...  Positive\n",
              "\n",
              "[12518 rows x 2 columns]"
            ]
          },
          "execution_count": 9,
          "metadata": {},
          "output_type": "execute_result"
        }
      ],
      "source": [
        "data = data.sample(frac=1, axis=0).reset_index(drop=True)\n",
        "data"
      ]
    },
    {
      "cell_type": "code",
      "execution_count": 10,
      "metadata": {
        "colab": {
          "base_uri": "https://localhost:8080/"
        },
        "id": "R7DYWVwsYkgY",
        "outputId": "c22f92de-922c-41b2-a1fa-c186df33976f"
      },
      "outputs": [
        {
          "data": {
            "text/plain": [
              "Positive    6044\n",
              "Negative    5240\n",
              "Neutral     1234\n",
              "Name: sentiment, dtype: int64"
            ]
          },
          "execution_count": 10,
          "metadata": {},
          "output_type": "execute_result"
        }
      ],
      "source": [
        "data.sentiment.value_counts()"
      ]
    },
    {
      "cell_type": "code",
      "execution_count": 11,
      "metadata": {
        "colab": {
          "base_uri": "https://localhost:8080/"
        },
        "id": "rejhDocSxtqw",
        "outputId": "0291388a-abbc-4107-96ea-03432fe15a54"
      },
      "outputs": [
        {
          "name": "stdout",
          "output_type": "stream",
          "text": [
            "3\n"
          ]
        }
      ],
      "source": [
        "num_classes = 3\n",
        "print(len(data['sentiment'].unique()))"
      ]
    },
    {
      "cell_type": "code",
      "execution_count": 12,
      "metadata": {
        "colab": {
          "base_uri": "https://localhost:8080/"
        },
        "id": "a53BFU7px93p",
        "outputId": "62cbd748-6988-47a4-e158-6a703fba3e17"
      },
      "outputs": [
        {
          "name": "stdout",
          "output_type": "stream",
          "text": [
            "['Positive' 'Negative' 'Neutral']\n"
          ]
        }
      ],
      "source": [
        "class_names = ['Neutral','Positive','Negative']\n",
        "print(data['sentiment'].unique())"
      ]
    },
    {
      "cell_type": "code",
      "execution_count": 13,
      "metadata": {
        "colab": {
          "base_uri": "https://localhost:8080/",
          "height": 424
        },
        "id": "QaLKvtBNcnli",
        "outputId": "8f44ba2e-925c-45db-d284-d79a967fb8b5"
      },
      "outputs": [
        {
          "data": {
            "text/html": [
              "\n",
              "\n",
              "  <div id=\"df-742ce8ac-a17f-4533-8076-9fa19b47cdf0\">\n",
              "    <div class=\"colab-df-container\">\n",
              "      <div>\n",
              "<style scoped>\n",
              "    .dataframe tbody tr th:only-of-type {\n",
              "        vertical-align: middle;\n",
              "    }\n",
              "\n",
              "    .dataframe tbody tr th {\n",
              "        vertical-align: top;\n",
              "    }\n",
              "\n",
              "    .dataframe thead th {\n",
              "        text-align: right;\n",
              "    }\n",
              "</style>\n",
              "<table border=\"1\" class=\"dataframe\">\n",
              "  <thead>\n",
              "    <tr style=\"text-align: right;\">\n",
              "      <th></th>\n",
              "      <th>Review Text</th>\n",
              "      <th>sentiment</th>\n",
              "    </tr>\n",
              "  </thead>\n",
              "  <tbody>\n",
              "    <tr>\n",
              "      <th>0</th>\n",
              "      <td>Bác sĩ và nhân viên nhiệt tình, khu nhận bệnh ...</td>\n",
              "      <td>2</td>\n",
              "    </tr>\n",
              "    <tr>\n",
              "      <th>1</th>\n",
              "      <td>Sai địa chỉ</td>\n",
              "      <td>0</td>\n",
              "    </tr>\n",
              "    <tr>\n",
              "      <th>2</th>\n",
              "      <td>Mk thấy dv khám ổn nhưng chẩn bệnh ko 9 xác nh...</td>\n",
              "      <td>1</td>\n",
              "    </tr>\n",
              "    <tr>\n",
              "      <th>3</th>\n",
              "      <td>BV dơ bẩn thấy ớn, lụp xụp. Thức ăn thì dở, nơ...</td>\n",
              "      <td>0</td>\n",
              "    </tr>\n",
              "    <tr>\n",
              "      <th>4</th>\n",
              "      <td>Bệnh viện làm thủ tục chậm, đợi rất lâu dù tro...</td>\n",
              "      <td>0</td>\n",
              "    </tr>\n",
              "    <tr>\n",
              "      <th>...</th>\n",
              "      <td>...</td>\n",
              "      <td>...</td>\n",
              "    </tr>\n",
              "    <tr>\n",
              "      <th>12513</th>\n",
              "      <td>bá sĩ siêu âm phòng 1 khu D làm việc thiếu chu...</td>\n",
              "      <td>0</td>\n",
              "    </tr>\n",
              "    <tr>\n",
              "      <th>12514</th>\n",
              "      <td>Hôm nay lần đầu tiên mình cho con khám ở bệnh ...</td>\n",
              "      <td>0</td>\n",
              "    </tr>\n",
              "    <tr>\n",
              "      <th>12515</th>\n",
              "      <td>Quá mất thời gian. Khám dinh dưỡng ko số thứ t...</td>\n",
              "      <td>0</td>\n",
              "    </tr>\n",
              "    <tr>\n",
              "      <th>12516</th>\n",
              "      <td>Mất khoảng 2 tiếng để khám thai định kỳ (ko xé...</td>\n",
              "      <td>1</td>\n",
              "    </tr>\n",
              "    <tr>\n",
              "      <th>12517</th>\n",
              "      <td>Nhân viên luôn nhiệt tình, vui vẻ, Bác Sĩ khám...</td>\n",
              "      <td>2</td>\n",
              "    </tr>\n",
              "  </tbody>\n",
              "</table>\n",
              "<p>12518 rows × 2 columns</p>\n",
              "</div>\n",
              "      <button class=\"colab-df-convert\" onclick=\"convertToInteractive('df-742ce8ac-a17f-4533-8076-9fa19b47cdf0')\"\n",
              "              title=\"Convert this dataframe to an interactive table.\"\n",
              "              style=\"display:none;\">\n",
              "\n",
              "  <svg xmlns=\"http://www.w3.org/2000/svg\" height=\"24px\"viewBox=\"0 0 24 24\"\n",
              "       width=\"24px\">\n",
              "    <path d=\"M0 0h24v24H0V0z\" fill=\"none\"/>\n",
              "    <path d=\"M18.56 5.44l.94 2.06.94-2.06 2.06-.94-2.06-.94-.94-2.06-.94 2.06-2.06.94zm-11 1L8.5 8.5l.94-2.06 2.06-.94-2.06-.94L8.5 2.5l-.94 2.06-2.06.94zm10 10l.94 2.06.94-2.06 2.06-.94-2.06-.94-.94-2.06-.94 2.06-2.06.94z\"/><path d=\"M17.41 7.96l-1.37-1.37c-.4-.4-.92-.59-1.43-.59-.52 0-1.04.2-1.43.59L10.3 9.45l-7.72 7.72c-.78.78-.78 2.05 0 2.83L4 21.41c.39.39.9.59 1.41.59.51 0 1.02-.2 1.41-.59l7.78-7.78 2.81-2.81c.8-.78.8-2.07 0-2.86zM5.41 20L4 18.59l7.72-7.72 1.47 1.35L5.41 20z\"/>\n",
              "  </svg>\n",
              "      </button>\n",
              "\n",
              "\n",
              "\n",
              "    <div id=\"df-360e40ef-51a2-465d-af96-8d0695622141\">\n",
              "      <button class=\"colab-df-quickchart\" onclick=\"quickchart('df-360e40ef-51a2-465d-af96-8d0695622141')\"\n",
              "              title=\"Suggest charts.\"\n",
              "              style=\"display:none;\">\n",
              "\n",
              "<svg xmlns=\"http://www.w3.org/2000/svg\" height=\"24px\"viewBox=\"0 0 24 24\"\n",
              "     width=\"24px\">\n",
              "    <g>\n",
              "        <path d=\"M19 3H5c-1.1 0-2 .9-2 2v14c0 1.1.9 2 2 2h14c1.1 0 2-.9 2-2V5c0-1.1-.9-2-2-2zM9 17H7v-7h2v7zm4 0h-2V7h2v10zm4 0h-2v-4h2v4z\"/>\n",
              "    </g>\n",
              "</svg>\n",
              "      </button>\n",
              "    </div>\n",
              "\n",
              "<style>\n",
              "  .colab-df-quickchart {\n",
              "    background-color: #E8F0FE;\n",
              "    border: none;\n",
              "    border-radius: 50%;\n",
              "    cursor: pointer;\n",
              "    display: none;\n",
              "    fill: #1967D2;\n",
              "    height: 32px;\n",
              "    padding: 0 0 0 0;\n",
              "    width: 32px;\n",
              "  }\n",
              "\n",
              "  .colab-df-quickchart:hover {\n",
              "    background-color: #E2EBFA;\n",
              "    box-shadow: 0px 1px 2px rgba(60, 64, 67, 0.3), 0px 1px 3px 1px rgba(60, 64, 67, 0.15);\n",
              "    fill: #174EA6;\n",
              "  }\n",
              "\n",
              "  [theme=dark] .colab-df-quickchart {\n",
              "    background-color: #3B4455;\n",
              "    fill: #D2E3FC;\n",
              "  }\n",
              "\n",
              "  [theme=dark] .colab-df-quickchart:hover {\n",
              "    background-color: #434B5C;\n",
              "    box-shadow: 0px 1px 3px 1px rgba(0, 0, 0, 0.15);\n",
              "    filter: drop-shadow(0px 1px 2px rgba(0, 0, 0, 0.3));\n",
              "    fill: #FFFFFF;\n",
              "  }\n",
              "</style>\n",
              "\n",
              "    <script>\n",
              "      async function quickchart(key) {\n",
              "        const containerElement = document.querySelector('#' + key);\n",
              "        const charts = await google.colab.kernel.invokeFunction(\n",
              "            'suggestCharts', [key], {});\n",
              "      }\n",
              "    </script>\n",
              "\n",
              "      <script>\n",
              "\n",
              "function displayQuickchartButton(domScope) {\n",
              "  let quickchartButtonEl =\n",
              "    domScope.querySelector('#df-360e40ef-51a2-465d-af96-8d0695622141 button.colab-df-quickchart');\n",
              "  quickchartButtonEl.style.display =\n",
              "    google.colab.kernel.accessAllowed ? 'block' : 'none';\n",
              "}\n",
              "\n",
              "        displayQuickchartButton(document);\n",
              "      </script>\n",
              "      <style>\n",
              "    .colab-df-container {\n",
              "      display:flex;\n",
              "      flex-wrap:wrap;\n",
              "      gap: 12px;\n",
              "    }\n",
              "\n",
              "    .colab-df-convert {\n",
              "      background-color: #E8F0FE;\n",
              "      border: none;\n",
              "      border-radius: 50%;\n",
              "      cursor: pointer;\n",
              "      display: none;\n",
              "      fill: #1967D2;\n",
              "      height: 32px;\n",
              "      padding: 0 0 0 0;\n",
              "      width: 32px;\n",
              "    }\n",
              "\n",
              "    .colab-df-convert:hover {\n",
              "      background-color: #E2EBFA;\n",
              "      box-shadow: 0px 1px 2px rgba(60, 64, 67, 0.3), 0px 1px 3px 1px rgba(60, 64, 67, 0.15);\n",
              "      fill: #174EA6;\n",
              "    }\n",
              "\n",
              "    [theme=dark] .colab-df-convert {\n",
              "      background-color: #3B4455;\n",
              "      fill: #D2E3FC;\n",
              "    }\n",
              "\n",
              "    [theme=dark] .colab-df-convert:hover {\n",
              "      background-color: #434B5C;\n",
              "      box-shadow: 0px 1px 3px 1px rgba(0, 0, 0, 0.15);\n",
              "      filter: drop-shadow(0px 1px 2px rgba(0, 0, 0, 0.3));\n",
              "      fill: #FFFFFF;\n",
              "    }\n",
              "  </style>\n",
              "\n",
              "      <script>\n",
              "        const buttonEl =\n",
              "          document.querySelector('#df-742ce8ac-a17f-4533-8076-9fa19b47cdf0 button.colab-df-convert');\n",
              "        buttonEl.style.display =\n",
              "          google.colab.kernel.accessAllowed ? 'block' : 'none';\n",
              "\n",
              "        async function convertToInteractive(key) {\n",
              "          const element = document.querySelector('#df-742ce8ac-a17f-4533-8076-9fa19b47cdf0');\n",
              "          const dataTable =\n",
              "            await google.colab.kernel.invokeFunction('convertToInteractive',\n",
              "                                                     [key], {});\n",
              "          if (!dataTable) return;\n",
              "\n",
              "          const docLinkHtml = 'Like what you see? Visit the ' +\n",
              "            '<a target=\"_blank\" href=https://colab.research.google.com/notebooks/data_table.ipynb>data table notebook</a>'\n",
              "            + ' to learn more about interactive tables.';\n",
              "          element.innerHTML = '';\n",
              "          dataTable['output_type'] = 'display_data';\n",
              "          await google.colab.output.renderOutput(dataTable, element);\n",
              "          const docLink = document.createElement('div');\n",
              "          docLink.innerHTML = docLinkHtml;\n",
              "          element.appendChild(docLink);\n",
              "        }\n",
              "      </script>\n",
              "    </div>\n",
              "  </div>\n"
            ],
            "text/plain": [
              "                                             Review Text  sentiment\n",
              "0      Bác sĩ và nhân viên nhiệt tình, khu nhận bệnh ...          2\n",
              "1                                            Sai địa chỉ          0\n",
              "2      Mk thấy dv khám ổn nhưng chẩn bệnh ko 9 xác nh...          1\n",
              "3      BV dơ bẩn thấy ớn, lụp xụp. Thức ăn thì dở, nơ...          0\n",
              "4      Bệnh viện làm thủ tục chậm, đợi rất lâu dù tro...          0\n",
              "...                                                  ...        ...\n",
              "12513  bá sĩ siêu âm phòng 1 khu D làm việc thiếu chu...          0\n",
              "12514  Hôm nay lần đầu tiên mình cho con khám ở bệnh ...          0\n",
              "12515  Quá mất thời gian. Khám dinh dưỡng ko số thứ t...          0\n",
              "12516  Mất khoảng 2 tiếng để khám thai định kỳ (ko xé...          1\n",
              "12517  Nhân viên luôn nhiệt tình, vui vẻ, Bác Sĩ khám...          2\n",
              "\n",
              "[12518 rows x 2 columns]"
            ]
          },
          "execution_count": 13,
          "metadata": {},
          "output_type": "execute_result"
        }
      ],
      "source": [
        "data['sentiment'] = data['sentiment'].replace({'Neutral':1, 'Positive':2, 'Negative':0})\n",
        "data"
      ]
    },
    {
      "cell_type": "code",
      "execution_count": 14,
      "metadata": {
        "colab": {
          "base_uri": "https://localhost:8080/"
        },
        "id": "7SgbVqVRsS72",
        "outputId": "2bd70d07-6d5c-4b62-c319-f86936e837eb"
      },
      "outputs": [
        {
          "name": "stderr",
          "output_type": "stream",
          "text": [
            "[nltk_data] Downloading package stopwords to /root/nltk_data...\n",
            "[nltk_data]   Package stopwords is already up-to-date!\n",
            "[nltk_data] Downloading package wordnet to /root/nltk_data...\n",
            "[nltk_data]   Package wordnet is already up-to-date!\n"
          ]
        },
        {
          "data": {
            "text/plain": [
              "True"
            ]
          },
          "execution_count": 14,
          "metadata": {},
          "output_type": "execute_result"
        }
      ],
      "source": [
        "import nltk\n",
        "from nltk.corpus import stopwords\n",
        "\n",
        "nltk.download('stopwords')\n",
        "nltk.download('wordnet')"
      ]
    },
    {
      "cell_type": "code",
      "execution_count": 15,
      "metadata": {
        "id": "uEB1q4QaHP4B"
      },
      "outputs": [],
      "source": [
        "stopwords_vn = [\n",
        "    \"bị\", \"bởi\", \"cả\", \"các\", \"cái\", \"cần\", \"càng\", \"chỉ\", \"chiếc\", \"cho\", \"chứ\",\n",
        "    \"chưa\", \"chuyện\", \"có\", \"có_thể\", \"cứ\", \"của\", \"cùng\", \"cũng\", \"đã\", \"đang\",\n",
        "    \"đây\", \"để\", \"đến_nỗi\", \"đều\", \"điều\", \"do\", \"đó\", \"được\", \"dưới\", \"gì\", \"khi\",\n",
        "    \"không\", \"là\", \"lại\", \"lên\", \"lúc\", \"mà\", \"mỗi\", \"một_cách\", \"này\", \"nên\", \"nếu\",\n",
        "    \"ngay\", \"nhiều\", \"như\", \"nhưng\", \"những\", \"nơi\", \"nữa\", \"phải\", \"qua\", \"ra\", \"rằng\",\n",
        "    \"rằng\", \"rất\", \"rất\", \"rồi\", \"sau\", \"sẽ\", \"so\", \"sự\", \"tại\", \"theo\", \"thì\", \"trên\",\n",
        "    \"trước\", \"từ\", \"từng\", \"và\", \"vẫn\", \"vào\", \"vậy\", \"vì\", \"việc\", \"với\", \"vừa\"\n",
        "    # Add more stopwords as needed\n",
        "]"
      ]
    },
    {
      "cell_type": "code",
      "execution_count": 16,
      "metadata": {
        "id": "ifQipn1ZHo-c"
      },
      "outputs": [],
      "source": [
        "word_replacements = {\n",
        "    # Group: Numbers and simple replacements\n",
        "    \"1\": \"i\",\n",
        "    \"3\": \"e\",\n",
        "    \"4\": \"a\",\n",
        "    \"5\": \"s\",\n",
        "    \"7\": \"t\",\n",
        "    \"0\": \"o\",\n",
        "    \"@\": \"a\",\n",
        "    \"/\\\\\": \"a\",\n",
        "    \"/-\\\\\": \"a\",\n",
        "    \"*\": \"a\",\n",
        "    \"ä\": \"a\",\n",
        "    \"á\": \"a\",\n",
        "    \"à\": \"a\",\n",
        "    \"â\": \"a\",\n",
        "    \"a^\": \"a\",\n",
        "    \"ã\": \"a\",\n",
        "    \"å\": \"a\",\n",
        "    \"ą\": \"a\",\n",
        "    \"ª\": \"a\",\n",
        "    \"∀\": \"a\",\n",
        "    \"∧\": \"a\",\n",
        "    \"α\": \"a\",\n",
        "\n",
        "    # Group: Letters and their replacements\n",
        "    \"8\": \"b\",\n",
        "    \"|3\": \"b\",\n",
        "    \"13\": \"b\",\n",
        "    \"ß\": \"b\",\n",
        "    \"þ\": \"b\",\n",
        "    \"v\": \"b\",\n",
        "    \"ć\": \"c\",\n",
        "    \"č\": \"c\",\n",
        "    \"ç\": \"c\",\n",
        "    \"©\": \"c\",\n",
        "    \"σ\": \"c\",\n",
        "    \"(\": \"c\",\n",
        "    \"¢\": \"c\",\n",
        "    \"<\": \"c\",\n",
        "    \"[\": \"c\",\n",
        "    \"©\": \"c\",\n",
        "    \"[)\": \"d\",\n",
        "    \"|>\": \"d\",\n",
        "    \"|)\": \"d\",\n",
        "    \"|]\": \"d\",\n",
        "    \"3\": \"e\",\n",
        "    \"€\": \"e\",\n",
        "    \"є\": \"e\",\n",
        "    \"[-\": \"e\",\n",
        "    \"|=\": \"f\",\n",
        "    \"ƒ\": \"f\",\n",
        "    \"/=\": \"f\",\n",
        "    \"6\": \"g\",\n",
        "    \"(_+\": \"g\",\n",
        "    \"#\": \"h\",\n",
        "    \"/-/\": \"h\",\n",
        "    \"[-]\": \"h\",\n",
        "    \"]-[\": \"h\",\n",
        "    \")-(\": \"h\",\n",
        "    \"(-)\": \"h\",\n",
        "    \":-:\": \"h\",\n",
        "    \"|~|\": \"h\",\n",
        "    \"|-|\": \"h\",\n",
        "    \"]~[\": \"h\",\n",
        "    \"}{\" : \"h\",\n",
        "\n",
        "    # Group: More letters and their replacements\n",
        "    \"1\": \"i\",\n",
        "    '!': \"i\",\n",
        "    \"|\": \"i\",\n",
        "    \"][\" : \"i\",\n",
        "    \"]\": \"i\",\n",
        "    \":\" : \"i\",\n",
        "    \"_|\": \"j\",\n",
        "    \"_/\": \"j\",\n",
        "    \"¿\": \"j\",\n",
        "    \"(/\": \"j\",\n",
        "    \"ʝ\": \"j\",\n",
        "    \";\": \"j\",\n",
        "    \"X\": \"k\",\n",
        "    \"|<\": \"k\",\n",
        "    \"|{\": \"k\",\n",
        "    \"ɮ\": \"k\",\n",
        "    \"£\": \"l\",\n",
        "    \"1_\": \"l\",\n",
        "    \"ℓ\": \"l\",\n",
        "    \"|_\": \"l\",\n",
        "    \"[_\": \"l\",\n",
        "    \"|V|\": \"m\",\n",
        "    \"|\\\\/|\": \"m\",\n",
        "    \"/\\\\/\\\\\": \"m\",\n",
        "    \"/V\\\\\": \"m\",\n",
        "    \"|V\": \"n\",\n",
        "    \"|\\\\|\": \"n\",\n",
        "    \"/\\\\/\": \"n\",\n",
        "    \"[\\\\]\": \"n\",\n",
        "    \"/V\": \"n\",\n",
        "\n",
        "    # Group: More replacements\n",
        "    \"[]\": \"o\",\n",
        "    \"0\": \"o\",\n",
        "    \"()\": \"o\",\n",
        "    \"°\": \"o\",\n",
        "    \"|*\": \"p\",\n",
        "    \"|o\": \"p\",\n",
        "    \"|º\": \"p\",\n",
        "    \"|°\": \"p\",\n",
        "    \"/*\": \"p\",\n",
        "    \"¶\": \"q\",\n",
        "    \"(_,)\": \"q\",\n",
        "    \"()_\": \"q\",\n",
        "    \"0_\": \"q\",\n",
        "    \"°|\": \"q\",\n",
        "    \"<|\": \"q\",\n",
        "    \"®\": \"r\",\n",
        "    \"2\": \"r\",\n",
        "    \"|?\": \"r\",\n",
        "    \"/2\": \"r\",\n",
        "    \"®\": \"r\",\n",
        "    \"Я\": \"r\",\n",
        "    \"|2\": \"r\",\n",
        "    \"§\": \"s\",\n",
        "    \"5\": \"s\",\n",
        "    \"$\": \"s\",\n",
        "    \"_/¯\": \"s\",\n",
        "    \"7\": \"t\",\n",
        "    \"†\": \"t\",\n",
        "    \"¯|¯\": \"t\",\n",
        "    \"(_)\": \"u\",\n",
        "    \"|_|\": \"u\",\n",
        "    \"L|\": \"u\",\n",
        "    \"µ\": \"u\",\n",
        "    \"\\/\": \"v\",\n",
        "    \"|/\": \"v\",\n",
        "    \"\\/\\/\": \"w\",\n",
        "    \"vv\": \"w\",\n",
        "    \"\\/\": \"w\",\n",
        "    \"\\^/\": \"w\",\n",
        "    \"\\V/\": \"w\",\n",
        "    \"\\|/\": \"w\",\n",
        "    \"\\_|_/\": \"w\",\n",
        "    \"\\_:_/\": \"w\",\n",
        "    \"><\": \"x\",\n",
        "    \"}{\" : \"x\",\n",
        "    \"×\": \"x\",\n",
        "    \")(\": \"x\",\n",
        "    \"`/\": \"y\",\n",
        "    \"φ\": \"y\",\n",
        "    \"¥\": \"y\",\n",
        "    \"\\/\": \"y\",\n",
        "    \"≥\": \"z\",\n",
        "    \"7_\": \"z\",\n",
        "    \">_\": \"z\",\n",
        "    \n",
        "    # Group: Common abbreviations and their expansions\n",
        "    \"youre\": \"you are\",\n",
        "    \"im\": \"I am\",\n",
        "    \"dont\": \"do not\",\n",
        "    \"cant\": \"cannot\",\n",
        "    \"wont\": \"will not\",\n",
        "    \"ive\": \"I have\",\n",
        "    \"id\": \"I would\",\n",
        "    \"theyre\": \"they are\",\n",
        "    \"theres\": \"there is\",\n",
        "\n",
        "    # Group: Common Vietnamese shortcuts and their expansions\n",
        "    \"ko\": \"không\",\n",
        "    \"t\": \"tôi\",\n",
        "    \"m\": \"mình\",\n",
        "    \"mày\": \"em\",\n",
        "    \"tao\": \"anh\",\n",
        "    \"dc\": \"được\",\n",
        "    \"hok\": \"không\",\n",
        "    \"ngta\": \"người ta\",\n",
        "    'bsau': \"bữa sau\",\n",
        "    \"k\": \"không\"\n",
        "}"
      ]
    },
    {
      "cell_type": "code",
      "execution_count": 17,
      "metadata": {
        "colab": {
          "base_uri": "https://localhost:8080/"
        },
        "id": "vZ9d8XsYIIqq",
        "outputId": "71fae4d6-9692-4b03-eec1-e8e291163f6b"
      },
      "outputs": [
        {
          "name": "stdout",
          "output_type": "stream",
          "text": [
            "Requirement already satisfied: underthesea in /usr/local/lib/python3.10/dist-packages (6.5.0)\n",
            "Requirement already satisfied: Click>=6.0 in /usr/local/lib/python3.10/dist-packages (from underthesea) (8.1.4)\n",
            "Requirement already satisfied: python-crfsuite>=0.9.6 in /usr/local/lib/python3.10/dist-packages (from underthesea) (0.9.9)\n",
            "Requirement already satisfied: nltk in /usr/local/lib/python3.10/dist-packages (from underthesea) (3.8.1)\n",
            "Requirement already satisfied: tqdm in /usr/local/lib/python3.10/dist-packages (from underthesea) (4.65.0)\n",
            "Requirement already satisfied: requests in /usr/local/lib/python3.10/dist-packages (from underthesea) (2.27.1)\n",
            "Requirement already satisfied: joblib in /usr/local/lib/python3.10/dist-packages (from underthesea) (1.3.1)\n",
            "Requirement already satisfied: scikit-learn in /usr/local/lib/python3.10/dist-packages (from underthesea) (1.2.2)\n",
            "Requirement already satisfied: PyYAML in /usr/local/lib/python3.10/dist-packages (from underthesea) (6.0)\n",
            "Requirement already satisfied: underthesea-core==1.0.4 in /usr/local/lib/python3.10/dist-packages (from underthesea) (1.0.4)\n",
            "Requirement already satisfied: regex>=2021.8.3 in /usr/local/lib/python3.10/dist-packages (from nltk->underthesea) (2022.10.31)\n",
            "Requirement already satisfied: urllib3<1.27,>=1.21.1 in /usr/local/lib/python3.10/dist-packages (from requests->underthesea) (1.26.16)\n",
            "Requirement already satisfied: certifi>=2017.4.17 in /usr/local/lib/python3.10/dist-packages (from requests->underthesea) (2023.5.7)\n",
            "Requirement already satisfied: charset-normalizer~=2.0.0 in /usr/local/lib/python3.10/dist-packages (from requests->underthesea) (2.0.12)\n",
            "Requirement already satisfied: idna<4,>=2.5 in /usr/local/lib/python3.10/dist-packages (from requests->underthesea) (3.4)\n",
            "Requirement already satisfied: numpy>=1.17.3 in /usr/local/lib/python3.10/dist-packages (from scikit-learn->underthesea) (1.22.4)\n",
            "Requirement already satisfied: scipy>=1.3.2 in /usr/local/lib/python3.10/dist-packages (from scikit-learn->underthesea) (1.10.1)\n",
            "Requirement already satisfied: threadpoolctl>=2.0.0 in /usr/local/lib/python3.10/dist-packages (from scikit-learn->underthesea) (3.1.0)\n"
          ]
        }
      ],
      "source": [
        "!pip install underthesea"
      ]
    },
    {
      "cell_type": "code",
      "execution_count": 18,
      "metadata": {
        "id": "4uHR4pgsIG0i"
      },
      "outputs": [],
      "source": [
        "import pandas as pd\n",
        "from nltk.tokenize import sent_tokenize\n",
        "from underthesea import text_normalize\n",
        "from underthesea import word_tokenize\n",
        "from underthesea import classify\n",
        "from underthesea import sentiment\n",
        "import matplotlib.pyplot as plt\n",
        "import seaborn as sns\n",
        "from string import punctuation\n",
        "from nltk.tokenize import word_tokenize\n",
        "from nltk.stem import LancasterStemmer\n",
        "from string import punctuation\n",
        "from nltk.corpus import stopwords\n",
        "from nltk.tokenize import word_tokenize\n",
        "from nltk.stem import LancasterStemmer\n",
        "from nltk.stem.wordnet import WordNetLemmatizer\n",
        "import re\n",
        "import warnings\n",
        "warnings.filterwarnings('ignore')"
      ]
    },
    {
      "cell_type": "code",
      "execution_count": 19,
      "metadata": {
        "id": "p1DTZsJBIDAt"
      },
      "outputs": [],
      "source": [
        "stuff_to_be_removed = stopwords.words('english') + list(punctuation) + stopwords_vn\n",
        "stemmer = LancasterStemmer()"
      ]
    },
    {
      "cell_type": "code",
      "execution_count": 20,
      "metadata": {
        "colab": {
          "base_uri": "https://localhost:8080/"
        },
        "id": "kacqdvbTOkF2",
        "outputId": "027988f7-9314-408d-afea-977bbbfd7175"
      },
      "outputs": [
        {
          "name": "stderr",
          "output_type": "stream",
          "text": [
            "[nltk_data] Downloading package stopwords to /root/nltk_data...\n",
            "[nltk_data]   Package stopwords is already up-to-date!\n",
            "[nltk_data] Downloading package wordnet to /root/nltk_data...\n",
            "[nltk_data]   Package wordnet is already up-to-date!\n"
          ]
        },
        {
          "data": {
            "text/plain": [
              "True"
            ]
          },
          "execution_count": 20,
          "metadata": {},
          "output_type": "execute_result"
        }
      ],
      "source": [
        "import nltk\n",
        "from nltk.corpus import stopwords\n",
        "\n",
        "nltk.download('stopwords')\n",
        "nltk.download('wordnet')"
      ]
    },
    {
      "cell_type": "code",
      "execution_count": 24,
      "metadata": {
        "id": "IeOV06BCOClQ"
      },
      "outputs": [],
      "source": [
        "from nltk.tokenize import word_tokenize\n",
        "# from nltk.corpus import stopwords\n",
        "# from nltk.stem import WordNetLemmatizer\n",
        "\n",
        "# lemmatizer = WordNetLemmatizer()\n",
        "\n",
        "def clean_text(data):\n",
        "\n",
        "    # remove hashtags and @usernames\n",
        "    data = re.sub(r'http\\S+', '', data)\n",
        "    data = re.sub('[^a-zA-Z]', ' ', data)\n",
        "    data = re.sub(\"&lt;/?.*?&gt;\", \" &lt;&gt; \", data)\n",
        "    data = re.sub(\"(\\\\d|\\\\W)+\", \" \", data)\n",
        "    data = re.sub(r'\\d+', '', data)\n",
        "\n",
        "    # Lowering Text\n",
        "    data = data.lower()\n",
        "\n",
        "    # Removing Stop-words\n",
        "    # stopwords_dict = {word: 1 for word in stopwords.words(\"english\")}\n",
        "    data = \" \".join([word for word in data.split() if word not in stuff_to_be_removed])\n",
        "    data = [word_replacements.get(word, word) for word in data]\n",
        "    # lemmatizing words\n",
        "    #data = lemmatizer.lemmatize(data)\n",
        "    # Joining the list of words into a single string\n",
        "    data = ' '.join(data)\n",
        "    # tokenization of sentences\n",
        "    data = word_tokenize(data)\n",
        "\n",
        "    return data"
      ]
    },
    {
      "cell_type": "code",
      "execution_count": 25,
      "metadata": {
        "id": "ksvUBJ77ZhNi"
      },
      "outputs": [],
      "source": [
        "from sklearn.model_selection import train_test_split\n",
        "\n",
        "X = data['Review Text']\n",
        "y = data['sentiment']\n",
        "\n",
        "X_train, X_test, y_train, y_test = train_test_split(X,y,test_size=0.2)"
      ]
    },
    {
      "cell_type": "code",
      "execution_count": 26,
      "metadata": {
        "colab": {
          "base_uri": "https://localhost:8080/"
        },
        "id": "2ISD4RVcPKz5",
        "outputId": "0b686b50-aa95-4a79-c6c4-600bfcf556ae"
      },
      "outputs": [
        {
          "name": "stderr",
          "output_type": "stream",
          "text": [
            "[nltk_data] Downloading package punkt to /root/nltk_data...\n",
            "[nltk_data]   Package punkt is already up-to-date!\n"
          ]
        }
      ],
      "source": [
        "import nltk\n",
        "nltk.download('punkt')\n",
        "texts = [' '.join(clean_text(text)) for text in data['Review Text']]\n",
        "\n",
        "texts_train = [' '.join(clean_text(text)) for text in X_train]\n",
        "texts_test = [' '.join(clean_text(text)) for text in X_test]"
      ]
    },
    {
      "cell_type": "code",
      "execution_count": 27,
      "metadata": {
        "colab": {
          "base_uri": "https://localhost:8080/"
        },
        "id": "nMnxT936snsz",
        "outputId": "2650d3b5-fe3b-45c2-bbeb-da2c75d68e08"
      },
      "outputs": [
        {
          "name": "stderr",
          "output_type": "stream",
          "text": [
            "[nltk_data] Downloading package punkt to /root/nltk_data...\n",
            "[nltk_data]   Package punkt is already up-to-date!\n"
          ]
        }
      ],
      "source": [
        "import nltk\n",
        "nltk.download('punkt')\n",
        "\n",
        "# Assuming you have defined the clean_text function\n",
        "\n",
        "# Fill missing values in df[\"ReviewText\"] with empty strings\n",
        "df[\"Review Text\"].fillna(\"\", inplace=True)\n",
        "\n",
        "# Apply clean_text function to text data\n",
        "texts = [' '.join(clean_text(text)) for text in df[\"Review Text\"]]\n",
        "\n",
        "# Similarly, handle missing values in X_train and X_test if needed\n",
        "X_train.fillna(\"\", inplace=True)\n",
        "X_test.fillna(\"\", inplace=True)\n",
        "\n",
        "texts_train = [' '.join(clean_text(text)) for text in X_train]\n",
        "texts_test = [' '.join(clean_text(text)) for text in X_test]"
      ]
    },
    {
      "cell_type": "code",
      "execution_count": 28,
      "metadata": {
        "colab": {
          "base_uri": "https://localhost:8080/"
        },
        "id": "zO9x5EQNsp9T",
        "outputId": "70f14e9f-33e8-4350-fdaf-9f57716001a6"
      },
      "outputs": [
        {
          "name": "stdout",
          "output_type": "stream",
          "text": [
            "Number of unique words: 25\n"
          ]
        }
      ],
      "source": [
        "# preparing input to our model\n",
        "from tensorflow.keras.preprocessing.text import Tokenizer\n",
        "\n",
        "tokenizer = Tokenizer()\n",
        "tokenizer.fit_on_texts(texts)\n",
        "\n",
        "sequence_train = tokenizer.texts_to_sequences(texts_train)\n",
        "sequence_test = tokenizer.texts_to_sequences(texts_test)\n",
        "\n",
        "index_of_words = tokenizer.word_index\n",
        "\n",
        "# vacab size is number of unique words + reserved 0 index for padding\n",
        "vocab_size = len(index_of_words) + 1\n",
        "\n",
        "print('Number of unique words: {}'.format(len(index_of_words)))"
      ]
    },
    {
      "cell_type": "code",
      "execution_count": 29,
      "metadata": {
        "colab": {
          "base_uri": "https://localhost:8080/"
        },
        "id": "2Hi6OLLjbZ_U",
        "outputId": "2f899447-4bae-48be-872a-50a695b4aa33"
      },
      "outputs": [
        {
          "name": "stdout",
          "output_type": "stream",
          "text": [
            "10014\n",
            "2504\n"
          ]
        }
      ],
      "source": [
        "print(len(texts_train))\n",
        "print(len(texts_test))"
      ]
    },
    {
      "cell_type": "code",
      "execution_count": 30,
      "metadata": {
        "colab": {
          "base_uri": "https://localhost:8080/"
        },
        "id": "jVsMThvKwPnz",
        "outputId": "fa8e6dbe-1fa2-4e21-e269-3a59b54dae0e"
      },
      "outputs": [
        {
          "name": "stdout",
          "output_type": "stream",
          "text": [
            "c a mình e e n d o s c o p y tôi e r r i b l e s e r b i c e f a c i l i tôi i e s p r o p e r q u e i n g mình a n y p e o p l e tôi o o không q u e i n g tôi i c không e tôi s a d b a n c e s e l l i n g p a tôi i e n tôi s h i g h e r p r i c e u n e tôi h i c a l s tôi a f f s h o s p i tôi a l không n o w n o tôi h i n g p r o b l e mình g o i n g y e a r s s a w mình a n y s tôi a f f s s tôi o o d p l a y e d p h o n e s i n c e mình a n y p a tôi i e n tôi s s tôi a f f s n u r s e s d o c tôi o r s s p e n d s h o r tôi tôi i mình e p a tôi i e n tôi w h o l e p r o c e s s tôi o o không tôi w o d a y s s a w d o c tôi o r s mình i n u tôi e s mình i n s e n d o s c o p y d o c tôi o r s q u a l i tôi y o không n o tôi h i n g g o o d h o s p i tôi a l p r i b a tôi e h o s p i tôi a l s c i tôi y mình u c h b e tôi tôi e r o n e c h c h b o n c h e n không h n g p l tôi h c n g n h không h n g h o n n không h n g c không h n i x p h n g r n h i u c n h n l tôi h tôi r c r b n l n h b c h e n không o mình u a tôi h p h c h n n g mình a i c n g c h c h c c b n h b i n h o n n không h n g q u a n n b i c n n h c c h tôi h n c h u n g l b n h b i n n n g o tôi r b c c n g g l c tôi a y n g h tôi h c c không h u không h c u\n",
            "1248\n"
          ]
        }
      ],
      "source": [
        "print(texts[0])\n",
        "print(len(texts[0])) # this is number of characters NOT IMP"
      ]
    },
    {
      "cell_type": "code",
      "execution_count": 31,
      "metadata": {
        "colab": {
          "base_uri": "https://localhost:8080/"
        },
        "id": "NwWCU52qw4TQ",
        "outputId": "da120c6c-b83c-47de-c828-029f1a7d2086"
      },
      "outputs": [
        {
          "data": {
            "text/plain": [
              "1659"
            ]
          },
          "execution_count": 31,
          "metadata": {},
          "output_type": "execute_result"
        }
      ],
      "source": [
        "lst = []\n",
        "\n",
        "for i in texts:\n",
        "  lst.append(len(i.split()))\n",
        "val = max(lst)                             # Number of Words IMP\n",
        "val"
      ]
    },
    {
      "cell_type": "code",
      "execution_count": 32,
      "metadata": {
        "colab": {
          "base_uri": "https://localhost:8080/"
        },
        "id": "SEigS8YFsvmm",
        "outputId": "e10d1d25-a75f-40a9-879f-de5f2681b190"
      },
      "outputs": [
        {
          "data": {
            "text/plain": [
              "array([[ 0,  0,  0, ..., 13,  9,  2],\n",
              "       [ 0,  0,  0, ..., 10,  3,  2],\n",
              "       [ 0,  0,  0, ...,  1,  2, 11],\n",
              "       ...,\n",
              "       [ 0,  0,  0, ...,  3,  2,  8],\n",
              "       [ 0,  0,  0, ...,  1,  6,  2],\n",
              "       [ 0,  0,  0, ...,  1,  5,  1]], dtype=int32)"
            ]
          },
          "execution_count": 32,
          "metadata": {},
          "output_type": "execute_result"
        }
      ],
      "source": [
        "# Max input length (max number of words)\n",
        "max_seq_len = val+3\n",
        "\n",
        "from tensorflow.keras.preprocessing.sequence import pad_sequences\n",
        "\n",
        "X_train_pad = pad_sequences(sequence_train, maxlen = max_seq_len)\n",
        "X_test_pad = pad_sequences(sequence_test, maxlen = max_seq_len )\n",
        "\n",
        "X_train_pad"
      ]
    },
    {
      "cell_type": "code",
      "execution_count": 33,
      "metadata": {
        "id": "1enc7Sl6s0dc"
      },
      "outputs": [],
      "source": [
        "from tensorflow.keras.utils import to_categorical\n",
        "\n",
        "y_train = to_categorical(y_train)\n",
        "y_test = to_categorical(y_test)"
      ]
    },
    {
      "cell_type": "code",
      "execution_count": 34,
      "metadata": {
        "colab": {
          "base_uri": "https://localhost:8080/"
        },
        "id": "d0G2AMhM4t_5",
        "outputId": "6e6a1509-77c2-445c-d346-db2e9f24b88c"
      },
      "outputs": [
        {
          "data": {
            "text/plain": [
              "array([[1., 0., 0.],\n",
              "       [0., 0., 1.],\n",
              "       [0., 0., 1.],\n",
              "       ...,\n",
              "       [0., 0., 1.],\n",
              "       [1., 0., 0.],\n",
              "       [0., 0., 1.]], dtype=float32)"
            ]
          },
          "execution_count": 34,
          "metadata": {},
          "output_type": "execute_result"
        }
      ],
      "source": [
        "y_train"
      ]
    },
    {
      "cell_type": "code",
      "execution_count": 35,
      "metadata": {
        "colab": {
          "base_uri": "https://localhost:8080/"
        },
        "id": "6dFy1JPmbhb2",
        "outputId": "c19c00d9-04a1-4164-b4f1-8f55687ec616"
      },
      "outputs": [
        {
          "name": "stdout",
          "output_type": "stream",
          "text": [
            "10014\n",
            "2504\n"
          ]
        }
      ],
      "source": [
        "print(len(y_train))\n",
        "print(len(y_test))"
      ]
    },
    {
      "cell_type": "markdown",
      "metadata": {
        "id": "rNwrzeHdWCh6"
      },
      "source": [
        "# GRU"
      ]
    },
    {
      "cell_type": "code",
      "execution_count": 36,
      "metadata": {
        "colab": {
          "base_uri": "https://localhost:8080/"
        },
        "id": "9dh8HSdzs3cC",
        "outputId": "5588a84b-aa75-4d86-ef65-d52e645a93fc"
      },
      "outputs": [
        {
          "name": "stdout",
          "output_type": "stream",
          "text": [
            "Model: \"sequential\"\n",
            "_________________________________________________________________\n",
            " Layer (type)                Output Shape              Param #   \n",
            "=================================================================\n",
            " embedding (Embedding)       (None, 1662, 128)         3328      \n",
            "                                                                 \n",
            " dropout (Dropout)           (None, 1662, 128)         0         \n",
            "                                                                 \n",
            " gru (GRU)                   (None, 1662, 64)          37248     \n",
            "                                                                 \n",
            " dropout_1 (Dropout)         (None, 1662, 64)          0         \n",
            "                                                                 \n",
            " gru_1 (GRU)                 (None, 1662, 32)          9408      \n",
            "                                                                 \n",
            " dropout_2 (Dropout)         (None, 1662, 32)          0         \n",
            "                                                                 \n",
            " gru_2 (GRU)                 (None, 10)                1320      \n",
            "                                                                 \n",
            " dropout_3 (Dropout)         (None, 10)                0         \n",
            "                                                                 \n",
            " dense (Dense)               (None, 3)                 33        \n",
            "                                                                 \n",
            "=================================================================\n",
            "Total params: 51,337\n",
            "Trainable params: 51,337\n",
            "Non-trainable params: 0\n",
            "_________________________________________________________________\n",
            "None\n"
          ]
        }
      ],
      "source": [
        "from tensorflow.keras.models import Sequential\n",
        "from tensorflow.keras.layers import Dense, LSTM, Bidirectional, Dropout, Embedding, GRU\n",
        "from tensorflow.keras.callbacks import EarlyStopping\n",
        "\n",
        "embedding_vector_features=128\n",
        "max_seq_len = val+3\n",
        "\n",
        "# embedding_vector_features=40\n",
        "model=Sequential()\n",
        "model.add(Embedding(vocab_size,embedding_vector_features,input_length=max_seq_len))\n",
        "model.add(Dropout(0.5))\n",
        "\n",
        "model.add(GRU(64,return_sequences=True))\n",
        "model.add(Dropout(0.5))\n",
        "\n",
        "model.add(GRU(32,return_sequences=True))\n",
        "model.add(Dropout(0.5))\n",
        "\n",
        "model.add(GRU(10))\n",
        "model.add(Dropout(0.5))\n",
        "\n",
        "model.add(Dense(3,activation='softmax'))\n",
        "model.compile(loss='categorical_crossentropy',optimizer='adam',metrics=['accuracy'])\n",
        "print(model.summary())"
      ]
    },
    {
      "cell_type": "code",
      "execution_count": 37,
      "metadata": {
        "colab": {
          "base_uri": "https://localhost:8080/"
        },
        "id": "wLmgVCwAtMRe",
        "outputId": "9fd853f9-b2c2-44f2-bbb5-915ec2f2fe07"
      },
      "outputs": [
        {
          "name": "stdout",
          "output_type": "stream",
          "text": [
            "Epoch 1/50\n",
            "313/313 [==============================] - 51s 141ms/step - loss: 0.9374 - accuracy: 0.5456 - val_loss: 0.8372 - val_accuracy: 0.6434\n",
            "Epoch 2/50\n",
            "313/313 [==============================] - 43s 138ms/step - loss: 0.8853 - accuracy: 0.6147 - val_loss: 0.8149 - val_accuracy: 0.6534\n",
            "Epoch 3/50\n",
            "313/313 [==============================] - 42s 134ms/step - loss: 0.8663 - accuracy: 0.6353 - val_loss: 0.8010 - val_accuracy: 0.6677\n",
            "Epoch 4/50\n",
            "313/313 [==============================] - 42s 134ms/step - loss: 0.8674 - accuracy: 0.6297 - val_loss: 0.8109 - val_accuracy: 0.6629\n",
            "Epoch 5/50\n",
            "313/313 [==============================] - 41s 131ms/step - loss: 0.8505 - accuracy: 0.6438 - val_loss: 0.7845 - val_accuracy: 0.6757\n",
            "Epoch 6/50\n",
            "313/313 [==============================] - 41s 133ms/step - loss: 0.8324 - accuracy: 0.6553 - val_loss: 0.7771 - val_accuracy: 0.6849\n",
            "Epoch 7/50\n",
            "313/313 [==============================] - 42s 134ms/step - loss: 0.8290 - accuracy: 0.6587 - val_loss: 0.7858 - val_accuracy: 0.6745\n",
            "Epoch 8/50\n",
            "313/313 [==============================] - 43s 139ms/step - loss: 0.8199 - accuracy: 0.6683 - val_loss: 0.7627 - val_accuracy: 0.6921\n",
            "Epoch 9/50\n",
            "313/313 [==============================] - 42s 133ms/step - loss: 0.8003 - accuracy: 0.6808 - val_loss: 0.7588 - val_accuracy: 0.6921\n",
            "Epoch 10/50\n",
            "313/313 [==============================] - 42s 133ms/step - loss: 0.7893 - accuracy: 0.6824 - val_loss: 0.7298 - val_accuracy: 0.7101\n",
            "Epoch 11/50\n",
            "313/313 [==============================] - 43s 138ms/step - loss: 0.7636 - accuracy: 0.7070 - val_loss: 0.7177 - val_accuracy: 0.7200\n",
            "Epoch 12/50\n",
            "313/313 [==============================] - 42s 135ms/step - loss: 0.7481 - accuracy: 0.7143 - val_loss: 0.7272 - val_accuracy: 0.7081\n",
            "Epoch 13/50\n",
            "313/313 [==============================] - 42s 135ms/step - loss: 0.7331 - accuracy: 0.7271 - val_loss: 0.7392 - val_accuracy: 0.7097\n",
            "Epoch 14/50\n",
            "313/313 [==============================] - 42s 135ms/step - loss: 0.7262 - accuracy: 0.7258 - val_loss: 0.6960 - val_accuracy: 0.7388\n",
            "Epoch 15/50\n",
            "313/313 [==============================] - 41s 131ms/step - loss: 0.7095 - accuracy: 0.7373 - val_loss: 0.6933 - val_accuracy: 0.7272\n",
            "Epoch 16/50\n",
            "313/313 [==============================] - 41s 130ms/step - loss: 0.7033 - accuracy: 0.7373 - val_loss: 0.6698 - val_accuracy: 0.7516\n",
            "Epoch 17/50\n",
            "313/313 [==============================] - 42s 135ms/step - loss: 0.6879 - accuracy: 0.7472 - val_loss: 0.6702 - val_accuracy: 0.7444\n",
            "Epoch 18/50\n",
            "313/313 [==============================] - 42s 134ms/step - loss: 0.6770 - accuracy: 0.7507 - val_loss: 0.6633 - val_accuracy: 0.7548\n",
            "Epoch 19/50\n",
            "313/313 [==============================] - 43s 137ms/step - loss: 0.6633 - accuracy: 0.7586 - val_loss: 0.6439 - val_accuracy: 0.7684\n",
            "Epoch 20/50\n",
            "313/313 [==============================] - 42s 136ms/step - loss: 0.6561 - accuracy: 0.7632 - val_loss: 0.6555 - val_accuracy: 0.7488\n",
            "Epoch 21/50\n",
            "313/313 [==============================] - 43s 138ms/step - loss: 0.6401 - accuracy: 0.7727 - val_loss: 0.6488 - val_accuracy: 0.7532\n",
            "Epoch 22/50\n",
            "313/313 [==============================] - 42s 133ms/step - loss: 0.6275 - accuracy: 0.7796 - val_loss: 0.6455 - val_accuracy: 0.7680\n",
            "Epoch 23/50\n",
            "313/313 [==============================] - 41s 131ms/step - loss: 0.6162 - accuracy: 0.7826 - val_loss: 0.6112 - val_accuracy: 0.7776\n",
            "Epoch 24/50\n",
            "313/313 [==============================] - 41s 132ms/step - loss: 0.5987 - accuracy: 0.7865 - val_loss: 0.6330 - val_accuracy: 0.7827\n",
            "Epoch 25/50\n",
            "313/313 [==============================] - 42s 133ms/step - loss: 0.5920 - accuracy: 0.7928 - val_loss: 0.6230 - val_accuracy: 0.7752\n",
            "Epoch 26/50\n",
            "313/313 [==============================] - 42s 134ms/step - loss: 0.5847 - accuracy: 0.7957 - val_loss: 0.6033 - val_accuracy: 0.7879\n",
            "Epoch 27/50\n",
            "313/313 [==============================] - 43s 138ms/step - loss: 0.5735 - accuracy: 0.7984 - val_loss: 0.5929 - val_accuracy: 0.7915\n",
            "Epoch 28/50\n",
            "313/313 [==============================] - 42s 135ms/step - loss: 0.5650 - accuracy: 0.7998 - val_loss: 0.6120 - val_accuracy: 0.7871\n",
            "Epoch 29/50\n",
            "313/313 [==============================] - 42s 133ms/step - loss: 0.5512 - accuracy: 0.8109 - val_loss: 0.6025 - val_accuracy: 0.7879\n",
            "Epoch 30/50\n",
            "313/313 [==============================] - 43s 137ms/step - loss: 0.5408 - accuracy: 0.8104 - val_loss: 0.5753 - val_accuracy: 0.8027\n",
            "Epoch 31/50\n",
            "313/313 [==============================] - 42s 136ms/step - loss: 0.5319 - accuracy: 0.8148 - val_loss: 0.5963 - val_accuracy: 0.7987\n",
            "Epoch 32/50\n",
            "313/313 [==============================] - 42s 135ms/step - loss: 0.5173 - accuracy: 0.8226 - val_loss: 0.5700 - val_accuracy: 0.7999\n",
            "Epoch 33/50\n",
            "313/313 [==============================] - 42s 134ms/step - loss: 0.5164 - accuracy: 0.8205 - val_loss: 0.5671 - val_accuracy: 0.8011\n",
            "Epoch 34/50\n",
            "313/313 [==============================] - 43s 137ms/step - loss: 0.5179 - accuracy: 0.8182 - val_loss: 0.5617 - val_accuracy: 0.8107\n",
            "Epoch 35/50\n",
            "313/313 [==============================] - 41s 131ms/step - loss: 0.4934 - accuracy: 0.8279 - val_loss: 0.5586 - val_accuracy: 0.8095\n",
            "Epoch 36/50\n",
            "313/313 [==============================] - 42s 134ms/step - loss: 0.4951 - accuracy: 0.8280 - val_loss: 0.5474 - val_accuracy: 0.8195\n",
            "Epoch 37/50\n",
            "313/313 [==============================] - 41s 131ms/step - loss: 0.4835 - accuracy: 0.8342 - val_loss: 0.5545 - val_accuracy: 0.8191\n",
            "Epoch 38/50\n",
            "313/313 [==============================] - 42s 134ms/step - loss: 0.4760 - accuracy: 0.8315 - val_loss: 0.5479 - val_accuracy: 0.8135\n",
            "Epoch 39/50\n",
            "313/313 [==============================] - 43s 138ms/step - loss: 0.4724 - accuracy: 0.8359 - val_loss: 0.5451 - val_accuracy: 0.8187\n",
            "Epoch 40/50\n",
            "313/313 [==============================] - 42s 134ms/step - loss: 0.4737 - accuracy: 0.8331 - val_loss: 0.5400 - val_accuracy: 0.8207\n",
            "Epoch 41/50\n",
            "313/313 [==============================] - 43s 139ms/step - loss: 0.4622 - accuracy: 0.8386 - val_loss: 0.5393 - val_accuracy: 0.8211\n",
            "Epoch 42/50\n",
            "313/313 [==============================] - 42s 133ms/step - loss: 0.4573 - accuracy: 0.8432 - val_loss: 0.5414 - val_accuracy: 0.8279\n",
            "Epoch 43/50\n",
            "313/313 [==============================] - 43s 139ms/step - loss: 0.4483 - accuracy: 0.8410 - val_loss: 0.5275 - val_accuracy: 0.8243\n",
            "Epoch 44/50\n",
            "313/313 [==============================] - 43s 137ms/step - loss: 0.4402 - accuracy: 0.8455 - val_loss: 0.5413 - val_accuracy: 0.8247\n",
            "Epoch 45/50\n",
            "313/313 [==============================] - 43s 138ms/step - loss: 0.4458 - accuracy: 0.8449 - val_loss: 0.5207 - val_accuracy: 0.8371\n",
            "Epoch 46/50\n",
            "313/313 [==============================] - 43s 136ms/step - loss: 0.4291 - accuracy: 0.8455 - val_loss: 0.5222 - val_accuracy: 0.8315\n",
            "Epoch 47/50\n",
            "313/313 [==============================] - 43s 138ms/step - loss: 0.4214 - accuracy: 0.8543 - val_loss: 0.5125 - val_accuracy: 0.8331\n",
            "Epoch 48/50\n",
            "313/313 [==============================] - 44s 140ms/step - loss: 0.4178 - accuracy: 0.8532 - val_loss: 0.5195 - val_accuracy: 0.8327\n",
            "Epoch 49/50\n",
            "313/313 [==============================] - 44s 141ms/step - loss: 0.4132 - accuracy: 0.8543 - val_loss: 0.5134 - val_accuracy: 0.8383\n",
            "Epoch 50/50\n",
            "313/313 [==============================] - 43s 137ms/step - loss: 0.4009 - accuracy: 0.8597 - val_loss: 0.5194 - val_accuracy: 0.8299\n"
          ]
        }
      ],
      "source": [
        "early_stop = EarlyStopping(monitor='val_loss', patience=5, verbose=1, mode='min')\n",
        "\n",
        "history_gru = model.fit(X_train_pad, y_train,epochs=50,batch_size=32,validation_data=(X_test_pad, y_test),callbacks=[early_stop])"
      ]
    },
    {
      "cell_type": "code",
      "execution_count": 40,
      "metadata": {
        "colab": {
          "base_uri": "https://localhost:8080/",
          "height": 564
        },
        "id": "SZVEDKGIVv-O",
        "outputId": "c5bc7f0d-c349-44ed-82da-ee0c808191b2"
      },
      "outputs": [
        {
          "data": {
            "image/png": "[encoded data removed]",
            "text/plain": [
              "<Figure size 800x600 with 1 Axes>"
            ]
          },
          "metadata": {},
          "output_type": "display_data"
        }
      ],
      "source": [
        "# Get the training and validation loss values from the history\n",
        "train_loss = history_gru.history['loss']\n",
        "val_loss = history_gru.history['val_loss']\n",
        "\n",
        "# Get the total number of epochs, considering the case when early stopping did not occur\n",
        "total_epochs = len(train_loss)\n",
        "\n",
        "# Create a plot for training and validation loss\n",
        "plt.figure(figsize=(8, 6))\n",
        "plt.plot(range(1, total_epochs + 1), train_loss, label='Training Loss')\n",
        "plt.plot(range(1, total_epochs + 1), val_loss, label='Validation Loss')\n",
        "plt.xlabel('Epoch')\n",
        "plt.ylabel('Loss')\n",
        "plt.title('Training and Validation Loss over Epochs')\n",
        "plt.legend()\n",
        "plt.grid(True)\n",
        "plt.show()"
      ]
    },
    {
      "cell_type": "code",
      "execution_count": 41,
      "metadata": {
        "colab": {
          "base_uri": "https://localhost:8080/",
          "height": 451
        },
        "id": "cJCo1AZIhH2a",
        "outputId": "6b548bfa-f331-4ef2-99ac-996c6bca8226"
      },
      "outputs": [
        {
          "data": {
            "image/png": "[encoded data removed]",
            "text/plain": [
              "<Figure size 1000x500 with 1 Axes>"
            ]
          },
          "metadata": {},
          "output_type": "display_data"
        }
      ],
      "source": [
        "apd.DataFrame(history_gru.history).plot(figsize=[10,5])\n",
        "plt.yticks(np.linspace(0,1,6))\n",
        "plt.xticks(np.linspace(0,10,2))\n",
        "plt.show()"
      ]
    },
    {
      "cell_type": "code",
      "execution_count": 42,
      "metadata": {
        "id": "RrS0orJbtS_j"
      },
      "outputs": [],
      "source": [
        "model.save('/content/gdrive/MyDrive/Colab Notebooks/FINAL_GRU_output.h5')"
      ]
    },
    {
      "cell_type": "code",
      "execution_count": 43,
      "metadata": {
        "colab": {
          "base_uri": "https://localhost:8080/"
        },
        "id": "YIKnaw9a3wdW",
        "outputId": "a12fd8fe-959d-45f7-cedf-eb7b50de3800"
      },
      "outputs": [
        {
          "name": "stdout",
          "output_type": "stream",
          "text": [
            "79/79 [==============================] - 5s 59ms/step\n"
          ]
        }
      ],
      "source": [
        "predictions = model.predict(X_test_pad)\n",
        "predictions = np.argmax(predictions, axis=1)\n",
        "predictions = [class_names[pred] for pred in predictions]"
      ]
    },
    {
      "cell_type": "code",
      "execution_count": 44,
      "metadata": {
        "colab": {
          "base_uri": "https://localhost:8080/"
        },
        "id": "1Lz1kRaJ4BzG",
        "outputId": "f3489bba-5077-4b30-d0ae-dbb0530044a0"
      },
      "outputs": [
        {
          "name": "stdout",
          "output_type": "stream",
          "text": [
            "1/1 [==============================] - 0s 98ms/step\n",
            "Message: ['bệnh viện xịn']\n",
            "predicted: Negative (0.22 seconds)\n"
          ]
        }
      ],
      "source": [
        "import time\n",
        "\n",
        "message = ['bệnh viện xịn']\n",
        "\n",
        "seq = tokenizer.texts_to_sequences(message)\n",
        "padded = pad_sequences(seq, maxlen=max_seq_len)\n",
        "\n",
        "start_time = time.time()\n",
        "pred = model.predict(padded)\n",
        "\n",
        "print('Message: ' + str(message))\n",
        "print('predicted: {} ({:.2f} seconds)'.format(class_names[np.argmax(pred)], (time.time() - start_time)))"
      ]
    },
    {
      "cell_type": "markdown",
      "metadata": {
        "id": "sRhd6OMMOuJH"
      },
      "source": [
        "________________________________________________________________________________"
      ]
    },
    {
      "cell_type": "markdown",
      "metadata": {
        "id": "9GECM7zuWI0B"
      },
      "source": [
        "# LSTM"
      ]
    },
    {
      "cell_type": "code",
      "execution_count": 45,
      "metadata": {
        "colab": {
          "base_uri": "https://localhost:8080/"
        },
        "id": "ZnQqS9_0cMFj",
        "outputId": "d12e74ec-915e-4224-8ddb-3e4a71b4a574"
      },
      "outputs": [
        {
          "name": "stdout",
          "output_type": "stream",
          "text": [
            "Model: \"sequential_1\"\n",
            "_________________________________________________________________\n",
            " Layer (type)                Output Shape              Param #   \n",
            "=================================================================\n",
            " embedding_1 (Embedding)     (None, 1662, 128)         3328      \n",
            "                                                                 \n",
            " lstm (LSTM)                 (None, 1662, 64)          49408     \n",
            "                                                                 \n",
            " lstm_1 (LSTM)               (None, 1662, 32)          12416     \n",
            "                                                                 \n",
            " lstm_2 (LSTM)               (None, 10)                1720      \n",
            "                                                                 \n",
            " dense_1 (Dense)             (None, 3)                 33        \n",
            "                                                                 \n",
            "=================================================================\n",
            "Total params: 66,905\n",
            "Trainable params: 66,905\n",
            "Non-trainable params: 0\n",
            "_________________________________________________________________\n",
            "None\n"
          ]
        }
      ],
      "source": [
        "from tensorflow.keras.models import Sequential\n",
        "from tensorflow.keras.layers import Dense, LSTM, Bidirectional, Dropout, Embedding, GRU\n",
        "from tensorflow.keras.callbacks import EarlyStopping\n",
        "\n",
        "embedding_vector_features=128\n",
        "max_seq_len = val+3\n",
        "\n",
        "# embedding_vector_features=40\n",
        "model2=Sequential()\n",
        "model2.add(Embedding(vocab_size,embedding_vector_features,input_length=max_seq_len))\n",
        "model.add(Dropout(0.5))\n",
        "\n",
        "model2.add(LSTM(64,return_sequences=True))\n",
        "model.add(Dropout(0.5))\n",
        "\n",
        "model2.add(LSTM(32,return_sequences=True))\n",
        "model.add(Dropout(0.5))\n",
        "\n",
        "model2.add(LSTM(10))\n",
        "model.add(Dropout(0.5))\n",
        "\n",
        "model2.add(Dense(3,activation='softmax'))\n",
        "model2.compile(loss='categorical_crossentropy',optimizer='adam',metrics=['accuracy'])\n",
        "print(model2.summary())"
      ]
    },
    {
      "cell_type": "code",
      "execution_count": null,
      "metadata": {
        "colab": {
          "base_uri": "https://localhost:8080/"
        },
        "id": "7opzUvAfOtef",
        "outputId": "8a057dde-3f56-498f-a718-614ef1a420be"
      },
      "outputs": [
        {
          "name": "stdout",
          "output_type": "stream",
          "text": [
            "Epoch 1/50\n",
            "313/313 [==============================] - 53s 148ms/step - loss: 0.8789 - accuracy: 0.6037 - val_loss: 0.8316 - val_accuracy: 0.6462\n",
            "Epoch 2/50\n",
            "313/313 [==============================] - 43s 137ms/step - loss: 0.8433 - accuracy: 0.6399 - val_loss: 0.8305 - val_accuracy: 0.6390\n",
            "Epoch 3/50\n",
            "313/313 [==============================] - 42s 135ms/step - loss: 0.8370 - accuracy: 0.6461 - val_loss: 0.8119 - val_accuracy: 0.6621\n",
            "Epoch 4/50\n",
            "313/313 [==============================] - 43s 139ms/step - loss: 0.8515 - accuracy: 0.6305 - val_loss: 0.8165 - val_accuracy: 0.6589\n",
            "Epoch 5/50\n",
            "313/313 [==============================] - 42s 134ms/step - loss: 0.8222 - accuracy: 0.6505 - val_loss: 0.8107 - val_accuracy: 0.6546\n",
            "Epoch 6/50\n",
            "313/313 [==============================] - 43s 137ms/step - loss: 0.8190 - accuracy: 0.6499 - val_loss: 0.7919 - val_accuracy: 0.6713\n",
            "Epoch 7/50\n",
            "313/313 [==============================] - 44s 142ms/step - loss: 0.8105 - accuracy: 0.6614 - val_loss: 0.8038 - val_accuracy: 0.6693\n",
            "Epoch 8/50\n",
            "313/313 [==============================] - 43s 136ms/step - loss: 0.8162 - accuracy: 0.6472 - val_loss: 0.7981 - val_accuracy: 0.6717\n",
            "Epoch 9/50\n",
            "313/313 [==============================] - 44s 139ms/step - loss: 0.7940 - accuracy: 0.6653 - val_loss: 0.7867 - val_accuracy: 0.6769\n",
            "Epoch 10/50\n",
            "313/313 [==============================] - 43s 136ms/step - loss: 0.7824 - accuracy: 0.6778 - val_loss: 0.7765 - val_accuracy: 0.6861\n",
            "Epoch 11/50\n",
            "313/313 [==============================] - 44s 140ms/step - loss: 0.7778 - accuracy: 0.6808 - val_loss: 0.7654 - val_accuracy: 0.6837\n",
            "Epoch 12/50\n",
            "313/313 [==============================] - 44s 140ms/step - loss: 0.7604 - accuracy: 0.6965 - val_loss: 0.7502 - val_accuracy: 0.7029\n",
            "Epoch 13/50\n",
            "313/313 [==============================] - 45s 143ms/step - loss: 0.7355 - accuracy: 0.7044 - val_loss: 0.7324 - val_accuracy: 0.7121\n",
            "Epoch 14/50\n",
            "313/313 [==============================] - 44s 142ms/step - loss: 0.7199 - accuracy: 0.7158 - val_loss: 0.7232 - val_accuracy: 0.7129\n",
            "Epoch 15/50\n",
            "313/313 [==============================] - 42s 136ms/step - loss: 0.7044 - accuracy: 0.7229 - val_loss: 0.7203 - val_accuracy: 0.7153\n",
            "Epoch 16/50\n",
            "313/313 [==============================] - 44s 142ms/step - loss: 0.6891 - accuracy: 0.7325 - val_loss: 0.7093 - val_accuracy: 0.7125\n",
            "Epoch 17/50\n",
            "313/313 [==============================] - 43s 138ms/step - loss: 0.6638 - accuracy: 0.7445 - val_loss: 0.6963 - val_accuracy: 0.7236\n",
            "Epoch 18/50\n",
            "313/313 [==============================] - 44s 139ms/step - loss: 0.6346 - accuracy: 0.7589 - val_loss: 0.6801 - val_accuracy: 0.7384\n",
            "Epoch 19/50\n",
            "313/313 [==============================] - 45s 143ms/step - loss: 0.6098 - accuracy: 0.7722 - val_loss: 0.6570 - val_accuracy: 0.7532\n",
            "Epoch 20/50\n",
            "313/313 [==============================] - 43s 137ms/step - loss: 0.5800 - accuracy: 0.7834 - val_loss: 0.6429 - val_accuracy: 0.7572\n",
            "Epoch 21/50\n",
            "313/313 [==============================] - 44s 142ms/step - loss: 0.5414 - accuracy: 0.8000 - val_loss: 0.6580 - val_accuracy: 0.7608\n",
            "Epoch 22/50\n",
            "313/313 [==============================] - 44s 139ms/step - loss: 0.5079 - accuracy: 0.8174 - val_loss: 0.7042 - val_accuracy: 0.7264\n",
            "Epoch 23/50\n",
            "313/313 [==============================] - 44s 142ms/step - loss: 0.4816 - accuracy: 0.8237 - val_loss: 0.6101 - val_accuracy: 0.7740\n",
            "Epoch 24/50\n",
            " 52/313 [===>..........................] - ETA: 30s - loss: 0.4600 - accuracy: 0.8401"
          ]
        }
      ],
      "source": [
        "early_stop = EarlyStopping(monitor='val_loss', patience=5, verbose=1, mode='min')\n",
        "\n",
        "model2.fit(X_train_pad, y_train,epochs=50,batch_size=32,validation_data=(X_test_pad, y_test),callbacks=[early_stop])"
      ]
    },
    {
      "cell_type": "code",
      "execution_count": null,
      "metadata": {
        "id": "QlkBP4V3OtcK"
      },
      "outputs": [],
      "source": [
        "model2.save('/content/gdrive/MyDrive/Colab Notebooks/FINAL_LSTM_output.h5')"
      ]
    },
    {
      "cell_type": "code",
      "execution_count": null,
      "metadata": {
        "id": "5ywtgo_jOtaH"
      },
      "outputs": [],
      "source": [
        "predictions = model2.predict(X_test_pad)\n",
        "predictions = np.argmax(predictions, axis=1)\n",
        "predictions = [class_names[pred] for pred in predictions]"
      ]
    },
    {
      "cell_type": "code",
      "execution_count": null,
      "metadata": {
        "id": "3Zvq80WfOtSo"
      },
      "outputs": [],
      "source": [
        "import time\n",
        "\n",
        "message = ['Bệnh viện như cặc']\n",
        "\n",
        "seq = tokenizer.texts_to_sequences(message)\n",
        "padded = pad_sequences(seq, maxlen=max_seq_len)\n",
        "\n",
        "start_time = time.time()\n",
        "pred = model2.predict(padded)\n",
        "\n",
        "print('Message: ' + str(message))\n",
        "print('predicted: {} ({:.2f} seconds)'.format(class_names[np.argmax(pred)], (time.time() - start_time)))"
      ]
    },
    {
      "cell_type": "markdown",
      "metadata": {
        "id": "FXQzlifYVqWo"
      },
      "source": [
        "_______________________________________________________________________________"
      ]
    },
    {
      "cell_type": "markdown",
      "metadata": {
        "id": "4tsaER5qWMsa"
      },
      "source": [
        "# Bidirectional LSTM"
      ]
    },
    {
      "cell_type": "code",
      "execution_count": null,
      "metadata": {
        "id": "SngN8YDhOtQd"
      },
      "outputs": [],
      "source": [
        "from tensorflow.keras.models import Sequential\n",
        "from tensorflow.keras.layers import Dense, LSTM, Bidirectional, Dropout, Embedding, GRU\n",
        "from tensorflow.keras.callbacks import EarlyStopping\n",
        "\n",
        "embedding_vector_features=128\n",
        "max_seq_len = val+3\n",
        "\n",
        "# embedding_vector_features=40\n",
        "model3=Sequential()\n",
        "model3.add(Embedding(vocab_size,embedding_vector_features,input_length=max_seq_len))\n",
        "model.add(Dropout(0.5))\n",
        "\n",
        "model3.add(Bidirectional(LSTM(64,return_sequences=True)))\n",
        "model.add(Dropout(0.5))\n",
        "\n",
        "model3.add(Bidirectional(LSTM(32,return_sequences=True)))\n",
        "model.add(Dropout(0.5))\n",
        "\n",
        "model3.add(Bidirectional(LSTM(10)))\n",
        "model.add(Dropout(0.5))\n",
        "\n",
        "model3.add(Dense(3,activation='softmax'))\n",
        "model3.compile(loss='categorical_crossentropy',optimizer='adam',metrics=['accuracy'])\n",
        "print(model3.summary())"
      ]
    },
    {
      "cell_type": "code",
      "execution_count": null,
      "metadata": {
        "id": "EL4mbgDjOtOB"
      },
      "outputs": [],
      "source": [
        "early_stop = EarlyStopping(monitor='val_loss', patience=5, verbose=1, mode='min')\n",
        "\n",
        "model3.fit(X_train_pad, y_train,epochs=50,batch_size=32,validation_data=(X_test_pad, y_test),callbacks=[early_stop])"
      ]
    },
    {
      "cell_type": "code",
      "execution_count": null,
      "metadata": {
        "id": "CKnLWqQxOtLq"
      },
      "outputs": [],
      "source": [
        "model3.save('/content/gdrive/MyDrive/Colab Notebooks/FINAL_BI_LSTM_output.h5')"
      ]
    },
    {
      "cell_type": "code",
      "execution_count": null,
      "metadata": {
        "id": "Tyr_9TlfOtKb"
      },
      "outputs": [],
      "source": [
        "predictions = model3.predict(X_test_pad)\n",
        "predictions = np.argmax(predictions, axis=1)\n",
        "predictions = [class_names[pred] for pred in predictions]"
      ]
    },
    {
      "cell_type": "code",
      "execution_count": null,
      "metadata": {
        "id": "IIX3bMZwOtCI"
      },
      "outputs": [],
      "source": [
        "import time\n",
        "\n",
        "message = ['Bệnh viện chán']\n",
        "\n",
        "seq = tokenizer.texts_to_sequences(message)\n",
        "padded = pad_sequences(seq, maxlen=max_seq_len)\n",
        "\n",
        "start_time = time.time()\n",
        "pred = model3.predict(padded)\n",
        "\n",
        "print('Message: ' + str(message))\n",
        "print('predicted: {} ({:.2f} seconds)'.format(class_names[np.argmax(pred)], (time.time() - start_time)))"
      ]
    },
    {
      "cell_type": "markdown",
      "metadata": {
        "id": "TZ79QMMLV-JA"
      },
      "source": [
        "_______________________________________________________________________________"
      ]
    },
    {
      "cell_type": "markdown",
      "metadata": {
        "id": "1XSX5jBrWjOn"
      },
      "source": [
        "# Bidirectional GRU"
      ]
    },
    {
      "cell_type": "code",
      "execution_count": null,
      "metadata": {
        "id": "3NrZMjGkV91H"
      },
      "outputs": [],
      "source": [
        "from tensorflow.keras.models import Sequential\n",
        "from tensorflow.keras.layers import Dense, LSTM, Bidirectional, Dropout, Embedding, GRU\n",
        "from tensorflow.keras.callbacks import EarlyStopping\n",
        "\n",
        "embedding_vector_features=128\n",
        "max_seq_len = val+3\n",
        "\n",
        "# embedding_vector_features=40\n",
        "model4=Sequential()\n",
        "model4.add(Embedding(vocab_size,embedding_vector_features,input_length=max_seq_len))\n",
        "model.add(Dropout(0.5))\n",
        "\n",
        "model4.add(Bidirectional(GRU(64,return_sequences=True)))\n",
        "model.add(Dropout(0.5))\n",
        "\n",
        "model4.add(Bidirectional(GRU(32,return_sequences=True)))\n",
        "model.add(Dropout(0.5))\n",
        "\n",
        "model4.add(Bidirectional(GRU(10)))\n",
        "model.add(Dropout(0.5))\n",
        "\n",
        "model4.add(Dense(3,activation='softmax'))\n",
        "model4.compile(loss='categorical_crossentropy',optimizer='adam',metrics=['accuracy'])\n",
        "print(model4.summary())"
      ]
    },
    {
      "cell_type": "code",
      "execution_count": null,
      "metadata": {
        "id": "7N1V6lebV9yT"
      },
      "outputs": [],
      "source": [
        "early_stop = EarlyStopping(monitor='val_loss', patience=5, verbose=1, mode='min')\n",
        "\n",
        "model4.fit(X_train_pad, y_train,epochs=50,batch_size=32,validation_data=(X_test_pad, y_test),callbacks=[early_stop])"
      ]
    },
    {
      "cell_type": "code",
      "execution_count": null,
      "metadata": {
        "id": "aeU0FkglV9vV"
      },
      "outputs": [],
      "source": [
        "model4.save('/content/gdrive/MyDrive/Colab Notebooks/FINAL_BI_GRU_output.h5')"
      ]
    },
    {
      "cell_type": "code",
      "execution_count": null,
      "metadata": {
        "id": "Hoq5cyT5V9sx"
      },
      "outputs": [],
      "source": [
        "predictions = model4.predict(X_test_pad)\n",
        "predictions = np.argmax(predictions, axis=1)\n",
        "predictions = [class_names[pred] for pred in predictions]"
      ]
    },
    {
      "cell_type": "code",
      "execution_count": null,
      "metadata": {
        "id": "vQsaT7UDV9lm"
      },
      "outputs": [],
      "source": [
        "import time\n",
        "\n",
        "message = ['bệnh viện tốt']\n",
        "\n",
        "seq = tokenizer.texts_to_sequences(message)\n",
        "padded = pad_sequences(seq, maxlen=max_seq_len)\n",
        "\n",
        "start_time = time.time()\n",
        "pred = model4.predict(padded)\n",
        "\n",
        "print('Message: ' + str(message))\n",
        "print('predicted: {} ({:.2f} seconds)'.format(class_names[np.argmax(pred)], (time.time() - start_time)))"
      ]
    }
  ],
  "metadata": {
    "accelerator": "GPU",
    "colab": {
      "provenance": []
    },
    "kernelspec": {
      "display_name": "Python 3",
      "name": "python3"
    },
    "language_info": {
      "codemirror_mode": {
        "name": "ipython",
        "version": 3
      },
      "file_extension": ".py",
      "mimetype": "text/x-python",
      "name": "python",
      "nbconvert_exporter": "python",
      "pygments_lexer": "ipython3",
      "version": "3.10.10"
    }
  },
  "nbformat": 4,
  "nbformat_minor": 0
}
