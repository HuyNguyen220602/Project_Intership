{
 "cells": [
  {
   "cell_type": "code",
   "execution_count": 1,
   "metadata": {},
   "outputs": [],
   "source": [
    "import pandas as pd\n",
    "from nltk.tokenize import sent_tokenize\n",
    "from underthesea import text_normalize\n",
    "from underthesea import word_tokenize\n",
    "from underthesea import classify\n",
    "from underthesea import sentiment\n",
    "import matplotlib.pyplot as plt\n",
    "import seaborn as sns\n",
    "from string import punctuation\n",
    "from nltk.tokenize import word_tokenize\n",
    "from nltk.stem import LancasterStemmer\n",
    "from string import punctuation\n",
    "from nltk.corpus import stopwords\n",
    "from nltk.tokenize import word_tokenize\n",
    "from nltk.stem import LancasterStemmer\n",
    "from nltk.stem.wordnet import WordNetLemmatizer\n",
    "import re\n",
    "import warnings\n",
    "warnings.filterwarnings('ignore')"
   ]
  },
  {
   "cell_type": "code",
   "execution_count": 2,
   "metadata": {},
   "outputs": [
    {
     "name": "stdout",
     "output_type": "stream",
     "text": [
      "                                         Review Text sentiment\n",
      "0  Came here once to do endoscopy. Terrible servi...  Negative\n",
      "1  Bệnh viện khá hiện đại. Vị trí thuận lợi đến v...   Neutral\n",
      "2  Bệnh viện Đại học Y Dược là bệnh viện đa khoa,...  Positive\n",
      "3  Lần đầu tiên đưa ba đi khám tổng quát tại Bệnh...  Positive\n",
      "4  26/05/2023. 1 ngày trải nghiệm tại bv Đại Học ...  Positive\n"
     ]
    }
   ],
   "source": [
    "data = pd.read_csv(\"F:\\Project NLP\\Huy's_data.csv\",).drop([\"Time\", \"Rating\"], axis=1)\n",
    "print(data.head())"
   ]
  },
  {
   "cell_type": "code",
   "execution_count": 4,
   "metadata": {},
   "outputs": [
    {
     "data": {
      "text/html": [
       "<div>\n",
       "<style scoped>\n",
       "    .dataframe tbody tr th:only-of-type {\n",
       "        vertical-align: middle;\n",
       "    }\n",
       "\n",
       "    .dataframe tbody tr th {\n",
       "        vertical-align: top;\n",
       "    }\n",
       "\n",
       "    .dataframe thead th {\n",
       "        text-align: right;\n",
       "    }\n",
       "</style>\n",
       "<table border=\"1\" class=\"dataframe\">\n",
       "  <thead>\n",
       "    <tr style=\"text-align: right;\">\n",
       "      <th></th>\n",
       "      <th>Review Text</th>\n",
       "      <th>sentiment</th>\n",
       "    </tr>\n",
       "  </thead>\n",
       "  <tbody>\n",
       "    <tr>\n",
       "      <th>0</th>\n",
       "      <td>Came here once to do endoscopy. Terrible servi...</td>\n",
       "      <td>0</td>\n",
       "    </tr>\n",
       "    <tr>\n",
       "      <th>1</th>\n",
       "      <td>Bệnh viện khá hiện đại. Vị trí thuận lợi đến v...</td>\n",
       "      <td>1</td>\n",
       "    </tr>\n",
       "    <tr>\n",
       "      <th>2</th>\n",
       "      <td>Bệnh viện Đại học Y Dược là bệnh viện đa khoa,...</td>\n",
       "      <td>2</td>\n",
       "    </tr>\n",
       "    <tr>\n",
       "      <th>3</th>\n",
       "      <td>Lần đầu tiên đưa ba đi khám tổng quát tại Bệnh...</td>\n",
       "      <td>2</td>\n",
       "    </tr>\n",
       "    <tr>\n",
       "      <th>4</th>\n",
       "      <td>26/05/2023. 1 ngày trải nghiệm tại bv Đại Học ...</td>\n",
       "      <td>2</td>\n",
       "    </tr>\n",
       "    <tr>\n",
       "      <th>...</th>\n",
       "      <td>...</td>\n",
       "      <td>...</td>\n",
       "    </tr>\n",
       "    <tr>\n",
       "      <th>6254</th>\n",
       "      <td>Phai Chiu thoi vi qua  nhieu nguoi bi benh nay...</td>\n",
       "      <td>2</td>\n",
       "    </tr>\n",
       "    <tr>\n",
       "      <th>6255</th>\n",
       "      <td>La chuyen da mo toi rat tin tuong nhung vi co ...</td>\n",
       "      <td>2</td>\n",
       "    </tr>\n",
       "    <tr>\n",
       "      <th>6256</th>\n",
       "      <td>Dog ng chan choi.ko co ai huog dan ca</td>\n",
       "      <td>1</td>\n",
       "    </tr>\n",
       "    <tr>\n",
       "      <th>6257</th>\n",
       "      <td>Tôi bất khả dĩ mới chọn bệnh viện này để khám....</td>\n",
       "      <td>0</td>\n",
       "    </tr>\n",
       "    <tr>\n",
       "      <th>6258</th>\n",
       "      <td>Tuyet voi, boc phieu kb ma gianh giat nhau nhu...</td>\n",
       "      <td>0</td>\n",
       "    </tr>\n",
       "  </tbody>\n",
       "</table>\n",
       "<p>6259 rows × 2 columns</p>\n",
       "</div>"
      ],
      "text/plain": [
       "                                            Review Text  sentiment\n",
       "0     Came here once to do endoscopy. Terrible servi...          0\n",
       "1     Bệnh viện khá hiện đại. Vị trí thuận lợi đến v...          1\n",
       "2     Bệnh viện Đại học Y Dược là bệnh viện đa khoa,...          2\n",
       "3     Lần đầu tiên đưa ba đi khám tổng quát tại Bệnh...          2\n",
       "4     26/05/2023. 1 ngày trải nghiệm tại bv Đại Học ...          2\n",
       "...                                                 ...        ...\n",
       "6254  Phai Chiu thoi vi qua  nhieu nguoi bi benh nay...          2\n",
       "6255  La chuyen da mo toi rat tin tuong nhung vi co ...          2\n",
       "6256              Dog ng chan choi.ko co ai huog dan ca          1\n",
       "6257  Tôi bất khả dĩ mới chọn bệnh viện này để khám....          0\n",
       "6258  Tuyet voi, boc phieu kb ma gianh giat nhau nhu...          0\n",
       "\n",
       "[6259 rows x 2 columns]"
      ]
     },
     "execution_count": 4,
     "metadata": {},
     "output_type": "execute_result"
    }
   ],
   "source": [
    "data[\"sentiment\"] = data[\"sentiment\"].replace({\"Negative\": 0, \"Neutral\": 1, \"Positive\": 2})\n",
    "data"
   ]
  },
  {
   "cell_type": "code",
   "execution_count": 5,
   "metadata": {},
   "outputs": [
    {
     "data": {
      "text/plain": [
       "(6259, 2)"
      ]
     },
     "execution_count": 5,
     "metadata": {},
     "output_type": "execute_result"
    }
   ],
   "source": [
    "data.shape"
   ]
  },
  {
   "cell_type": "code",
   "execution_count": 6,
   "metadata": {},
   "outputs": [],
   "source": [
    "texts = data['Review Text']"
   ]
  },
  {
   "cell_type": "code",
   "execution_count": 7,
   "metadata": {},
   "outputs": [],
   "source": [
    "import numpy as np\n",
    "\n",
    "text_lens = []\n",
    "for t in texts.values:\n",
    "    if isinstance(t, str):\n",
    "        text_len = len(t.split())\n",
    "        text_lens.append(text_len)\n",
    "\n",
    "len_mean = np.mean(text_lens)"
   ]
  },
  {
   "cell_type": "code",
   "execution_count": 8,
   "metadata": {},
   "outputs": [
    {
     "data": {
      "text/plain": [
       "47.90222080204506"
      ]
     },
     "execution_count": 8,
     "metadata": {},
     "output_type": "execute_result"
    }
   ],
   "source": [
    "len_mean"
   ]
  },
  {
   "cell_type": "code",
   "execution_count": 9,
   "metadata": {},
   "outputs": [],
   "source": [
    "stopwords_vn = [\n",
    "    \"bị\", \"bởi\", \"cả\", \"các\", \"cái\", \"cần\", \"càng\", \"chỉ\", \"chiếc\", \"cho\", \"chứ\",\n",
    "    \"chưa\", \"chuyện\", \"có\", \"có_thể\", \"cứ\", \"của\", \"cùng\", \"cũng\", \"đã\", \"đang\",\n",
    "    \"đây\", \"để\", \"đến_nỗi\", \"đều\", \"điều\", \"do\", \"đó\", \"được\", \"dưới\", \"gì\", \"khi\",\n",
    "    \"không\", \"là\", \"lại\", \"lên\", \"lúc\", \"mà\", \"mỗi\", \"một_cách\", \"này\", \"nên\", \"nếu\",\n",
    "    \"ngay\", \"nhiều\", \"như\", \"nhưng\", \"những\", \"nơi\", \"nữa\", \"phải\", \"qua\", \"ra\", \"rằng\",\n",
    "    \"rằng\", \"rất\", \"rất\", \"rồi\", \"sau\", \"sẽ\", \"so\", \"sự\", \"tại\", \"theo\", \"thì\", \"trên\",\n",
    "    \"trước\", \"từ\", \"từng\", \"và\", \"vẫn\", \"vào\", \"vậy\", \"vì\", \"việc\", \"với\", \"vừa\"\n",
    "    # Add more stopwords as needed\n",
    "]"
   ]
  },
  {
   "cell_type": "code",
   "execution_count": 10,
   "metadata": {},
   "outputs": [
    {
     "name": "stdout",
     "output_type": "stream",
     "text": [
      "6259\n",
      "Came here once to do endoscopy. Terrible service and facilities. No proper queing at all. So many people took queing tickets in advance and then selling to the patients with a higher price. So unethical! The staffs and the hospital know but they do nothing about it. This problem has been going on for years. I saw many staffs just stood there and played their phone. Since there are too many patients, the staffs, the nurses and the doctors will only spend a very short time on each patient. The whole process took me two days and I only saw the doctors for 15 minutes and about 15 mins more for the endoscopy itself. The doctors' quality are ok but other than that, there is nothing good about this hospital. There are some private hospitals in the city which are much better than this one.\n",
      "\n",
      "chật chội bon chen khủng khiếp. lấy số thứ tự cũng như không. hoàn toàn không có khái niệm xếp hàng. rất nhiều cá nhân lấy số thứ tự trước rồi bán lại như vé chợ đen, ko mua thì phải chờ đến ngày mai cũng chưa chắc có. bệnh viện hoàn toàn không quan tâm đến việc này. như một cái chợ thật sự. nói chung là bệnh viện này ngoại trừ bác sĩ cũng gọi là có tay nghề ra thì các khâu khác đều tệ.\n"
     ]
    }
   ],
   "source": [
    "stuff_to_be_removed = stopwords.words('english') + list(punctuation) + stopwords_vn\n",
    "stemmer = LancasterStemmer()\n",
    "corpus = data['Review Text'].tolist()\n",
    "print(len(corpus))\n",
    "print(corpus[0])\n"
   ]
  },
  {
   "cell_type": "code",
   "execution_count": 12,
   "metadata": {},
   "outputs": [],
   "source": [
    "word_replacements = {\n",
    "    \"1\": \"i\",   \"3\": \"e\",   \"4\": \"a\",   \"5\": \"s\",   \"7\": \"t\",   \"0\": \"o\",   \"@\": \"a\",   \"/\\\\\": \"a\",\n",
    "    \"/-\\\\\": \"a\",   \"*\": \"a\",   \"ä\": \"a\",   \"á\": \"a\",   \"à\": \"a\",   \"â\": \"a\",   \"a^\": \"a\",   \"ã\": \"a\",\n",
    "    \"å\": \"a\",   \"ą\": \"a\",   \"ª\": \"a\",   \"∀\": \"a\",   \"∧\": \"a\",   \"α\": \"a\",   \"8\": \"b\",   \"|3\": \"b\",\n",
    "    \"13\": \"b\",   \"ß\": \"b\",   \"þ\": \"b\",   \"v\": \"b\",   \"ć\": \"c\",   \"č\": \"c\",   \"ç\": \"c\",   \"©\": \"c\",\n",
    "    \"σ\": \"c\",   \"(\": \"c\",   \"¢\": \"c\",   \"<\": \"c\",   \"[\": \"c\",   \"©\": \"c\",   \"[)\": \"d\",   \"|>\": \"d\",\n",
    "    \"|)\": \"d\",   \"|]\": \"d\",   \"3\": \"e\",   \"€\": \"e\",   \"є\": \"e\",   \"[-\": \"e\",   \"|=\": \"f\",   \"ƒ\": \"f\",\n",
    "    \"/=\": \"f\",   \"6\": \"g\",   \"(_+\": \"g\",   \"#\": \"h\",   \"/-/\": \"h\",   \"[-]\": \"h\",   \"]-[\": \"h\",\n",
    "    \")-(\": \"h\",   \"(-)\": \"h\",   \":-:\": \"h\",   \"|~|\": \"h\",   \"|-|\": \"h\",   \"]~[\": \"h\",   \"}{\": \"h\",\n",
    "    \"1\": \"i\",   \"!\": \"i\",   \"|\": \"i\",   \"][\": \"i\",   \"]\": \"i\",   \":\": \"i\",   \"_|\": \"j\",   \"_/\": \"j\",\n",
    "    \"¿\": \"j\",   \"(/\": \"j\",   \"ʝ\": \"j\",   \";\": \"j\",   \"X\": \"k\",   \"|<\": \"k\",   \"|{\": \"k\",   \"ɮ\": \"k\",\n",
    "    \"£\": \"l\",   \"1_\": \"l\",   \"ℓ\": \"l\",   \"|_\": \"l\",   \"[_\": \"l\",   \"|V|\": \"m\",   \"|\\\\/|\": \"m\",\n",
    "    \"/\\\\/\\\\\": \"m\",   \"/V\\\\\": \"m\",   \"|V\": \"n\",   \"|\\\\|\": \"n\",   \"/\\\\/\": \"n\",   \"[\\\\]\": \"n\",   \"/V\": \"n\",\n",
    "    \"[]\": \"o\",   \"0\": \"o\",   \"()\": \"o\",   \"°\": \"o\",   \"|*\": \"p\",   \"|o\": \"p\",   \"|º\": \"p\",   \"|°\": \"p\",\n",
    "    \"/*\": \"p\",   \"¶\": \"q\",   \"(_,)\": \"q\",   \"()_\": \"q\",   \"0_\": \"q\",   \"°|\": \"q\",   \"<|\": \"q\",\n",
    "    \"®\": \"r\",   \"2\": \"r\",   \"|?\": \"r\",   \"/2\": \"r\",   \"®\": \"r\",   \"Я\": \"r\",   \"|2\": \"r\",   \"§\": \"s\",\n",
    "    \"5\": \"s\",   \"$\": \"s\",   \"_/¯\": \"s\",   \"7\": \"t\",   \"†\": \"t\",   \"¯|¯\": \"t\",   \"(_)\": \"u\",   \"|_|\": \"u\",\n",
    "    \"L|\": \"u\",   \"µ\": \"u\",   \"\\\\/\": \"v\",   \"|/\": \"v\",   \"\\\\/\\\\/\": \"w\",   \"vv\": \"w\",   \"\\\\/\": \"w\",\n",
    "    \"\\^/\": \"w\",   \"\\V/\": \"w\",   \"\\\\|/\": \"w\",   \"\\\\_|_/\": \"w\",   \"\\\\_:_/\": \"w\",   \"><\": \"x\",   \"}{\": \"x\",\n",
    "    \"×\": \"x\",   \")(\": \"x\",   \"`/\": \"y\",   \"φ\": \"y\",   \"¥\": \"y\",   \"\\\\/\": \"y\",   \"≥\": \"z\",   \"7_\": \"z\",\n",
    "    \">_\": \"z\",   \"youre\": \"you are\",   \"im\": \"I am\",   \"dont\": \"do not\",   \"cant\": \"cannot\",\n",
    "    \"wont\": \"will not\",   \"ive\": \"I have\",   \"id\": \"I would\",   \"theyre\": \"they are\",   \"theres\": \"there is\",\n",
    "    \"ko\": \"không\",   \"t\": \"tôi\",   \"m\": \"mình\",   \"mày\": \"em\",   \"tao\": \"anh\",   \"dc\": \"được\",\n",
    "    \"hok\": \"không\",   \"ngta\": \"người ta\",   \"bsau\": \"bữa sau\",   \"k\": \"không\"\n",
    "}"
   ]
  },
  {
   "cell_type": "code",
   "execution_count": null,
   "metadata": {},
   "outputs": [],
   "source": [
    "import demoji\n",
    "import unicodedata as uni\n",
    "\n",
    "def handle_emoji(string):\n",
    "    emojis = demoji.findall(string)\n",
    "\n",
    "    for emoji in emojis:\n",
    "        string = string.replace(emoji, \" \" + emojis[emoji].split(\":\")[0])\n",
    "\n",
    "    return string"
   ]
  },
  {
   "cell_type": "code",
   "execution_count": 13,
   "metadata": {},
   "outputs": [],
   "source": [
    "final_corpus = []\n",
    "final_corpus_joined = []\n",
    "\n",
    "for i in data.index:\n",
    "    text = data['Review Text'][i]\n",
    "    if isinstance(text, str):\n",
    "        text = re.sub('[^a-zA-Zàáảãạăắằẵặẳâấầẩẫậđèéẻẽẹêềếểễệìíỉĩịòóỏõọôốồổỗộơớờởỡợùúủũụưứừửữựỳýỷỹỵ]', ' ', text)\n",
    "        text = text.lower()\n",
    "        text = re.sub(\"&lt;/?.*?&gt;\", \" &lt;&gt; \", text)\n",
    "        text = re.sub(\"(\\\\d|\\\\W)+\", \" \", text)\n",
    "        text = re.sub(r'\\d+', '', text)\n",
    "        text = re.sub(r'(http\\S+)?(\\w+\\.)+\\S+', r'', text)\n",
    "        text = handle_emoji(text)  # Ensure 'text' is a string here\n",
    "        text = uni.normalize('NFKD', text)  # Ensure 'text' is a string here\n",
    "        text = text.split()\n",
    "        lem = WordNetLemmatizer()\n",
    "        text = [lem.lemmatize(word) for word in text if not word in stuff_to_be_removed]\n",
    "        # Apply word replacements\n",
    "        text = [word_replacements.get(word, word) for word in text]\n",
    "        text1 = \" \".join(text)\n",
    "    else:\n",
    "        # Handle non-string elements\n",
    "        text1 = \"\"\n",
    "    final_corpus.append(text)\n",
    "    final_corpus_joined.append(text1)"
   ]
  },
  {
   "cell_type": "code",
   "execution_count": 14,
   "metadata": {},
   "outputs": [
    {
     "name": "stdout",
     "output_type": "stream",
     "text": [
      "6259\n"
     ]
    }
   ],
   "source": [
    "num_elements = len(final_corpus)\n",
    "print(num_elements)"
   ]
  },
  {
   "cell_type": "code",
   "execution_count": 15,
   "metadata": {},
   "outputs": [
    {
     "name": "stdout",
     "output_type": "stream",
     "text": [
      "6259\n"
     ]
    }
   ],
   "source": [
    "num_elements_2 = len(final_corpus_joined)\n",
    "print(num_elements_2)"
   ]
  },
  {
   "cell_type": "code",
   "execution_count": 16,
   "metadata": {},
   "outputs": [],
   "source": [
    "data_cleaned = pd.DataFrame()\n",
    "data_cleaned[\"Review Text\"] = final_corpus_joined\n",
    "data_cleaned[\"sentiment\"] = data[\"sentiment\"].values"
   ]
  },
  {
   "cell_type": "code",
   "execution_count": 17,
   "metadata": {},
   "outputs": [
    {
     "data": {
      "text/html": [
       "<div>\n",
       "<style scoped>\n",
       "    .dataframe tbody tr th:only-of-type {\n",
       "        vertical-align: middle;\n",
       "    }\n",
       "\n",
       "    .dataframe tbody tr th {\n",
       "        vertical-align: top;\n",
       "    }\n",
       "\n",
       "    .dataframe thead th {\n",
       "        text-align: right;\n",
       "    }\n",
       "</style>\n",
       "<table border=\"1\" class=\"dataframe\">\n",
       "  <thead>\n",
       "    <tr style=\"text-align: right;\">\n",
       "      <th></th>\n",
       "      <th>Review Text</th>\n",
       "      <th>sentiment</th>\n",
       "    </tr>\n",
       "  </thead>\n",
       "  <tbody>\n",
       "    <tr>\n",
       "      <th>0</th>\n",
       "      <td>[came, endoscopy, terrible, service, facility,...</td>\n",
       "      <td>0</td>\n",
       "    </tr>\n",
       "    <tr>\n",
       "      <th>1</th>\n",
       "      <td>[bệnh, viện, khá, hiện, đại, vị, trí, thuận, l...</td>\n",
       "      <td>1</td>\n",
       "    </tr>\n",
       "    <tr>\n",
       "      <th>2</th>\n",
       "      <td>[bệnh, viện, ại, học, dược, bệnh, viện, đa, kh...</td>\n",
       "      <td>2</td>\n",
       "    </tr>\n",
       "    <tr>\n",
       "      <th>3</th>\n",
       "      <td>[lần, đầu, tiên, đưa, ba, đi, khám, tổng, quát...</td>\n",
       "      <td>2</td>\n",
       "    </tr>\n",
       "    <tr>\n",
       "      <th>4</th>\n",
       "      <td>[ngày, trải, nghiệm, bv, ại, học, dược, cơ, sở...</td>\n",
       "      <td>2</td>\n",
       "    </tr>\n",
       "  </tbody>\n",
       "</table>\n",
       "</div>"
      ],
      "text/plain": [
       "                                         Review Text  sentiment\n",
       "0  [came, endoscopy, terrible, service, facility,...          0\n",
       "1  [bệnh, viện, khá, hiện, đại, vị, trí, thuận, l...          1\n",
       "2  [bệnh, viện, ại, học, dược, bệnh, viện, đa, kh...          2\n",
       "3  [lần, đầu, tiên, đưa, ba, đi, khám, tổng, quát...          2\n",
       "4  [ngày, trải, nghiệm, bv, ại, học, dược, cơ, sở...          2"
      ]
     },
     "execution_count": 17,
     "metadata": {},
     "output_type": "execute_result"
    }
   ],
   "source": [
    "data_eda = pd.DataFrame()\n",
    "data_eda['Review Text'] = final_corpus\n",
    "data_eda['sentiment'] = data['sentiment'].values\n",
    "data_eda.head()"
   ]
  },
  {
   "cell_type": "code",
   "execution_count": 18,
   "metadata": {},
   "outputs": [],
   "source": [
    "Neutral = data_eda[data_eda['sentiment'] == 1]\n",
    "Neutral_list = Neutral['Review Text'].tolist()\n",
    "Negative = data_eda[data_eda['sentiment'] == 0]\n",
    "Negative_list = Negative['Review Text'].tolist()\n",
    "Positive = data_eda[data_eda['sentiment'] == 2]\n",
    "Positive_list = Positive['Review Text'].tolist()"
   ]
  },
  {
   "cell_type": "code",
   "execution_count": 19,
   "metadata": {},
   "outputs": [],
   "source": [
    "Positive_all = \" \".join([word for sent in Positive_list if isinstance(sent, list) for word in sent])\n",
    "Negative_all = \" \".join([word for sent in Negative_list if isinstance(sent, list) for word in sent])\n",
    "Neutral_all = \" \".join([word for sent in Neutral_list if isinstance(sent, list) for word in sent])"
   ]
  },
  {
   "cell_type": "code",
   "execution_count": 20,
   "metadata": {},
   "outputs": [],
   "source": [
    "from sklearn.feature_extraction.text import TfidfVectorizer\n",
    "tfidf = TfidfVectorizer()\n",
    "xt = tfidf.fit_transform(data_cleaned['Review Text'])\n",
    "y = data_cleaned['sentiment']"
   ]
  },
  {
   "cell_type": "code",
   "execution_count": 21,
   "metadata": {},
   "outputs": [],
   "source": [
    "from sklearn.model_selection import train_test_split\n",
    "X_train, X_test, y_train, y_test = train_test_split(xt, \n",
    "                                                    y, \n",
    "                                                    test_size=0.33, \n",
    "                                                    random_state=123,\n",
    "                                                    stratify = y)"
   ]
  },
  {
   "cell_type": "code",
   "execution_count": 22,
   "metadata": {},
   "outputs": [],
   "source": [
    "from sklearn.metrics import accuracy_score,confusion_matrix,classification_report\n",
    "from sklearn.linear_model import LogisticRegression"
   ]
  },
  {
   "cell_type": "code",
   "execution_count": 23,
   "metadata": {},
   "outputs": [
    {
     "data": {
      "text/html": [
       "<style>#sk-container-id-1 {color: black;background-color: white;}#sk-container-id-1 pre{padding: 0;}#sk-container-id-1 div.sk-toggleable {background-color: white;}#sk-container-id-1 label.sk-toggleable__label {cursor: pointer;display: block;width: 100%;margin-bottom: 0;padding: 0.3em;box-sizing: border-box;text-align: center;}#sk-container-id-1 label.sk-toggleable__label-arrow:before {content: \"▸\";float: left;margin-right: 0.25em;color: #696969;}#sk-container-id-1 label.sk-toggleable__label-arrow:hover:before {color: black;}#sk-container-id-1 div.sk-estimator:hover label.sk-toggleable__label-arrow:before {color: black;}#sk-container-id-1 div.sk-toggleable__content {max-height: 0;max-width: 0;overflow: hidden;text-align: left;background-color: #f0f8ff;}#sk-container-id-1 div.sk-toggleable__content pre {margin: 0.2em;color: black;border-radius: 0.25em;background-color: #f0f8ff;}#sk-container-id-1 input.sk-toggleable__control:checked~div.sk-toggleable__content {max-height: 200px;max-width: 100%;overflow: auto;}#sk-container-id-1 input.sk-toggleable__control:checked~label.sk-toggleable__label-arrow:before {content: \"▾\";}#sk-container-id-1 div.sk-estimator input.sk-toggleable__control:checked~label.sk-toggleable__label {background-color: #d4ebff;}#sk-container-id-1 div.sk-label input.sk-toggleable__control:checked~label.sk-toggleable__label {background-color: #d4ebff;}#sk-container-id-1 input.sk-hidden--visually {border: 0;clip: rect(1px 1px 1px 1px);clip: rect(1px, 1px, 1px, 1px);height: 1px;margin: -1px;overflow: hidden;padding: 0;position: absolute;width: 1px;}#sk-container-id-1 div.sk-estimator {font-family: monospace;background-color: #f0f8ff;border: 1px dotted black;border-radius: 0.25em;box-sizing: border-box;margin-bottom: 0.5em;}#sk-container-id-1 div.sk-estimator:hover {background-color: #d4ebff;}#sk-container-id-1 div.sk-parallel-item::after {content: \"\";width: 100%;border-bottom: 1px solid gray;flex-grow: 1;}#sk-container-id-1 div.sk-label:hover label.sk-toggleable__label {background-color: #d4ebff;}#sk-container-id-1 div.sk-serial::before {content: \"\";position: absolute;border-left: 1px solid gray;box-sizing: border-box;top: 0;bottom: 0;left: 50%;z-index: 0;}#sk-container-id-1 div.sk-serial {display: flex;flex-direction: column;align-items: center;background-color: white;padding-right: 0.2em;padding-left: 0.2em;position: relative;}#sk-container-id-1 div.sk-item {position: relative;z-index: 1;}#sk-container-id-1 div.sk-parallel {display: flex;align-items: stretch;justify-content: center;background-color: white;position: relative;}#sk-container-id-1 div.sk-item::before, #sk-container-id-1 div.sk-parallel-item::before {content: \"\";position: absolute;border-left: 1px solid gray;box-sizing: border-box;top: 0;bottom: 0;left: 50%;z-index: -1;}#sk-container-id-1 div.sk-parallel-item {display: flex;flex-direction: column;z-index: 1;position: relative;background-color: white;}#sk-container-id-1 div.sk-parallel-item:first-child::after {align-self: flex-end;width: 50%;}#sk-container-id-1 div.sk-parallel-item:last-child::after {align-self: flex-start;width: 50%;}#sk-container-id-1 div.sk-parallel-item:only-child::after {width: 0;}#sk-container-id-1 div.sk-dashed-wrapped {border: 1px dashed gray;margin: 0 0.4em 0.5em 0.4em;box-sizing: border-box;padding-bottom: 0.4em;background-color: white;}#sk-container-id-1 div.sk-label label {font-family: monospace;font-weight: bold;display: inline-block;line-height: 1.2em;}#sk-container-id-1 div.sk-label-container {text-align: center;}#sk-container-id-1 div.sk-container {/* jupyter's `normalize.less` sets `[hidden] { display: none; }` but bootstrap.min.css set `[hidden] { display: none !important; }` so we also need the `!important` here to be able to override the default hidden behavior on the sphinx rendered scikit-learn.org. See: https://github.com/scikit-learn/scikit-learn/issues/21755 */display: inline-block !important;position: relative;}#sk-container-id-1 div.sk-text-repr-fallback {display: none;}</style><div id=\"sk-container-id-1\" class=\"sk-top-container\"><div class=\"sk-text-repr-fallback\"><pre>LogisticRegression()</pre><b>In a Jupyter environment, please rerun this cell to show the HTML representation or trust the notebook. <br />On GitHub, the HTML representation is unable to render, please try loading this page with nbviewer.org.</b></div><div class=\"sk-container\" hidden><div class=\"sk-item\"><div class=\"sk-estimator sk-toggleable\"><input class=\"sk-toggleable__control sk-hidden--visually\" id=\"sk-estimator-id-1\" type=\"checkbox\" checked><label for=\"sk-estimator-id-1\" class=\"sk-toggleable__label sk-toggleable__label-arrow\">LogisticRegression</label><div class=\"sk-toggleable__content\"><pre>LogisticRegression()</pre></div></div></div></div></div>"
      ],
      "text/plain": [
       "LogisticRegression()"
      ]
     },
     "execution_count": 23,
     "metadata": {},
     "output_type": "execute_result"
    }
   ],
   "source": [
    "lr = LogisticRegression()\n",
    "lr.fit(X_train,y_train)"
   ]
  },
  {
   "cell_type": "code",
   "execution_count": 24,
   "metadata": {},
   "outputs": [
    {
     "data": {
      "text/plain": [
       "86.33436680181255"
      ]
     },
     "execution_count": 24,
     "metadata": {},
     "output_type": "execute_result"
    }
   ],
   "source": [
    "y_train_pred = lr.predict(X_train)\n",
    "y_test_pred = lr.predict(X_test)\n",
    "accuracy_score(y_train,y_train_pred)*100"
   ]
  },
  {
   "cell_type": "code",
   "execution_count": 25,
   "metadata": {},
   "outputs": [
    {
     "name": "stdout",
     "output_type": "stream",
     "text": [
      "[[1661    3   91]\n",
      " [ 164   53  196]\n",
      " [ 114    5 1906]]\n"
     ]
    }
   ],
   "source": [
    "from sklearn.metrics import confusion_matrix\n",
    "\n",
    "y_train_pred = lr.predict(X_train)\n",
    "confusion_matrix_train = confusion_matrix(y_train, y_train_pred)\n",
    "\n",
    "print(confusion_matrix_train)"
   ]
  },
  {
   "cell_type": "code",
   "execution_count": 26,
   "metadata": {},
   "outputs": [
    {
     "name": "stdout",
     "output_type": "stream",
     "text": [
      "              precision    recall  f1-score   support\n",
      "\n",
      "           0       0.86      0.95      0.90      1755\n",
      "           1       0.87      0.13      0.22       413\n",
      "           2       0.87      0.94      0.90      2025\n",
      "\n",
      "    accuracy                           0.86      4193\n",
      "   macro avg       0.86      0.67      0.68      4193\n",
      "weighted avg       0.86      0.86      0.83      4193\n",
      "\n"
     ]
    },
    {
     "data": {
      "text/plain": [
       "<Axes: >"
      ]
     },
     "execution_count": 26,
     "metadata": {},
     "output_type": "execute_result"
    },
    {
     "data": {
      "image/png": "[encoded data removed]",
      "text/plain": [
       "<Figure size 640x480 with 2 Axes>"
      ]
     },
     "metadata": {},
     "output_type": "display_data"
    }
   ],
   "source": [
    "from sklearn.metrics import classification_report\n",
    "\n",
    "y_train_pred = lr.predict(X_train)\n",
    "classification_report_train = classification_report(y_train, y_train_pred)\n",
    "\n",
    "print(classification_report_train)\n",
    "sns.heatmap(confusion_matrix_train, annot=True, fmt='d')"
   ]
  },
  {
   "cell_type": "code",
   "execution_count": 27,
   "metadata": {},
   "outputs": [
    {
     "name": "stdout",
     "output_type": "stream",
     "text": [
      "              precision    recall  f1-score   support\n",
      "\n",
      "           0       0.81      0.90      0.85       865\n",
      "           1       0.31      0.05      0.09       204\n",
      "           2       0.83      0.89      0.86       997\n",
      "\n",
      "    accuracy                           0.81      2066\n",
      "   macro avg       0.65      0.61      0.60      2066\n",
      "weighted avg       0.77      0.81      0.78      2066\n",
      "\n"
     ]
    }
   ],
   "source": [
    "from sklearn.linear_model import SGDClassifier\n",
    "sgd = SGDClassifier().fit(X_train, y_train)\n",
    "sgd_prediction = sgd.predict(X_test)\n",
    "print(classification_report(y_test, sgd_prediction))\n"
   ]
  },
  {
   "cell_type": "code",
   "execution_count": 28,
   "metadata": {},
   "outputs": [
    {
     "name": "stdout",
     "output_type": "stream",
     "text": [
      "              precision    recall  f1-score   support\n",
      "\n",
      "           0       0.80      0.91      0.85       865\n",
      "           1       0.33      0.07      0.11       204\n",
      "           2       0.84      0.88      0.86       997\n",
      "\n",
      "    accuracy                           0.81      2066\n",
      "   macro avg       0.66      0.62      0.61      2066\n",
      "weighted avg       0.77      0.81      0.78      2066\n",
      "\n"
     ]
    }
   ],
   "source": [
    "from sklearn.svm import SVC\n",
    "svc = SVC(C=1000).fit(X_train, y_train)\n",
    "svc_prediction = svc.predict(X_test)\n",
    "print(classification_report(y_test, svc_prediction))"
   ]
  },
  {
   "cell_type": "code",
   "execution_count": null,
   "metadata": {},
   "outputs": [],
   "source": [
    "from underthesea import sent_tokenize\n",
    "\n",
    "sentences = []\n",
    "for review in data[\"Review Text\"]:\n",
    "    review = str(review)  # Convert to string\n",
    "    preprocessed_sentences = sent_tokenize(review)\n",
    "    sentences.extend(preprocessed_sentences)\n",
    "\n",
    "print(sentences)"
   ]
  },
  {
   "cell_type": "code",
   "execution_count": null,
   "metadata": {},
   "outputs": [],
   "source": [
    "from underthesea import text_normalize\n",
    "\n",
    "normalized_sentences = []\n",
    "for sentence in sentences:\n",
    "    normalized_sentence = text_normalize(sentence)\n",
    "    normalized_sentences.append(normalized_sentence)\n",
    "\n",
    "print(normalized_sentences)"
   ]
  },
  {
   "cell_type": "code",
   "execution_count": null,
   "metadata": {},
   "outputs": [],
   "source": [
    "from underthesea import word_tokenize\n",
    "\n",
    "tokenized_sentences = []\n",
    "for normalized_sentence in normalized_sentences:\n",
    "    tokenized_sentence = word_tokenize(normalized_sentence)\n",
    "    tokenized_sentences.append(tokenized_sentence)\n",
    "\n",
    "print(tokenized_sentences)"
   ]
  },
  {
   "cell_type": "code",
   "execution_count": null,
   "metadata": {},
   "outputs": [],
   "source": [
    "lowercased_sentences = []\n",
    "for sentence in tokenized_sentences:\n",
    "    lowercased_sentence = [word.lower() for word in sentence]\n",
    "    lowercased_sentences.append(lowercased_sentence)\n",
    "\n",
    "print(lowercased_sentences)"
   ]
  },
  {
   "cell_type": "code",
   "execution_count": null,
   "metadata": {},
   "outputs": [],
   "source": [
    "from nltk.tokenize import word_tokenize\n",
    "from nltk.corpus import stopwords\n",
    "\n",
    "# Define the list of stopwords for Vietnamese and English\n",
    "\n",
    "stopwords_en = set(stopwords.words('english'))\n",
    "\n",
    "# Tokenize and remove stopwords\n",
    "filtered_sentences = []\n",
    "for sentence in lowercased_sentences:\n",
    "    filtered_sentence_vn = [word for word in sentence if word.lower() not in stopwords_vn]\n",
    "    filtered_sentence_en = [word for word in sentence if word.lower() not in stopwords_en]\n",
    "    filtered_sentences.append(filtered_sentence_vn)\n",
    "    filtered_sentences.append(filtered_sentence_en)\n",
    "\n",
    "print(filtered_sentences)"
   ]
  },
  {
   "cell_type": "code",
   "execution_count": null,
   "metadata": {},
   "outputs": [],
   "source": [
    "import demoji\n",
    "\n",
    "\n",
    "def handle_emoji(string):\n",
    "    emojis = demoji.findall(string)\n",
    "\n",
    "    for emoji in emojis:\n",
    "        string = string.replace(emoji, \" \" + emojis[emoji].split(\":\")[0])\n",
    "\n",
    "    return string"
   ]
  },
  {
   "cell_type": "code",
   "execution_count": null,
   "metadata": {},
   "outputs": [],
   "source": [
    "import re\n",
    "\n",
    "cleaned_sentences = []\n",
    "for sentence in filtered_sentences:\n",
    "    cleaned_sentence = []\n",
    "    for word in sentence:\n",
    "        # Remove numbers\n",
    "        word = re.sub(r'\\d+', '', word)\n",
    "        text = remove_url(text) \n",
    "        # Remove punctuation\n",
    "        word = re.sub(r'[^\\w\\s]', '', word)\n",
    "        # Remove duplicate characters within a word\n",
    "        word = re.sub(r'(\\w)\\1+', r'\\1', word)\n",
    "        word = re.sub(r'(.)\\1{2,}', r'\\1', word)\n",
    "        # Remove HTTP characters within a word\n",
    "        word = re.sub(r'(http\\S+)?(\\w+\\.)+\\S+', r'', word)\n",
    "        word = handle_emoji(word)\n",
    "        word = uni.normalize('NFKD', word)\n",
    "        word = re.sub(r'[^\\s\\wáàảãạăắằẳẵặâấầẩẫậéèẻẽẹêếềểễệóòỏõọôốồổỗộơớờởỡợíìỉĩịúùủũụưứừửữựýỳỷỹỵđ]', r' ', word)\n",
    "        # Add cleaned word to the sentence\n",
    "        if word:\n",
    "            cleaned_sentence.append(word)\n",
    "    cleaned_sentences.append(cleaned_sentence)\n",
    "\n",
    "print(cleaned_sentences)"
   ]
  },
  {
   "cell_type": "code",
   "execution_count": null,
   "metadata": {},
   "outputs": [],
   "source": [
    "word_replacements = leet = {\n",
    "    \"1\": \"i\",\n",
    "    \"3\": \"e\",\n",
    "    \"4\": \"a\",\n",
    "    \"5\": \"s\",\n",
    "    \"7\": \"t\",\n",
    "    \"0\": \"o\",\n",
    "    \"@\" :\"a\",\n",
    "    \"/\\ \": \"a\",\n",
    "    \"/-\\ \": \"a\",\n",
    "    \"*\" : \"a\",\n",
    "    \"ä\" : \"a\",\n",
    "    \"á\" :\"a\",\n",
    "    \"à\" : \"a\",\n",
    "    \"â\" : \"a\",\n",
    "    \"a^\": \"a\",\n",
    "    \"ã\" : \"a\",\n",
    "    \"å\" : \"a\",\n",
    "    \"ą\" : \"a\",\n",
    "    \"ª\" : \"a\",\n",
    "    \"∀\" : \"a\",\n",
    "    \"∧\" : \"a\",\n",
    "    \"α\" : \"a\",\n",
    "    \"8\" : \"b\",\n",
    "    \"|3\": \"b\",\n",
    "    \"13\": \"b\",\n",
    "    \"ß\" : \"b\",\n",
    "    \"þ\" : \"b\",\n",
    "    \"v\" : \"b\",\n",
    "    \"ć\" : \"c\",\n",
    "    \"č\" : \"c\",\n",
    "    \"ç\" : \"c\",\n",
    "    \"©\" : \"c\",\n",
    "    \"σ\" : \"c\",\n",
    "    \"(\" : \"c\",\n",
    "    \"¢\" : \"c\",\n",
    "    \"<\" : \"c\",\n",
    "    '[' : \"c\",\n",
    "    '©': \"c\",\n",
    "    \"[)\" : \"d\",\n",
    "    \"|>\" : \"d\",\n",
    "    \"|)\" : \"d\",\n",
    "    \"|]\": \"d\",\n",
    "    \"3\" : \"e\",\n",
    "    \"€\" : \"e\",\n",
    "    \"є\" : \"e\",\n",
    "    \"[-\": \"e\",\n",
    "    \"|=\" : \"f\",\n",
    "    \"ƒ\" : \"f\",\n",
    "    \"/=\": \"f\",\n",
    "    \"6\" : \"g\",\n",
    "    \"(_+\": \"g\",\n",
    "    \"#\" : \"h\",\n",
    "    \"/-/\" : \"h\",\n",
    "    \"[-]\" : \"h\",\n",
    "    \"]-[\" : \"h\",\n",
    "    \")-(\" : \"h\",\n",
    "    \"(-)\" : \"h\",\n",
    "    \":-:\" : \"h\",\n",
    "    \"|~|\" : \"h\",\n",
    "    \"|-|\" : \"h\",\n",
    "    \"]~[\" : \"h\",\n",
    "    \"}{\" : \"h\",\n",
    "    \"1\" : \"i\",\n",
    "    '!' : \"i\",\n",
    "    \"|\" : \"i\",\n",
    "    \"][\" : \"i\",\n",
    "    \"]\" : \"i\",\n",
    "    \":\": \"i\",\n",
    "    \"_|\" : \"j\",\n",
    "    \"_/\" : \"j\",\n",
    "    \"¿\" : \"j\",\n",
    "    \"(/\" : \"j\",\n",
    "    \"ʝ\" : \"j\",\n",
    "    \";\" : \"j\",\n",
    "    \"X\" : \"k\",\n",
    "    \"|<\" : \"k\",\n",
    "    \"|{\" : \"k\",\n",
    "    \"ɮ\" : \"k\",\n",
    "    \"£\" : \"l\",\n",
    "    \"1_\" : \"l\",\n",
    "    \"ℓ\" : \"l\",\n",
    "    \"|_\" : \"l\",\n",
    "    \"[_\": \"l\",\n",
    "    \"|V|\" : \"m\",\n",
    "    \"|\\/|\" : \"m\",\n",
    "    \"/\\/\\ \" : \"m\",\n",
    "    \"/V\\ \": \"m\",\n",
    "    \"|V\" : \"n\",\n",
    "    \"|\\|\" : \"n\",\n",
    "    \"/\\/\" : \"n\",\n",
    "    \"[\\]\" : \"n\",\n",
    "    \"/V\" : \"n\",\n",
    "    \"[]\" : \"o\",\n",
    "    \"0\" :\"o\" ,\n",
    "    \"()\" : \"o\",\n",
    "    \"°\" : \"o\",\n",
    "    \"|*\" : \"p\",\n",
    "    \"|o\" : \"p\",\n",
    "    \"|º\" : \"p\",\n",
    "    \"|°\" : \"p\",\n",
    "    \"/*\" : \"p\",\n",
    "    \"¶\" : \"q\",\n",
    "    \"(_,)\" : \"q\",\n",
    "    \"()_\" : \"q\",\n",
    "    \"0_\" : \"q\",\n",
    "    \"°|\" : \"q\",\n",
    "    \"<|\" : \"q\",\n",
    "    \"®\" : \"r\",\n",
    "    \"2\" : \"r\",\n",
    "    \"|?\" : \"r\",\n",
    "    \"/2\" : \"r\",\n",
    "    \"®\" : \"r\",\n",
    "    \"Я\" : \"r\",\n",
    "    \"|2\": \"r\",\n",
    "    \"§\" : \"s\",\n",
    "    \"5\" : \"s\",\n",
    "    \"$\" : \"s\",\n",
    "    \"_/¯\": \"s\",\n",
    "    \"7\" : \"t\",\n",
    "    \"†\" : \"t\",\n",
    "    \"¯|¯\" : \"t\",\n",
    "    \"(_)\" : \"u\",\n",
    "    \"|_|\" : \"u\",\n",
    "    \"L|\" : \"u\",\n",
    "    \"µ\": \"u\",\n",
    "    \"\\/\" : \"v\",\n",
    "    \"|/\" : \"v\",\n",
    "    \"\\/\\/\" : \"w\",\n",
    "    \"vv\" : \"w\",\n",
    "    \"\\//\" :\"w\",\n",
    "    \"\\^/\" : \"w\",\n",
    "    \"\\V/\" : \"w\",\n",
    "    \"\\|/\" : \"w\",\n",
    "    \"\\_|_/\" : \"w\",\n",
    "    \"\\_:_/\" : \"w\",\n",
    "    \"><\": \"x\",\n",
    "    \"}{\" : \"x\",\n",
    "    \"×\" : \"x\",\n",
    "    \")(\" : \"x\",\n",
    "    \" `/\" : \"y\",\n",
    "    \"φ\" : \"y\",\n",
    "    \"¥\" : \"y\",\n",
    "    \"\\/\": \"y\",\n",
    "    \"≥\" : \"z\",\n",
    "    \"7_\" : \"z\",\n",
    "    \">_\": \"z\",\n",
    "    \"youre\": \"you are\",\n",
    "    \"im\": \"I am\",\n",
    "    \"dont\": \"do not\",\n",
    "    \"cant\": \"cannot\",\n",
    "    \"wont\": \"will not\",\n",
    "    \"ive\": \"I have\",\n",
    "    \"id\": \"I would\",\n",
    "    \"theyre\": \"they are\",\n",
    "    \"theres\": \"there is\",\n",
    "    \"ko\": \"không\",\n",
    "    \"t\": \"tôi\",\n",
    "    \"m\": \"mình\",\n",
    "    \"mày\": \"em\",\n",
    "    \"tao\": \"anh\",\n",
    "    \"dc\": \"được\",\n",
    "    \"hok\": \"không\",\n",
    "    \"ngta\": \"người ta\",\n",
    "    'bsau': \"bữa sau\",\n",
    "    \"k\":'không'\n",
    "}\n",
    "\n",
    "replaced_sentences = []\n",
    "for sentence in cleaned_sentences:\n",
    "    replaced_sentence = [word_replacements.get(word, word) for word in sentence]\n",
    "    replaced_sentences.append(replaced_sentence)\n",
    "\n",
    "print(replaced_sentences)"
   ]
  },
  {
   "cell_type": "code",
   "execution_count": null,
   "metadata": {},
   "outputs": [],
   "source": [
    "from sklearn.feature_extraction.text import TfidfVectorizer\n",
    "tfidf = TfidfVectorizer()\n",
    "xt = tfidf.fit_transform(data['Review Text'])\n",
    "y = data['sentiment']"
   ]
  },
  {
   "cell_type": "code",
   "execution_count": null,
   "metadata": {},
   "outputs": [],
   "source": [
    "replaced_sentences"
   ]
  },
  {
   "cell_type": "code",
   "execution_count": null,
   "metadata": {},
   "outputs": [],
   "source": [
    "# Convert text to numerical features using TF-IDF\n",
    "vectorizer = TfidfVectorizer()\n",
    "X = vectorizer.fit_transform(joined_sentences)\n",
    "\n",
    "# Apply StandardScaler to the numerical features\n",
    "scaler = StandardScaler()\n",
    "X_scaled = scaler.fit_transform(X.toarray())\n",
    "\n",
    "# Use the scaled features for further training or analysis\n",
    "print(X_scaled)"
   ]
  },
  {
   "cell_type": "code",
   "execution_count": null,
   "metadata": {},
   "outputs": [],
   "source": [
    "# Check the shapes of the input arrays\n",
    "print(X_scaled.shape)\n",
    "print(data[\"sentiment\"].shape)"
   ]
  },
  {
   "cell_type": "code",
   "execution_count": null,
   "metadata": {},
   "outputs": [],
   "source": [
    "# Make sure that all input arrays have the same number of samples\n",
    "assert X_scaled.shape[0] == data[\"sentiment\"].shape[0]"
   ]
  },
  {
   "cell_type": "code",
   "execution_count": null,
   "metadata": {},
   "outputs": [],
   "source": [
    "from sklearn.model_selection import train_test_split\n",
    "\n",
    "\n",
    "\n",
    "X_train, X_test, y_train, y_test = train_test_split(X_scaled, data[\"sentiment\"], test_size=0.2, random_state=42)"
   ]
  },
  {
   "cell_type": "code",
   "execution_count": null,
   "metadata": {},
   "outputs": [],
   "source": [
    "import re\n",
    "from nltk.tokenize import word_tokenize\n",
    "from nltk.corpus import stopwords\n",
    "from nltk.stem import WordNetLemmatizer\n",
    "\n",
    "#lemmatizer = WordNetLemmatizer()\n",
    "word_replacements = {}  # Make sure you define this dictionary if you use it.\n",
    "\n",
    "def clean_text(data):\n",
    "\n",
    "    # remove hashtags and @usernames\n",
    "    data = re.sub(r'http\\S+', '', data)\n",
    "    data = re.sub('[^a-zA-Z]', ' ', data)\n",
    "\n",
    "    data = re.sub(\"&lt;/?.*?&gt;\", \" &lt;&gt; \", data)\n",
    "    data = re.sub(\"(\\\\d|\\\\W)+\", \" \", data)\n",
    "    data = re.sub(r'\\d+', '', data)\n",
    "\n",
    "    # Lowering Text\n",
    "    data = data.lower()\n",
    "    data = data.split()\n",
    "\n",
    "    # Lemmatizing words\n",
    "    # data = [lemmatizer.lemmatize(word) for word in data if not word in stuff_to_be_removed]\n",
    "\n",
    "    # Removing Stop-words (Uncomment if needed)\n",
    "    # stopwords_dict = {word: 1 for word in stopwords.words(\"english\")}\n",
    "    data = [word for word in data if word not in stuff_to_be_removed]\n",
    "\n",
    "    # Word replacements (You should have word_replacements defined)\n",
    "    data = [word_replacements.get(word, word) for word in data]\n",
    "\n",
    "    # Joining the list of words into a single string\n",
    "    data = ' '.join(data)\n",
    "  \n",
    "    return data"
   ]
  }
 ],
 "metadata": {
  "kernelspec": {
   "display_name": "Python 3",
   "language": "python",
   "name": "python3"
  },
  "language_info": {
   "codemirror_mode": {
    "name": "ipython",
    "version": 3
   },
   "file_extension": ".py",
   "mimetype": "text/x-python",
   "name": "python",
   "nbconvert_exporter": "python",
   "pygments_lexer": "ipython3",
   "version": "3.10.10"
  },
  "orig_nbformat": 4
 },
 "nbformat": 4,
 "nbformat_minor": 2
}
