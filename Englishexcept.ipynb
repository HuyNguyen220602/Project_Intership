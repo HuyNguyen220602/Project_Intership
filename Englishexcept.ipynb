{
 "cells": [
  {
   "cell_type": "code",
   "execution_count": 1,
   "metadata": {},
   "outputs": [],
   "source": [
    "import csv\n",
    "from langdetect import detect\n",
    "\n",
    "def is_english(text):\n",
    "    try:\n",
    "        lang = detect(text)\n",
    "        return lang == 'en'\n",
    "    except:\n",
    "        return False\n",
    "\n",
    "def filter_csv(input_file, output_file):\n",
    "    with open(input_file, \"r\", encoding='utf-8-sig') as infile:\n",
    "        reader = csv.reader(infile)\n",
    "        rows = [row for row in reader if not is_english(\",\".join(row))]\n",
    "\n",
    "    with open(output_file, \"w\", newline=\"\", encoding='utf-8-sig') as outfile:\n",
    "        writer = csv.writer(outfile)\n",
    "        writer.writerows(rows)\n",
    "\n",
    "# Thay thế đường dẫn dưới đây bằng đường dẫn tới tệp CSV của bạn\n",
    "input_csv_file = \"F:\\Project NLP\\Big_data.csv\"\n",
    "output_csv_file = \"F:\\Project NLP\\Huy_Big_data.csv\"\n",
    "\n",
    "filter_csv(input_csv_file, output_csv_file)"
   ]
  },
  {
   "cell_type": "code",
   "execution_count": 5,
   "metadata": {},
   "outputs": [],
   "source": [
    "import pandas as pd\n",
    "\n",
    "data = pd.read_csv(output_csv_file, encoding='utf-8')"
   ]
  },
  {
   "cell_type": "code",
   "execution_count": 6,
   "metadata": {},
   "outputs": [],
   "source": [
    "# Remove rows with empty \"Review Text\" values\n",
    "data = data[data['Review Text'].notna() & (data['Review Text'] != '')]\n",
    "\n",
    "# Now 'data' contains only rows where \"Review Text\" has at least one word\n",
    "data.to_csv(\"Huy_Big_data.csv\", encoding='utf-8-sig' )"
   ]
  }
 ],
 "metadata": {
  "kernelspec": {
   "display_name": "Python 3",
   "language": "python",
   "name": "python3"
  },
  "language_info": {
   "codemirror_mode": {
    "name": "ipython",
    "version": 3
   },
   "file_extension": ".py",
   "mimetype": "text/x-python",
   "name": "python",
   "nbconvert_exporter": "python",
   "pygments_lexer": "ipython3",
   "version": "3.10.10"
  },
  "orig_nbformat": 4
 },
 "nbformat": 4,
 "nbformat_minor": 2
}
