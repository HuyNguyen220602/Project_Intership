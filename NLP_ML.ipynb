{
  "cells": [
    {
      "cell_type": "code",
      "source": [
        "! pip install underthesea"
      ],
      "metadata": {
        "colab": {
          "base_uri": "https://localhost:8080/"
        },
        "id": "2rU7Y1qG6P2S",
        "outputId": "b0c1aa0c-d649-41e7-c1be-2b64caac0745"
      },
      "execution_count": 2,
      "outputs": [
        {
          "output_type": "stream",
          "name": "stdout",
          "text": [
            "Collecting underthesea\n",
            "  Downloading underthesea-6.5.0-py3-none-any.whl (19.2 MB)\n",
            "\u001b[2K     \u001b[90m━━━━━━━━━━━━━━━━━━━━━━━━━━━━━━━━━━━━━━━━\u001b[0m \u001b[32m19.2/19.2 MB\u001b[0m \u001b[31m60.3 MB/s\u001b[0m eta \u001b[36m0:00:00\u001b[0m\n",
            "\u001b[?25hRequirement already satisfied: Click>=6.0 in /usr/local/lib/python3.10/dist-packages (from underthesea) (8.1.6)\n",
            "Collecting python-crfsuite>=0.9.6 (from underthesea)\n",
            "  Downloading python_crfsuite-0.9.9-cp310-cp310-manylinux_2_17_x86_64.manylinux2014_x86_64.whl (993 kB)\n",
            "\u001b[2K     \u001b[90m━━━━━━━━━━━━━━━━━━━━━━━━━━━━━━━━━━━━━━\u001b[0m \u001b[32m993.5/993.5 kB\u001b[0m \u001b[31m58.4 MB/s\u001b[0m eta \u001b[36m0:00:00\u001b[0m\n",
            "\u001b[?25hRequirement already satisfied: nltk in /usr/local/lib/python3.10/dist-packages (from underthesea) (3.8.1)\n",
            "Requirement already satisfied: tqdm in /usr/local/lib/python3.10/dist-packages (from underthesea) (4.65.0)\n",
            "Requirement already satisfied: requests in /usr/local/lib/python3.10/dist-packages (from underthesea) (2.27.1)\n",
            "Requirement already satisfied: joblib in /usr/local/lib/python3.10/dist-packages (from underthesea) (1.3.1)\n",
            "Requirement already satisfied: scikit-learn in /usr/local/lib/python3.10/dist-packages (from underthesea) (1.2.2)\n",
            "Requirement already satisfied: PyYAML in /usr/local/lib/python3.10/dist-packages (from underthesea) (6.0.1)\n",
            "Collecting underthesea-core==1.0.4 (from underthesea)\n",
            "  Downloading underthesea_core-1.0.4-cp310-cp310-manylinux2010_x86_64.whl (657 kB)\n",
            "\u001b[2K     \u001b[90m━━━━━━━━━━━━━━━━━━━━━━━━━━━━━━━━━━━━━━\u001b[0m \u001b[32m657.8/657.8 kB\u001b[0m \u001b[31m49.6 MB/s\u001b[0m eta \u001b[36m0:00:00\u001b[0m\n",
            "\u001b[?25hRequirement already satisfied: regex>=2021.8.3 in /usr/local/lib/python3.10/dist-packages (from nltk->underthesea) (2022.10.31)\n",
            "Requirement already satisfied: urllib3<1.27,>=1.21.1 in /usr/local/lib/python3.10/dist-packages (from requests->underthesea) (1.26.16)\n",
            "Requirement already satisfied: certifi>=2017.4.17 in /usr/local/lib/python3.10/dist-packages (from requests->underthesea) (2023.5.7)\n",
            "Requirement already satisfied: charset-normalizer~=2.0.0 in /usr/local/lib/python3.10/dist-packages (from requests->underthesea) (2.0.12)\n",
            "Requirement already satisfied: idna<4,>=2.5 in /usr/local/lib/python3.10/dist-packages (from requests->underthesea) (3.4)\n",
            "Requirement already satisfied: numpy>=1.17.3 in /usr/local/lib/python3.10/dist-packages (from scikit-learn->underthesea) (1.22.4)\n",
            "Requirement already satisfied: scipy>=1.3.2 in /usr/local/lib/python3.10/dist-packages (from scikit-learn->underthesea) (1.10.1)\n",
            "Requirement already satisfied: threadpoolctl>=2.0.0 in /usr/local/lib/python3.10/dist-packages (from scikit-learn->underthesea) (3.2.0)\n",
            "Installing collected packages: underthesea-core, python-crfsuite, underthesea\n",
            "Successfully installed python-crfsuite-0.9.9 underthesea-6.5.0 underthesea-core-1.0.4\n"
          ]
        }
      ]
    },
    {
      "cell_type": "code",
      "execution_count": 3,
      "metadata": {
        "id": "yPm0wFhP2f48"
      },
      "outputs": [],
      "source": [
        "import pandas as pd\n",
        "from nltk.tokenize import sent_tokenize\n",
        "from underthesea import text_normalize\n",
        "from underthesea import word_tokenize\n",
        "from underthesea import classify\n",
        "from underthesea import sentiment\n",
        "import matplotlib.pyplot as plt\n",
        "import seaborn as sns\n",
        "from string import punctuation\n",
        "from nltk.tokenize import word_tokenize\n",
        "from nltk.stem import LancasterStemmer\n",
        "from string import punctuation\n",
        "from nltk.corpus import stopwords\n",
        "from nltk.tokenize import word_tokenize\n",
        "from nltk.stem import LancasterStemmer\n",
        "from nltk.stem.wordnet import WordNetLemmatizer\n",
        "import re\n",
        "import warnings\n",
        "warnings.filterwarnings('ignore')"
      ]
    },
    {
      "cell_type": "code",
      "source": [
        "from google.colab import drive\n",
        "drive.mount('/content/gdrive')"
      ],
      "metadata": {
        "colab": {
          "base_uri": "https://localhost:8080/"
        },
        "id": "DZ1Lvz41555W",
        "outputId": "d488def4-ab7b-480b-cdbb-26fb845ad59e"
      },
      "execution_count": 4,
      "outputs": [
        {
          "output_type": "stream",
          "name": "stdout",
          "text": [
            "Mounted at /content/gdrive\n"
          ]
        }
      ]
    },
    {
      "cell_type": "code",
      "execution_count": 5,
      "metadata": {
        "colab": {
          "base_uri": "https://localhost:8080/"
        },
        "id": "2CJ6yNGH2f49",
        "outputId": "2b21496b-a6d0-4d47-91a2-1f46f3932eeb"
      },
      "outputs": [
        {
          "output_type": "stream",
          "name": "stdout",
          "text": [
            "                                         Review Text sentiment\n",
            "0  Came here once to do endoscopy. Terrible servi...  Negative\n",
            "1  Bệnh viện khá hiện đại. Vị trí thuận lợi đến v...   Neutral\n",
            "2  Bệnh viện Đại học Y Dược là bệnh viện đa khoa,...  Positive\n",
            "3  Lần đầu tiên đưa ba đi khám tổng quát tại Bệnh...  Positive\n",
            "4  26/05/2023. 1 ngày trải nghiệm tại bv Đại Học ...  Positive\n"
          ]
        }
      ],
      "source": [
        "data = pd.read_csv(\"/content/gdrive/MyDrive/Colab Notebooks/Huy_Total_data.csv\",).drop([\"Time\", \"Rating\", \"Id\"], axis=1)\n",
        "print(data.head())"
      ]
    },
    {
      "cell_type": "code",
      "execution_count": 6,
      "metadata": {
        "colab": {
          "base_uri": "https://localhost:8080/",
          "height": 424
        },
        "id": "pO7f1-D02f4-",
        "outputId": "8c5f9152-1b63-455e-fad5-67483ddc3655"
      },
      "outputs": [
        {
          "output_type": "execute_result",
          "data": {
            "text/plain": [
              "                                             Review Text  sentiment\n",
              "0      Came here once to do endoscopy. Terrible servi...          0\n",
              "1      Bệnh viện khá hiện đại. Vị trí thuận lợi đến v...          1\n",
              "2      Bệnh viện Đại học Y Dược là bệnh viện đa khoa,...          2\n",
              "3      Lần đầu tiên đưa ba đi khám tổng quát tại Bệnh...          2\n",
              "4      26/05/2023. 1 ngày trải nghiệm tại bv Đại Học ...          2\n",
              "...                                                  ...        ...\n",
              "10290            đôi ngu y bác si o day rat nhiệt tinh          2\n",
              "10291  Tôi được người bạn giới thiệu và khám tại Phòn...          2\n",
              "10292  Thực tình nhiều nơi tôi đi khám vấn đề chờ đợi...          1\n",
              "10293  Tôi đã khám tại Phòng khám Vigor 3 năm, tôi th...          2\n",
              "10294  Các Bác sĩ ở đây rất nhiệt tình và chu đáo nữa...          0\n",
              "\n",
              "[10295 rows x 2 columns]"
            ],
            "text/html": [
              "\n",
              "\n",
              "  <div id=\"df-93991c24-f551-42ae-ac6c-d433c70346c1\">\n",
              "    <div class=\"colab-df-container\">\n",
              "      <div>\n",
              "<style scoped>\n",
              "    .dataframe tbody tr th:only-of-type {\n",
              "        vertical-align: middle;\n",
              "    }\n",
              "\n",
              "    .dataframe tbody tr th {\n",
              "        vertical-align: top;\n",
              "    }\n",
              "\n",
              "    .dataframe thead th {\n",
              "        text-align: right;\n",
              "    }\n",
              "</style>\n",
              "<table border=\"1\" class=\"dataframe\">\n",
              "  <thead>\n",
              "    <tr style=\"text-align: right;\">\n",
              "      <th></th>\n",
              "      <th>Review Text</th>\n",
              "      <th>sentiment</th>\n",
              "    </tr>\n",
              "  </thead>\n",
              "  <tbody>\n",
              "    <tr>\n",
              "      <th>0</th>\n",
              "      <td>Came here once to do endoscopy. Terrible servi...</td>\n",
              "      <td>0</td>\n",
              "    </tr>\n",
              "    <tr>\n",
              "      <th>1</th>\n",
              "      <td>Bệnh viện khá hiện đại. Vị trí thuận lợi đến v...</td>\n",
              "      <td>1</td>\n",
              "    </tr>\n",
              "    <tr>\n",
              "      <th>2</th>\n",
              "      <td>Bệnh viện Đại học Y Dược là bệnh viện đa khoa,...</td>\n",
              "      <td>2</td>\n",
              "    </tr>\n",
              "    <tr>\n",
              "      <th>3</th>\n",
              "      <td>Lần đầu tiên đưa ba đi khám tổng quát tại Bệnh...</td>\n",
              "      <td>2</td>\n",
              "    </tr>\n",
              "    <tr>\n",
              "      <th>4</th>\n",
              "      <td>26/05/2023. 1 ngày trải nghiệm tại bv Đại Học ...</td>\n",
              "      <td>2</td>\n",
              "    </tr>\n",
              "    <tr>\n",
              "      <th>...</th>\n",
              "      <td>...</td>\n",
              "      <td>...</td>\n",
              "    </tr>\n",
              "    <tr>\n",
              "      <th>10290</th>\n",
              "      <td>đôi ngu y bác si o day rat nhiệt tinh</td>\n",
              "      <td>2</td>\n",
              "    </tr>\n",
              "    <tr>\n",
              "      <th>10291</th>\n",
              "      <td>Tôi được người bạn giới thiệu và khám tại Phòn...</td>\n",
              "      <td>2</td>\n",
              "    </tr>\n",
              "    <tr>\n",
              "      <th>10292</th>\n",
              "      <td>Thực tình nhiều nơi tôi đi khám vấn đề chờ đợi...</td>\n",
              "      <td>1</td>\n",
              "    </tr>\n",
              "    <tr>\n",
              "      <th>10293</th>\n",
              "      <td>Tôi đã khám tại Phòng khám Vigor 3 năm, tôi th...</td>\n",
              "      <td>2</td>\n",
              "    </tr>\n",
              "    <tr>\n",
              "      <th>10294</th>\n",
              "      <td>Các Bác sĩ ở đây rất nhiệt tình và chu đáo nữa...</td>\n",
              "      <td>0</td>\n",
              "    </tr>\n",
              "  </tbody>\n",
              "</table>\n",
              "<p>10295 rows × 2 columns</p>\n",
              "</div>\n",
              "      <button class=\"colab-df-convert\" onclick=\"convertToInteractive('df-93991c24-f551-42ae-ac6c-d433c70346c1')\"\n",
              "              title=\"Convert this dataframe to an interactive table.\"\n",
              "              style=\"display:none;\">\n",
              "\n",
              "  <svg xmlns=\"http://www.w3.org/2000/svg\" height=\"24px\"viewBox=\"0 0 24 24\"\n",
              "       width=\"24px\">\n",
              "    <path d=\"M0 0h24v24H0V0z\" fill=\"none\"/>\n",
              "    <path d=\"M18.56 5.44l.94 2.06.94-2.06 2.06-.94-2.06-.94-.94-2.06-.94 2.06-2.06.94zm-11 1L8.5 8.5l.94-2.06 2.06-.94-2.06-.94L8.5 2.5l-.94 2.06-2.06.94zm10 10l.94 2.06.94-2.06 2.06-.94-2.06-.94-.94-2.06-.94 2.06-2.06.94z\"/><path d=\"M17.41 7.96l-1.37-1.37c-.4-.4-.92-.59-1.43-.59-.52 0-1.04.2-1.43.59L10.3 9.45l-7.72 7.72c-.78.78-.78 2.05 0 2.83L4 21.41c.39.39.9.59 1.41.59.51 0 1.02-.2 1.41-.59l7.78-7.78 2.81-2.81c.8-.78.8-2.07 0-2.86zM5.41 20L4 18.59l7.72-7.72 1.47 1.35L5.41 20z\"/>\n",
              "  </svg>\n",
              "      </button>\n",
              "\n",
              "\n",
              "\n",
              "    <div id=\"df-f3222e8a-4dbd-4142-8924-9b22f0310c76\">\n",
              "      <button class=\"colab-df-quickchart\" onclick=\"quickchart('df-f3222e8a-4dbd-4142-8924-9b22f0310c76')\"\n",
              "              title=\"Suggest charts.\"\n",
              "              style=\"display:none;\">\n",
              "\n",
              "<svg xmlns=\"http://www.w3.org/2000/svg\" height=\"24px\"viewBox=\"0 0 24 24\"\n",
              "     width=\"24px\">\n",
              "    <g>\n",
              "        <path d=\"M19 3H5c-1.1 0-2 .9-2 2v14c0 1.1.9 2 2 2h14c1.1 0 2-.9 2-2V5c0-1.1-.9-2-2-2zM9 17H7v-7h2v7zm4 0h-2V7h2v10zm4 0h-2v-4h2v4z\"/>\n",
              "    </g>\n",
              "</svg>\n",
              "      </button>\n",
              "    </div>\n",
              "\n",
              "<style>\n",
              "  .colab-df-quickchart {\n",
              "    background-color: #E8F0FE;\n",
              "    border: none;\n",
              "    border-radius: 50%;\n",
              "    cursor: pointer;\n",
              "    display: none;\n",
              "    fill: #1967D2;\n",
              "    height: 32px;\n",
              "    padding: 0 0 0 0;\n",
              "    width: 32px;\n",
              "  }\n",
              "\n",
              "  .colab-df-quickchart:hover {\n",
              "    background-color: #E2EBFA;\n",
              "    box-shadow: 0px 1px 2px rgba(60, 64, 67, 0.3), 0px 1px 3px 1px rgba(60, 64, 67, 0.15);\n",
              "    fill: #174EA6;\n",
              "  }\n",
              "\n",
              "  [theme=dark] .colab-df-quickchart {\n",
              "    background-color: #3B4455;\n",
              "    fill: #D2E3FC;\n",
              "  }\n",
              "\n",
              "  [theme=dark] .colab-df-quickchart:hover {\n",
              "    background-color: #434B5C;\n",
              "    box-shadow: 0px 1px 3px 1px rgba(0, 0, 0, 0.15);\n",
              "    filter: drop-shadow(0px 1px 2px rgba(0, 0, 0, 0.3));\n",
              "    fill: #FFFFFF;\n",
              "  }\n",
              "</style>\n",
              "\n",
              "    <script>\n",
              "      async function quickchart(key) {\n",
              "        const containerElement = document.querySelector('#' + key);\n",
              "        const charts = await google.colab.kernel.invokeFunction(\n",
              "            'suggestCharts', [key], {});\n",
              "      }\n",
              "    </script>\n",
              "\n",
              "      <script>\n",
              "\n",
              "function displayQuickchartButton(domScope) {\n",
              "  let quickchartButtonEl =\n",
              "    domScope.querySelector('#df-f3222e8a-4dbd-4142-8924-9b22f0310c76 button.colab-df-quickchart');\n",
              "  quickchartButtonEl.style.display =\n",
              "    google.colab.kernel.accessAllowed ? 'block' : 'none';\n",
              "}\n",
              "\n",
              "        displayQuickchartButton(document);\n",
              "      </script>\n",
              "      <style>\n",
              "    .colab-df-container {\n",
              "      display:flex;\n",
              "      flex-wrap:wrap;\n",
              "      gap: 12px;\n",
              "    }\n",
              "\n",
              "    .colab-df-convert {\n",
              "      background-color: #E8F0FE;\n",
              "      border: none;\n",
              "      border-radius: 50%;\n",
              "      cursor: pointer;\n",
              "      display: none;\n",
              "      fill: #1967D2;\n",
              "      height: 32px;\n",
              "      padding: 0 0 0 0;\n",
              "      width: 32px;\n",
              "    }\n",
              "\n",
              "    .colab-df-convert:hover {\n",
              "      background-color: #E2EBFA;\n",
              "      box-shadow: 0px 1px 2px rgba(60, 64, 67, 0.3), 0px 1px 3px 1px rgba(60, 64, 67, 0.15);\n",
              "      fill: #174EA6;\n",
              "    }\n",
              "\n",
              "    [theme=dark] .colab-df-convert {\n",
              "      background-color: #3B4455;\n",
              "      fill: #D2E3FC;\n",
              "    }\n",
              "\n",
              "    [theme=dark] .colab-df-convert:hover {\n",
              "      background-color: #434B5C;\n",
              "      box-shadow: 0px 1px 3px 1px rgba(0, 0, 0, 0.15);\n",
              "      filter: drop-shadow(0px 1px 2px rgba(0, 0, 0, 0.3));\n",
              "      fill: #FFFFFF;\n",
              "    }\n",
              "  </style>\n",
              "\n",
              "      <script>\n",
              "        const buttonEl =\n",
              "          document.querySelector('#df-93991c24-f551-42ae-ac6c-d433c70346c1 button.colab-df-convert');\n",
              "        buttonEl.style.display =\n",
              "          google.colab.kernel.accessAllowed ? 'block' : 'none';\n",
              "\n",
              "        async function convertToInteractive(key) {\n",
              "          const element = document.querySelector('#df-93991c24-f551-42ae-ac6c-d433c70346c1');\n",
              "          const dataTable =\n",
              "            await google.colab.kernel.invokeFunction('convertToInteractive',\n",
              "                                                     [key], {});\n",
              "          if (!dataTable) return;\n",
              "\n",
              "          const docLinkHtml = 'Like what you see? Visit the ' +\n",
              "            '<a target=\"_blank\" href=https://colab.research.google.com/notebooks/data_table.ipynb>data table notebook</a>'\n",
              "            + ' to learn more about interactive tables.';\n",
              "          element.innerHTML = '';\n",
              "          dataTable['output_type'] = 'display_data';\n",
              "          await google.colab.output.renderOutput(dataTable, element);\n",
              "          const docLink = document.createElement('div');\n",
              "          docLink.innerHTML = docLinkHtml;\n",
              "          element.appendChild(docLink);\n",
              "        }\n",
              "      </script>\n",
              "    </div>\n",
              "  </div>\n"
            ]
          },
          "metadata": {},
          "execution_count": 6
        }
      ],
      "source": [
        "data[\"sentiment\"] = data[\"sentiment\"].replace({\"Negative\": 0, \"Neutral\": 1, \"Positive\": 2})\n",
        "data"
      ]
    },
    {
      "cell_type": "code",
      "execution_count": 7,
      "metadata": {
        "colab": {
          "base_uri": "https://localhost:8080/"
        },
        "id": "YTTefNv72f4_",
        "outputId": "17abb583-54d3-4d63-ea75-a5e67f5a13d1"
      },
      "outputs": [
        {
          "output_type": "execute_result",
          "data": {
            "text/plain": [
              "(10295, 2)"
            ]
          },
          "metadata": {},
          "execution_count": 7
        }
      ],
      "source": [
        "data.shape"
      ]
    },
    {
      "cell_type": "code",
      "execution_count": 11,
      "metadata": {
        "id": "gj7-OesU2f4_"
      },
      "outputs": [],
      "source": [
        "texts = data['Review Text']"
      ]
    },
    {
      "cell_type": "code",
      "execution_count": 12,
      "metadata": {
        "id": "cfqscSeo2f4_"
      },
      "outputs": [],
      "source": [
        "import numpy as np\n",
        "\n",
        "text_lens = []\n",
        "for t in texts.values:\n",
        "    if isinstance(t, str):\n",
        "        text_len = len(t.split())\n",
        "        text_lens.append(text_len)\n",
        "\n",
        "len_mean = np.mean(text_lens)"
      ]
    },
    {
      "cell_type": "code",
      "execution_count": 13,
      "metadata": {
        "colab": {
          "base_uri": "https://localhost:8080/"
        },
        "id": "TDvL_bUS2f4_",
        "outputId": "f8a0ede2-eae9-4d72-91ea-a45e3bd76e4d"
      },
      "outputs": [
        {
          "output_type": "execute_result",
          "data": {
            "text/plain": [
              "45.23895094706168"
            ]
          },
          "metadata": {},
          "execution_count": 13
        }
      ],
      "source": [
        "len_mean"
      ]
    },
    {
      "cell_type": "code",
      "execution_count": 15,
      "metadata": {
        "id": "4rNpL6sh2f5A"
      },
      "outputs": [],
      "source": [
        "stopwords_vn = [\n",
        "    \"bị\", \"bởi\", \"cả\", \"các\", \"cái\", \"cần\", \"càng\", \"chỉ\", \"chiếc\", \"cho\", \"chứ\",\n",
        "    \"chưa\", \"chuyện\", \"có\", \"có_thể\", \"cứ\", \"của\", \"cùng\", \"cũng\", \"đã\", \"đang\",\n",
        "    \"đây\", \"để\", \"đến_nỗi\", \"đều\", \"điều\", \"do\", \"đó\", \"được\", \"dưới\", \"gì\", \"khi\",\n",
        "    \"không\", \"là\", \"lại\", \"lên\", \"lúc\", \"mà\", \"mỗi\", \"một_cách\", \"này\", \"nên\", \"nếu\",\n",
        "    \"ngay\", \"nhiều\", \"như\", \"nhưng\", \"những\", \"nơi\", \"nữa\", \"phải\", \"qua\", \"ra\", \"rằng\",\n",
        "    \"rằng\", \"rất\", \"rất\", \"rồi\", \"sau\", \"sẽ\", \"so\", \"sự\", \"tại\", \"theo\", \"thì\", \"trên\",\n",
        "    \"trước\", \"từ\", \"từng\", \"và\", \"vẫn\", \"vào\", \"vậy\", \"vì\", \"việc\", \"với\", \"vừa\"\n",
        "    # Add more stopwords as needed\n",
        "]"
      ]
    },
    {
      "cell_type": "code",
      "source": [
        "import nltk\n",
        "nltk.download('stopwords')"
      ],
      "metadata": {
        "colab": {
          "base_uri": "https://localhost:8080/"
        },
        "id": "DHExo4lv7DsH",
        "outputId": "3353bccc-e54a-4fd8-a4a2-6de1ead70b20"
      },
      "execution_count": 17,
      "outputs": [
        {
          "output_type": "stream",
          "name": "stderr",
          "text": [
            "[nltk_data] Downloading package stopwords to /root/nltk_data...\n",
            "[nltk_data]   Unzipping corpora/stopwords.zip.\n"
          ]
        },
        {
          "output_type": "execute_result",
          "data": {
            "text/plain": [
              "True"
            ]
          },
          "metadata": {},
          "execution_count": 17
        }
      ]
    },
    {
      "cell_type": "code",
      "execution_count": 18,
      "metadata": {
        "colab": {
          "base_uri": "https://localhost:8080/"
        },
        "id": "mffhrZ9o2f5A",
        "outputId": "0fa13a73-7e06-42da-b500-7cad060e7d39"
      },
      "outputs": [
        {
          "output_type": "stream",
          "name": "stdout",
          "text": [
            "10295\n",
            "Came here once to do endoscopy. Terrible service and facilities. No proper queing at all. So many people took queing tickets in advance and then selling to the patients with a higher price. So unethical! The staffs and the hospital know but they do nothing about it. This problem has been going on for years. I saw many staffs just stood there and played their phone. Since there are too many patients, the staffs, the nurses and the doctors will only spend a very short time on each patient. The whole process took me two days and I only saw the doctors for 15 minutes and about 15 mins more for the endoscopy itself. The doctors' quality are ok but other than that, there is nothing good about this hospital. There are some private hospitals in the city which are much better than this one.\n",
            "\n",
            "chật chội bon chen khủng khiếp. lấy số thứ tự cũng như không. hoàn toàn không có khái niệm xếp hàng. rất nhiều cá nhân lấy số thứ tự trước rồi bán lại như vé chợ đen, ko mua thì phải chờ đến ngày mai cũng chưa chắc có. bệnh viện hoàn toàn không quan tâm đến việc này. như một cái chợ thật sự. nói chung là bệnh viện này ngoại trừ bác sĩ cũng gọi là có tay nghề ra thì các khâu khác đều tệ.\n"
          ]
        }
      ],
      "source": [
        "stuff_to_be_removed = stopwords.words('english') + list(punctuation) + stopwords_vn\n",
        "stemmer = LancasterStemmer()\n",
        "corpus = data['Review Text'].tolist()\n",
        "print(len(corpus))\n",
        "print(corpus[0])\n"
      ]
    },
    {
      "cell_type": "code",
      "execution_count": 19,
      "metadata": {
        "id": "V-Bb1-lm2f5B"
      },
      "outputs": [],
      "source": [
        "word_replacements = {\n",
        "    # Group: Numbers and simple replacements\n",
        "    \"1\": \"i\",\n",
        "    \"3\": \"e\",\n",
        "    \"4\": \"a\",\n",
        "    \"5\": \"s\",\n",
        "    \"7\": \"t\",\n",
        "    \"0\": \"o\",\n",
        "    \"@\": \"a\",\n",
        "    \"/\\\\\": \"a\",\n",
        "    \"/-\\\\\": \"a\",\n",
        "    \"*\": \"a\",\n",
        "    \"ä\": \"a\",\n",
        "    \"á\": \"a\",\n",
        "    \"à\": \"a\",\n",
        "    \"â\": \"a\",\n",
        "    \"a^\": \"a\",\n",
        "    \"ã\": \"a\",\n",
        "    \"å\": \"a\",\n",
        "    \"ą\": \"a\",\n",
        "    \"ª\": \"a\",\n",
        "    \"∀\": \"a\",\n",
        "    \"∧\": \"a\",\n",
        "    \"α\": \"a\",\n",
        "\n",
        "    # Group: Letters and their replacements\n",
        "    \"8\": \"b\",\n",
        "    \"|3\": \"b\",\n",
        "    \"13\": \"b\",\n",
        "    \"ß\": \"b\",\n",
        "    \"þ\": \"b\",\n",
        "    \"v\": \"b\",\n",
        "    \"ć\": \"c\",\n",
        "    \"č\": \"c\",\n",
        "    \"ç\": \"c\",\n",
        "    \"©\": \"c\",\n",
        "    \"σ\": \"c\",\n",
        "    \"(\": \"c\",\n",
        "    \"¢\": \"c\",\n",
        "    \"<\": \"c\",\n",
        "    \"[\": \"c\",\n",
        "    \"©\": \"c\",\n",
        "    \"[)\": \"d\",\n",
        "    \"|>\": \"d\",\n",
        "    \"|)\": \"d\",\n",
        "    \"|]\": \"d\",\n",
        "    \"3\": \"e\",\n",
        "    \"€\": \"e\",\n",
        "    \"є\": \"e\",\n",
        "    \"[-\": \"e\",\n",
        "    \"|=\": \"f\",\n",
        "    \"ƒ\": \"f\",\n",
        "    \"/=\": \"f\",\n",
        "    \"6\": \"g\",\n",
        "    \"(_+\": \"g\",\n",
        "    \"#\": \"h\",\n",
        "    \"/-/\": \"h\",\n",
        "    \"[-]\": \"h\",\n",
        "    \"]-[\": \"h\",\n",
        "    \")-(\": \"h\",\n",
        "    \"(-)\": \"h\",\n",
        "    \":-:\": \"h\",\n",
        "    \"|~|\": \"h\",\n",
        "    \"|-|\": \"h\",\n",
        "    \"]~[\": \"h\",\n",
        "    \"}{\" : \"h\",\n",
        "\n",
        "    # Group: More letters and their replacements\n",
        "    \"1\": \"i\",\n",
        "    '!': \"i\",\n",
        "    \"|\": \"i\",\n",
        "    \"][\" : \"i\",\n",
        "    \"]\": \"i\",\n",
        "    \":\" : \"i\",\n",
        "    \"_|\": \"j\",\n",
        "    \"_/\": \"j\",\n",
        "    \"¿\": \"j\",\n",
        "    \"(/\": \"j\",\n",
        "    \"ʝ\": \"j\",\n",
        "    \";\": \"j\",\n",
        "    \"X\": \"k\",\n",
        "    \"|<\": \"k\",\n",
        "    \"|{\": \"k\",\n",
        "    \"ɮ\": \"k\",\n",
        "    \"£\": \"l\",\n",
        "    \"1_\": \"l\",\n",
        "    \"ℓ\": \"l\",\n",
        "    \"|_\": \"l\",\n",
        "    \"[_\": \"l\",\n",
        "    \"|V|\": \"m\",\n",
        "    \"|\\\\/|\": \"m\",\n",
        "    \"/\\\\/\\\\\": \"m\",\n",
        "    \"/V\\\\\": \"m\",\n",
        "    \"|V\": \"n\",\n",
        "    \"|\\\\|\": \"n\",\n",
        "    \"/\\\\/\": \"n\",\n",
        "    \"[\\\\]\": \"n\",\n",
        "    \"/V\": \"n\",\n",
        "\n",
        "    # Group: More replacements\n",
        "    \"[]\": \"o\",\n",
        "    \"0\": \"o\",\n",
        "    \"()\": \"o\",\n",
        "    \"°\": \"o\",\n",
        "    \"|*\": \"p\",\n",
        "    \"|o\": \"p\",\n",
        "    \"|º\": \"p\",\n",
        "    \"|°\": \"p\",\n",
        "    \"/*\": \"p\",\n",
        "    \"¶\": \"q\",\n",
        "    \"(_,)\": \"q\",\n",
        "    \"()_\": \"q\",\n",
        "    \"0_\": \"q\",\n",
        "    \"°|\": \"q\",\n",
        "    \"<|\": \"q\",\n",
        "    \"®\": \"r\",\n",
        "    \"2\": \"r\",\n",
        "    \"|?\": \"r\",\n",
        "    \"/2\": \"r\",\n",
        "    \"®\": \"r\",\n",
        "    \"Я\": \"r\",\n",
        "    \"|2\": \"r\",\n",
        "    \"§\": \"s\",\n",
        "    \"5\": \"s\",\n",
        "    \"$\": \"s\",\n",
        "    \"_/¯\": \"s\",\n",
        "    \"7\": \"t\",\n",
        "    \"†\": \"t\",\n",
        "    \"¯|¯\": \"t\",\n",
        "    \"(_)\": \"u\",\n",
        "    \"|_|\": \"u\",\n",
        "    \"L|\": \"u\",\n",
        "    \"µ\": \"u\",\n",
        "    \"\\/\": \"v\",\n",
        "    \"|/\": \"v\",\n",
        "    \"\\/\\/\": \"w\",\n",
        "    \"vv\": \"w\",\n",
        "    \"\\/\": \"w\",\n",
        "    \"\\^/\": \"w\",\n",
        "    \"\\V/\": \"w\",\n",
        "    \"\\|/\": \"w\",\n",
        "    \"\\_|_/\": \"w\",\n",
        "    \"\\_:_/\": \"w\",\n",
        "    \"><\": \"x\",\n",
        "    \"}{\" : \"x\",\n",
        "    \"×\": \"x\",\n",
        "    \")(\": \"x\",\n",
        "    \"`/\": \"y\",\n",
        "    \"φ\": \"y\",\n",
        "    \"¥\": \"y\",\n",
        "    \"\\/\": \"y\",\n",
        "    \"≥\": \"z\",\n",
        "    \"7_\": \"z\",\n",
        "    \">_\": \"z\",\n",
        "\n",
        "    # Group: Common abbreviations and their expansions\n",
        "    \"youre\": \"you are\",\n",
        "    \"im\": \"I am\",\n",
        "    \"dont\": \"do not\",\n",
        "    \"cant\": \"cannot\",\n",
        "    \"wont\": \"will not\",\n",
        "    \"ive\": \"I have\",\n",
        "    \"id\": \"I would\",\n",
        "    \"theyre\": \"they are\",\n",
        "    \"theres\": \"there is\",\n",
        "\n",
        "    # Group: Common Vietnamese shortcuts and their expansions\n",
        "    \"ko\": \"không\",\n",
        "    \"t\": \"tôi\",\n",
        "    \"m\": \"mình\",\n",
        "    \"mày\": \"em\",\n",
        "    \"tao\": \"anh\",\n",
        "    \"dc\": \"được\",\n",
        "    \"hok\": \"không\",\n",
        "    \"ngta\": \"người ta\",\n",
        "    'bsau': \"bữa sau\",\n",
        "    \"k\": \"không\"\n",
        "}"
      ]
    },
    {
      "cell_type": "code",
      "source": [
        "! pip install demoji"
      ],
      "metadata": {
        "colab": {
          "base_uri": "https://localhost:8080/"
        },
        "id": "_fsXz7fT7YOP",
        "outputId": "387d2cdf-e494-466e-902a-84109e3cb501"
      },
      "execution_count": 21,
      "outputs": [
        {
          "output_type": "stream",
          "name": "stdout",
          "text": [
            "Collecting demoji\n",
            "  Downloading demoji-1.1.0-py3-none-any.whl (42 kB)\n",
            "\u001b[?25l     \u001b[90m━━━━━━━━━━━━━━━━━━━━━━━━━━━━━━━━━━━━━━━━\u001b[0m \u001b[32m0.0/42.9 kB\u001b[0m \u001b[31m?\u001b[0m eta \u001b[36m-:--:--\u001b[0m\r\u001b[2K     \u001b[90m━━━━━━━━━━━━━━━━━━━━━━━━━━━━━━━━━━━━━━━━\u001b[0m \u001b[32m42.9/42.9 kB\u001b[0m \u001b[31m1.0 MB/s\u001b[0m eta \u001b[36m0:00:00\u001b[0m\n",
            "\u001b[?25hInstalling collected packages: demoji\n",
            "Successfully installed demoji-1.1.0\n"
          ]
        }
      ]
    },
    {
      "cell_type": "code",
      "execution_count": 24,
      "metadata": {
        "id": "gXSegYWB2f5C"
      },
      "outputs": [],
      "source": [
        "def handle_emoji(string):\n",
        "    emojis = demoji.findall(string)\n",
        "\n",
        "    for emoji in emojis:\n",
        "        string = string.replace(emoji, \" \" + emojis[emoji].split(\":\")[0])\n",
        "\n",
        "    return string"
      ]
    },
    {
      "cell_type": "code",
      "source": [
        "import nltk\n",
        "nltk.download('wordnet')"
      ],
      "metadata": {
        "colab": {
          "base_uri": "https://localhost:8080/"
        },
        "id": "X7Lv7P_z8ASs",
        "outputId": "f4745a4d-5e4e-4e15-d184-f5d3991dc40b"
      },
      "execution_count": 26,
      "outputs": [
        {
          "output_type": "stream",
          "name": "stderr",
          "text": [
            "[nltk_data] Downloading package wordnet to /root/nltk_data...\n"
          ]
        },
        {
          "output_type": "execute_result",
          "data": {
            "text/plain": [
              "True"
            ]
          },
          "metadata": {},
          "execution_count": 26
        }
      ]
    },
    {
      "cell_type": "code",
      "execution_count": 27,
      "metadata": {
        "id": "SVhMhzmg2f5C"
      },
      "outputs": [],
      "source": [
        "final_corpus = []\n",
        "final_corpus_joined = []\n",
        "\n",
        "for i in data.index:\n",
        "    text = data['Review Text'][i]\n",
        "    if isinstance(text, str):\n",
        "        text = re.sub('[^a-zA-Zàáảãạăắằẵặẳâấầẩẫậđèéẻẽẹêềếểễệìíỉĩịòóỏõọôốồổỗộơớờởỡợùúủũụưứừửữựỳýỷỹỵ]', ' ', text)\n",
        "        text = text.lower()\n",
        "        text = re.sub(\"&lt;/?.*?&gt;\", \" &lt;&gt; \", text)\n",
        "        text = re.sub(\"(\\\\d|\\\\W)+\", \" \", text)\n",
        "        text = re.sub(r'\\d+', '', text)\n",
        "        text = re.sub(r'(http\\S+)?(\\w+\\.)+\\S+', r'', text)\n",
        "        text = handle_emoji(text)  # Ensure 'text' is a string here\n",
        "        text = uni.normalize('NFKD', text)  # Ensure 'text' is a string here\n",
        "        text = text.split()\n",
        "        lem = WordNetLemmatizer()\n",
        "        text = [lem.lemmatize(word) for word in text if not word in stuff_to_be_removed]\n",
        "        # Apply word replacements\n",
        "        text = [word_replacements.get(word, word) for word in text]\n",
        "        text1 = \" \".join(text)\n",
        "    else:\n",
        "        # Handle non-string elements\n",
        "        text1 = \"\"\n",
        "    final_corpus.append(text)\n",
        "    final_corpus_joined.append(text1)"
      ]
    },
    {
      "cell_type": "code",
      "execution_count": 28,
      "metadata": {
        "colab": {
          "base_uri": "https://localhost:8080/"
        },
        "id": "8_CUfNO32f5C",
        "outputId": "369d1b56-9d4c-4d8d-88fc-8262ef6afe09"
      },
      "outputs": [
        {
          "output_type": "stream",
          "name": "stdout",
          "text": [
            "10295\n"
          ]
        }
      ],
      "source": [
        "num_elements = len(final_corpus)\n",
        "print(num_elements)"
      ]
    },
    {
      "cell_type": "code",
      "execution_count": 29,
      "metadata": {
        "colab": {
          "base_uri": "https://localhost:8080/"
        },
        "id": "41DetpCX2f5D",
        "outputId": "6ff9a1f9-d7a4-44c4-f846-bd2b71962bd8"
      },
      "outputs": [
        {
          "output_type": "stream",
          "name": "stdout",
          "text": [
            "10295\n"
          ]
        }
      ],
      "source": [
        "num_elements_2 = len(final_corpus_joined)\n",
        "print(num_elements_2)"
      ]
    },
    {
      "cell_type": "code",
      "execution_count": 30,
      "metadata": {
        "id": "e9Bm4Lqi2f5D"
      },
      "outputs": [],
      "source": [
        "data_cleaned = pd.DataFrame()\n",
        "data_cleaned[\"Review Text\"] = final_corpus_joined\n",
        "data_cleaned[\"sentiment\"] = data[\"sentiment\"].values"
      ]
    },
    {
      "cell_type": "code",
      "execution_count": 31,
      "metadata": {
        "colab": {
          "base_uri": "https://localhost:8080/",
          "height": 206
        },
        "id": "U_5Drx5m2f5E",
        "outputId": "7a63a990-1b91-4224-a71a-3a0284b8c32f"
      },
      "outputs": [
        {
          "output_type": "execute_result",
          "data": {
            "text/plain": [
              "                                         Review Text  sentiment\n",
              "0  [came, endoscopy, terrible, service, facility,...          0\n",
              "1  [bệnh, viện, khá, hiện, đại, vị, trí...          1\n",
              "2  [bệnh, viện, ại, học, dược, là, bệ...          2\n",
              "3  [lần, đầu, tiên, đưa, ba, đi, khám, tô...          2\n",
              "4  [ngày, trải, nghiệm, tại, bv, ại, học, ...          2"
            ],
            "text/html": [
              "\n",
              "\n",
              "  <div id=\"df-27190729-6517-478b-8552-dffec0f8165c\">\n",
              "    <div class=\"colab-df-container\">\n",
              "      <div>\n",
              "<style scoped>\n",
              "    .dataframe tbody tr th:only-of-type {\n",
              "        vertical-align: middle;\n",
              "    }\n",
              "\n",
              "    .dataframe tbody tr th {\n",
              "        vertical-align: top;\n",
              "    }\n",
              "\n",
              "    .dataframe thead th {\n",
              "        text-align: right;\n",
              "    }\n",
              "</style>\n",
              "<table border=\"1\" class=\"dataframe\">\n",
              "  <thead>\n",
              "    <tr style=\"text-align: right;\">\n",
              "      <th></th>\n",
              "      <th>Review Text</th>\n",
              "      <th>sentiment</th>\n",
              "    </tr>\n",
              "  </thead>\n",
              "  <tbody>\n",
              "    <tr>\n",
              "      <th>0</th>\n",
              "      <td>[came, endoscopy, terrible, service, facility,...</td>\n",
              "      <td>0</td>\n",
              "    </tr>\n",
              "    <tr>\n",
              "      <th>1</th>\n",
              "      <td>[bệnh, viện, khá, hiện, đại, vị, trí...</td>\n",
              "      <td>1</td>\n",
              "    </tr>\n",
              "    <tr>\n",
              "      <th>2</th>\n",
              "      <td>[bệnh, viện, ại, học, dược, là, bệ...</td>\n",
              "      <td>2</td>\n",
              "    </tr>\n",
              "    <tr>\n",
              "      <th>3</th>\n",
              "      <td>[lần, đầu, tiên, đưa, ba, đi, khám, tô...</td>\n",
              "      <td>2</td>\n",
              "    </tr>\n",
              "    <tr>\n",
              "      <th>4</th>\n",
              "      <td>[ngày, trải, nghiệm, tại, bv, ại, học, ...</td>\n",
              "      <td>2</td>\n",
              "    </tr>\n",
              "  </tbody>\n",
              "</table>\n",
              "</div>\n",
              "      <button class=\"colab-df-convert\" onclick=\"convertToInteractive('df-27190729-6517-478b-8552-dffec0f8165c')\"\n",
              "              title=\"Convert this dataframe to an interactive table.\"\n",
              "              style=\"display:none;\">\n",
              "\n",
              "  <svg xmlns=\"http://www.w3.org/2000/svg\" height=\"24px\"viewBox=\"0 0 24 24\"\n",
              "       width=\"24px\">\n",
              "    <path d=\"M0 0h24v24H0V0z\" fill=\"none\"/>\n",
              "    <path d=\"M18.56 5.44l.94 2.06.94-2.06 2.06-.94-2.06-.94-.94-2.06-.94 2.06-2.06.94zm-11 1L8.5 8.5l.94-2.06 2.06-.94-2.06-.94L8.5 2.5l-.94 2.06-2.06.94zm10 10l.94 2.06.94-2.06 2.06-.94-2.06-.94-.94-2.06-.94 2.06-2.06.94z\"/><path d=\"M17.41 7.96l-1.37-1.37c-.4-.4-.92-.59-1.43-.59-.52 0-1.04.2-1.43.59L10.3 9.45l-7.72 7.72c-.78.78-.78 2.05 0 2.83L4 21.41c.39.39.9.59 1.41.59.51 0 1.02-.2 1.41-.59l7.78-7.78 2.81-2.81c.8-.78.8-2.07 0-2.86zM5.41 20L4 18.59l7.72-7.72 1.47 1.35L5.41 20z\"/>\n",
              "  </svg>\n",
              "      </button>\n",
              "\n",
              "\n",
              "\n",
              "    <div id=\"df-97186dfd-b224-4f81-ab2f-5b7156ffdd60\">\n",
              "      <button class=\"colab-df-quickchart\" onclick=\"quickchart('df-97186dfd-b224-4f81-ab2f-5b7156ffdd60')\"\n",
              "              title=\"Suggest charts.\"\n",
              "              style=\"display:none;\">\n",
              "\n",
              "<svg xmlns=\"http://www.w3.org/2000/svg\" height=\"24px\"viewBox=\"0 0 24 24\"\n",
              "     width=\"24px\">\n",
              "    <g>\n",
              "        <path d=\"M19 3H5c-1.1 0-2 .9-2 2v14c0 1.1.9 2 2 2h14c1.1 0 2-.9 2-2V5c0-1.1-.9-2-2-2zM9 17H7v-7h2v7zm4 0h-2V7h2v10zm4 0h-2v-4h2v4z\"/>\n",
              "    </g>\n",
              "</svg>\n",
              "      </button>\n",
              "    </div>\n",
              "\n",
              "<style>\n",
              "  .colab-df-quickchart {\n",
              "    background-color: #E8F0FE;\n",
              "    border: none;\n",
              "    border-radius: 50%;\n",
              "    cursor: pointer;\n",
              "    display: none;\n",
              "    fill: #1967D2;\n",
              "    height: 32px;\n",
              "    padding: 0 0 0 0;\n",
              "    width: 32px;\n",
              "  }\n",
              "\n",
              "  .colab-df-quickchart:hover {\n",
              "    background-color: #E2EBFA;\n",
              "    box-shadow: 0px 1px 2px rgba(60, 64, 67, 0.3), 0px 1px 3px 1px rgba(60, 64, 67, 0.15);\n",
              "    fill: #174EA6;\n",
              "  }\n",
              "\n",
              "  [theme=dark] .colab-df-quickchart {\n",
              "    background-color: #3B4455;\n",
              "    fill: #D2E3FC;\n",
              "  }\n",
              "\n",
              "  [theme=dark] .colab-df-quickchart:hover {\n",
              "    background-color: #434B5C;\n",
              "    box-shadow: 0px 1px 3px 1px rgba(0, 0, 0, 0.15);\n",
              "    filter: drop-shadow(0px 1px 2px rgba(0, 0, 0, 0.3));\n",
              "    fill: #FFFFFF;\n",
              "  }\n",
              "</style>\n",
              "\n",
              "    <script>\n",
              "      async function quickchart(key) {\n",
              "        const containerElement = document.querySelector('#' + key);\n",
              "        const charts = await google.colab.kernel.invokeFunction(\n",
              "            'suggestCharts', [key], {});\n",
              "      }\n",
              "    </script>\n",
              "\n",
              "      <script>\n",
              "\n",
              "function displayQuickchartButton(domScope) {\n",
              "  let quickchartButtonEl =\n",
              "    domScope.querySelector('#df-97186dfd-b224-4f81-ab2f-5b7156ffdd60 button.colab-df-quickchart');\n",
              "  quickchartButtonEl.style.display =\n",
              "    google.colab.kernel.accessAllowed ? 'block' : 'none';\n",
              "}\n",
              "\n",
              "        displayQuickchartButton(document);\n",
              "      </script>\n",
              "      <style>\n",
              "    .colab-df-container {\n",
              "      display:flex;\n",
              "      flex-wrap:wrap;\n",
              "      gap: 12px;\n",
              "    }\n",
              "\n",
              "    .colab-df-convert {\n",
              "      background-color: #E8F0FE;\n",
              "      border: none;\n",
              "      border-radius: 50%;\n",
              "      cursor: pointer;\n",
              "      display: none;\n",
              "      fill: #1967D2;\n",
              "      height: 32px;\n",
              "      padding: 0 0 0 0;\n",
              "      width: 32px;\n",
              "    }\n",
              "\n",
              "    .colab-df-convert:hover {\n",
              "      background-color: #E2EBFA;\n",
              "      box-shadow: 0px 1px 2px rgba(60, 64, 67, 0.3), 0px 1px 3px 1px rgba(60, 64, 67, 0.15);\n",
              "      fill: #174EA6;\n",
              "    }\n",
              "\n",
              "    [theme=dark] .colab-df-convert {\n",
              "      background-color: #3B4455;\n",
              "      fill: #D2E3FC;\n",
              "    }\n",
              "\n",
              "    [theme=dark] .colab-df-convert:hover {\n",
              "      background-color: #434B5C;\n",
              "      box-shadow: 0px 1px 3px 1px rgba(0, 0, 0, 0.15);\n",
              "      filter: drop-shadow(0px 1px 2px rgba(0, 0, 0, 0.3));\n",
              "      fill: #FFFFFF;\n",
              "    }\n",
              "  </style>\n",
              "\n",
              "      <script>\n",
              "        const buttonEl =\n",
              "          document.querySelector('#df-27190729-6517-478b-8552-dffec0f8165c button.colab-df-convert');\n",
              "        buttonEl.style.display =\n",
              "          google.colab.kernel.accessAllowed ? 'block' : 'none';\n",
              "\n",
              "        async function convertToInteractive(key) {\n",
              "          const element = document.querySelector('#df-27190729-6517-478b-8552-dffec0f8165c');\n",
              "          const dataTable =\n",
              "            await google.colab.kernel.invokeFunction('convertToInteractive',\n",
              "                                                     [key], {});\n",
              "          if (!dataTable) return;\n",
              "\n",
              "          const docLinkHtml = 'Like what you see? Visit the ' +\n",
              "            '<a target=\"_blank\" href=https://colab.research.google.com/notebooks/data_table.ipynb>data table notebook</a>'\n",
              "            + ' to learn more about interactive tables.';\n",
              "          element.innerHTML = '';\n",
              "          dataTable['output_type'] = 'display_data';\n",
              "          await google.colab.output.renderOutput(dataTable, element);\n",
              "          const docLink = document.createElement('div');\n",
              "          docLink.innerHTML = docLinkHtml;\n",
              "          element.appendChild(docLink);\n",
              "        }\n",
              "      </script>\n",
              "    </div>\n",
              "  </div>\n"
            ]
          },
          "metadata": {},
          "execution_count": 31
        }
      ],
      "source": [
        "data_eda = pd.DataFrame()\n",
        "data_eda['Review Text'] = final_corpus\n",
        "data_eda['sentiment'] = data['sentiment'].values\n",
        "data_eda.head()"
      ]
    },
    {
      "cell_type": "code",
      "execution_count": 32,
      "metadata": {
        "id": "qIWysban2f5E"
      },
      "outputs": [],
      "source": [
        "Neutral = data_eda[data_eda['sentiment'] == 1]\n",
        "Neutral_list = Neutral['Review Text'].tolist()\n",
        "Negative = data_eda[data_eda['sentiment'] == 0]\n",
        "Negative_list = Negative['Review Text'].tolist()\n",
        "Positive = data_eda[data_eda['sentiment'] == 2]\n",
        "Positive_list = Positive['Review Text'].tolist()"
      ]
    },
    {
      "cell_type": "code",
      "execution_count": 33,
      "metadata": {
        "id": "YSrn6_9t2f5E"
      },
      "outputs": [],
      "source": [
        "Positive_all = \" \".join([word for sent in Positive_list if isinstance(sent, list) for word in sent])\n",
        "Negative_all = \" \".join([word for sent in Negative_list if isinstance(sent, list) for word in sent])\n",
        "Neutral_all = \" \".join([word for sent in Neutral_list if isinstance(sent, list) for word in sent])"
      ]
    },
    {
      "cell_type": "code",
      "execution_count": 34,
      "metadata": {
        "id": "-6dkTl0W2f5E"
      },
      "outputs": [],
      "source": [
        "from sklearn.feature_extraction.text import TfidfVectorizer\n",
        "tfidf = TfidfVectorizer()\n",
        "xt = tfidf.fit_transform(data_cleaned['Review Text'])\n",
        "y = data_cleaned['sentiment']"
      ]
    },
    {
      "cell_type": "code",
      "execution_count": 35,
      "metadata": {
        "id": "62jwbOYu2f5E"
      },
      "outputs": [],
      "source": [
        "from sklearn.model_selection import train_test_split\n",
        "X_train, X_test, y_train, y_test = train_test_split(xt,\n",
        "                                                    y,\n",
        "                                                    test_size=0.33,\n",
        "                                                    random_state=123,\n",
        "                                                    stratify = y)"
      ]
    },
    {
      "cell_type": "code",
      "execution_count": 36,
      "metadata": {
        "id": "lL_g2RV42f5F"
      },
      "outputs": [],
      "source": [
        "from sklearn.metrics import accuracy_score,confusion_matrix,classification_report\n",
        "from sklearn.linear_model import LogisticRegression"
      ]
    },
    {
      "cell_type": "code",
      "execution_count": 37,
      "metadata": {
        "colab": {
          "base_uri": "https://localhost:8080/",
          "height": 75
        },
        "id": "o7ji71yT2f5F",
        "outputId": "fa7d5c5d-75d9-4126-8af6-25ae0ff7d403"
      },
      "outputs": [
        {
          "output_type": "execute_result",
          "data": {
            "text/plain": [
              "LogisticRegression()"
            ],
            "text/html": [
              "<style>#sk-container-id-1 {color: black;background-color: white;}#sk-container-id-1 pre{padding: 0;}#sk-container-id-1 div.sk-toggleable {background-color: white;}#sk-container-id-1 label.sk-toggleable__label {cursor: pointer;display: block;width: 100%;margin-bottom: 0;padding: 0.3em;box-sizing: border-box;text-align: center;}#sk-container-id-1 label.sk-toggleable__label-arrow:before {content: \"▸\";float: left;margin-right: 0.25em;color: #696969;}#sk-container-id-1 label.sk-toggleable__label-arrow:hover:before {color: black;}#sk-container-id-1 div.sk-estimator:hover label.sk-toggleable__label-arrow:before {color: black;}#sk-container-id-1 div.sk-toggleable__content {max-height: 0;max-width: 0;overflow: hidden;text-align: left;background-color: #f0f8ff;}#sk-container-id-1 div.sk-toggleable__content pre {margin: 0.2em;color: black;border-radius: 0.25em;background-color: #f0f8ff;}#sk-container-id-1 input.sk-toggleable__control:checked~div.sk-toggleable__content {max-height: 200px;max-width: 100%;overflow: auto;}#sk-container-id-1 input.sk-toggleable__control:checked~label.sk-toggleable__label-arrow:before {content: \"▾\";}#sk-container-id-1 div.sk-estimator input.sk-toggleable__control:checked~label.sk-toggleable__label {background-color: #d4ebff;}#sk-container-id-1 div.sk-label input.sk-toggleable__control:checked~label.sk-toggleable__label {background-color: #d4ebff;}#sk-container-id-1 input.sk-hidden--visually {border: 0;clip: rect(1px 1px 1px 1px);clip: rect(1px, 1px, 1px, 1px);height: 1px;margin: -1px;overflow: hidden;padding: 0;position: absolute;width: 1px;}#sk-container-id-1 div.sk-estimator {font-family: monospace;background-color: #f0f8ff;border: 1px dotted black;border-radius: 0.25em;box-sizing: border-box;margin-bottom: 0.5em;}#sk-container-id-1 div.sk-estimator:hover {background-color: #d4ebff;}#sk-container-id-1 div.sk-parallel-item::after {content: \"\";width: 100%;border-bottom: 1px solid gray;flex-grow: 1;}#sk-container-id-1 div.sk-label:hover label.sk-toggleable__label {background-color: #d4ebff;}#sk-container-id-1 div.sk-serial::before {content: \"\";position: absolute;border-left: 1px solid gray;box-sizing: border-box;top: 0;bottom: 0;left: 50%;z-index: 0;}#sk-container-id-1 div.sk-serial {display: flex;flex-direction: column;align-items: center;background-color: white;padding-right: 0.2em;padding-left: 0.2em;position: relative;}#sk-container-id-1 div.sk-item {position: relative;z-index: 1;}#sk-container-id-1 div.sk-parallel {display: flex;align-items: stretch;justify-content: center;background-color: white;position: relative;}#sk-container-id-1 div.sk-item::before, #sk-container-id-1 div.sk-parallel-item::before {content: \"\";position: absolute;border-left: 1px solid gray;box-sizing: border-box;top: 0;bottom: 0;left: 50%;z-index: -1;}#sk-container-id-1 div.sk-parallel-item {display: flex;flex-direction: column;z-index: 1;position: relative;background-color: white;}#sk-container-id-1 div.sk-parallel-item:first-child::after {align-self: flex-end;width: 50%;}#sk-container-id-1 div.sk-parallel-item:last-child::after {align-self: flex-start;width: 50%;}#sk-container-id-1 div.sk-parallel-item:only-child::after {width: 0;}#sk-container-id-1 div.sk-dashed-wrapped {border: 1px dashed gray;margin: 0 0.4em 0.5em 0.4em;box-sizing: border-box;padding-bottom: 0.4em;background-color: white;}#sk-container-id-1 div.sk-label label {font-family: monospace;font-weight: bold;display: inline-block;line-height: 1.2em;}#sk-container-id-1 div.sk-label-container {text-align: center;}#sk-container-id-1 div.sk-container {/* jupyter's `normalize.less` sets `[hidden] { display: none; }` but bootstrap.min.css set `[hidden] { display: none !important; }` so we also need the `!important` here to be able to override the default hidden behavior on the sphinx rendered scikit-learn.org. See: https://github.com/scikit-learn/scikit-learn/issues/21755 */display: inline-block !important;position: relative;}#sk-container-id-1 div.sk-text-repr-fallback {display: none;}</style><div id=\"sk-container-id-1\" class=\"sk-top-container\"><div class=\"sk-text-repr-fallback\"><pre>LogisticRegression()</pre><b>In a Jupyter environment, please rerun this cell to show the HTML representation or trust the notebook. <br />On GitHub, the HTML representation is unable to render, please try loading this page with nbviewer.org.</b></div><div class=\"sk-container\" hidden><div class=\"sk-item\"><div class=\"sk-estimator sk-toggleable\"><input class=\"sk-toggleable__control sk-hidden--visually\" id=\"sk-estimator-id-1\" type=\"checkbox\" checked><label for=\"sk-estimator-id-1\" class=\"sk-toggleable__label sk-toggleable__label-arrow\">LogisticRegression</label><div class=\"sk-toggleable__content\"><pre>LogisticRegression()</pre></div></div></div></div></div>"
            ]
          },
          "metadata": {},
          "execution_count": 37
        }
      ],
      "source": [
        "lr = LogisticRegression()\n",
        "lr.fit(X_train,y_train)"
      ]
    },
    {
      "cell_type": "code",
      "execution_count": 38,
      "metadata": {
        "colab": {
          "base_uri": "https://localhost:8080/"
        },
        "id": "wdxBCcvb2f5F",
        "outputId": "f9950db7-4645-43f8-e361-312e68d37147"
      },
      "outputs": [
        {
          "output_type": "execute_result",
          "data": {
            "text/plain": [
              "81.44120632158909"
            ]
          },
          "metadata": {},
          "execution_count": 38
        }
      ],
      "source": [
        "y_train_pred = lr.predict(X_train)\n",
        "y_test_pred = lr.predict(X_test)\n",
        "accuracy_score(y_train,y_train_pred)*100"
      ]
    },
    {
      "cell_type": "code",
      "execution_count": 39,
      "metadata": {
        "colab": {
          "base_uri": "https://localhost:8080/"
        },
        "id": "yfT69Dbd2f5F",
        "outputId": "0ba9e2d8-5582-4475-e832-fff012630cb2"
      },
      "outputs": [
        {
          "output_type": "stream",
          "name": "stdout",
          "text": [
            "[[2107   12  360]\n",
            " [ 218   36  370]\n",
            " [ 312    8 3474]]\n"
          ]
        }
      ],
      "source": [
        "from sklearn.metrics import confusion_matrix\n",
        "\n",
        "y_train_pred = lr.predict(X_train)\n",
        "confusion_matrix_train = confusion_matrix(y_train, y_train_pred)\n",
        "\n",
        "print(confusion_matrix_train)"
      ]
    },
    {
      "cell_type": "code",
      "execution_count": 40,
      "metadata": {
        "colab": {
          "base_uri": "https://localhost:8080/",
          "height": 621
        },
        "id": "actCR_s92f5F",
        "outputId": "1be3a90e-8db8-42e8-a748-19059c3630d2"
      },
      "outputs": [
        {
          "output_type": "stream",
          "name": "stdout",
          "text": [
            "              precision    recall  f1-score   support\n",
            "\n",
            "           0       0.80      0.85      0.82      2479\n",
            "           1       0.64      0.06      0.11       624\n",
            "           2       0.83      0.92      0.87      3794\n",
            "\n",
            "    accuracy                           0.81      6897\n",
            "   macro avg       0.76      0.61      0.60      6897\n",
            "weighted avg       0.80      0.81      0.78      6897\n",
            "\n"
          ]
        },
        {
          "output_type": "execute_result",
          "data": {
            "text/plain": [
              "<Axes: >"
            ]
          },
          "metadata": {},
          "execution_count": 40
        },
        {
          "output_type": "display_data",
          "data": {
            "text/plain": [
              "<Figure size 640x480 with 2 Axes>"
            ],
            "image/png": "[encoded data removed]"
          },
          "metadata": {}
        }
      ],
      "source": [
        "from sklearn.metrics import classification_report\n",
        "\n",
        "y_train_pred = lr.predict(X_train)\n",
        "classification_report_train = classification_report(y_train, y_train_pred)\n",
        "\n",
        "print(classification_report_train)\n",
        "sns.heatmap(confusion_matrix_train, annot=True, fmt='d')"
      ]
    },
    {
      "cell_type": "code",
      "execution_count": 41,
      "metadata": {
        "colab": {
          "base_uri": "https://localhost:8080/"
        },
        "id": "IgJJ0sJ92f5G",
        "outputId": "db9afa33-7e65-4bc2-bc06-2a8f34d29f19"
      },
      "outputs": [
        {
          "output_type": "stream",
          "name": "stdout",
          "text": [
            "              precision    recall  f1-score   support\n",
            "\n",
            "           0       0.76      0.80      0.78      1222\n",
            "           1       0.00      0.00      0.00       307\n",
            "           2       0.80      0.89      0.84      1869\n",
            "\n",
            "    accuracy                           0.78      3398\n",
            "   macro avg       0.52      0.57      0.54      3398\n",
            "weighted avg       0.71      0.78      0.74      3398\n",
            "\n"
          ]
        }
      ],
      "source": [
        "from sklearn.linear_model import SGDClassifier\n",
        "sgd = SGDClassifier().fit(X_train, y_train)\n",
        "sgd_prediction = sgd.predict(X_test)\n",
        "print(classification_report(y_test, sgd_prediction))\n"
      ]
    },
    {
      "cell_type": "code",
      "execution_count": 42,
      "metadata": {
        "colab": {
          "base_uri": "https://localhost:8080/"
        },
        "id": "bQ__mtGJ2f5G",
        "outputId": "1a55966d-8519-4e62-91a9-32c0313e049e"
      },
      "outputs": [
        {
          "output_type": "stream",
          "name": "stdout",
          "text": [
            "              precision    recall  f1-score   support\n",
            "\n",
            "           0       0.78      0.84      0.81      1222\n",
            "           1       0.39      0.13      0.20       307\n",
            "           2       0.84      0.89      0.87      1869\n",
            "\n",
            "    accuracy                           0.80      3398\n",
            "   macro avg       0.67      0.62      0.63      3398\n",
            "weighted avg       0.78      0.80      0.79      3398\n",
            "\n"
          ]
        }
      ],
      "source": [
        "from sklearn.svm import SVC\n",
        "svc = SVC(C=1000).fit(X_train, y_train)\n",
        "svc_prediction = svc.predict(X_test)\n",
        "print(classification_report(y_test, svc_prediction))"
      ]
    }
  ],
  "metadata": {
    "kernelspec": {
      "display_name": "Python 3",
      "language": "python",
      "name": "python3"
    },
    "language_info": {
      "codemirror_mode": {
        "name": "ipython",
        "version": 3
      },
      "file_extension": ".py",
      "mimetype": "text/x-python",
      "name": "python",
      "nbconvert_exporter": "python",
      "pygments_lexer": "ipython3",
      "version": "3.10.10"
    },
    "orig_nbformat": 4,
    "colab": {
      "provenance": []
    }
  },
  "nbformat": 4,
  "nbformat_minor": 0
}