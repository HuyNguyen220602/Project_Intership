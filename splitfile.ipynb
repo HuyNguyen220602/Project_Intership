{
 "cells": [
  {
   "cell_type": "code",
   "execution_count": 2,
   "metadata": {},
   "outputs": [],
   "source": [
    "import pandas as pd\n",
    "import os\n",
    "\n",
    "def split_csv_to_parts(input_file, output_folder, num_parts=130):\n",
    "    # Create the output folder if it doesn't exist\n",
    "    if not os.path.exists(output_folder):\n",
    "        os.makedirs(output_folder)\n",
    "\n",
    "    # Read the original .csv file into a pandas DataFrame\n",
    "    df = pd.read_csv(input_file).drop(columns=[\"Time\", \"Rating\", \"sentiment\"]).rename(columns={\"Review Text\": \"review\"})\n",
    "\n",
    "    # Calculate the number of rows in each part\n",
    "    rows_per_part = len(df) // num_parts\n",
    "\n",
    "    # Split the DataFrame into equal parts and write each part to separate .csv files\n",
    "    for i in range(num_parts):\n",
    "        part_df = df.iloc[i*rows_per_part: (i+1)*rows_per_part]\n",
    "        part_output_file = os.path.join(output_folder, f\"{i+1}.csv\")\n",
    "        part_df.to_csv(part_output_file, index=False, encoding='utf-8-sig')  # Add the encoding parameter here\n",
    "\n",
    "if __name__ == \"__main__\":\n",
    "    input_file = \"F:/Project NLP/Huy_Total_data.csv\"  # Use forward slashes or escape backslashes for the file path\n",
    "    output_folder = \"F:/Project NLP/output_folder\"  # Use forward slashes or escape backslashes for the folder path\n",
    "    num_parts = 130\n",
    "\n",
    "    split_csv_to_parts(input_file, output_folder, num_parts)"
   ]
  }
 ],
 "metadata": {
  "kernelspec": {
   "display_name": "Python 3",
   "language": "python",
   "name": "python3"
  },
  "language_info": {
   "codemirror_mode": {
    "name": "ipython",
    "version": 3
   },
   "file_extension": ".py",
   "mimetype": "text/x-python",
   "name": "python",
   "nbconvert_exporter": "python",
   "pygments_lexer": "ipython3",
   "version": "3.10.10"
  },
  "orig_nbformat": 4
 },
 "nbformat": 4,
 "nbformat_minor": 2
}
